{
  "nbformat": 4,
  "nbformat_minor": 0,
  "metadata": {
    "colab": {
      "provenance": [],
      "authorship_tag": "ABX9TyPNpn8fKcNcZ+D63cCQCzFM",
      "include_colab_link": true
    },
    "kernelspec": {
      "name": "python3",
      "display_name": "Python 3"
    },
    "language_info": {
      "name": "python"
    }
  },
  "cells": [
    {
      "cell_type": "markdown",
      "metadata": {
        "id": "view-in-github",
        "colab_type": "text"
      },
      "source": [
        "<a href=\"https://colab.research.google.com/github/flari-gold/IU/blob/main/IU_RedditDataAnalysis.ipynb\" target=\"_parent\"><img src=\"https://colab.research.google.com/assets/colab-badge.svg\" alt=\"Open In Colab\"/></a>"
      ]
    },
    {
      "cell_type": "code",
      "source": [
        "#package installs with pip\n",
        "!pip install praw\n",
        "!pip install HanTa\n",
        "\n",
        "#import modules\n",
        "from google.colab import userdata\n",
        "import praw\n",
        "import collections\n",
        "import nltk\n",
        "nltk.download('stopwords')\n",
        "from nltk.corpus import stopwords\n",
        "from HanTa import HanoverTagger"
      ],
      "metadata": {
        "id": "TvJ-SwMePddJ"
      },
      "execution_count": null,
      "outputs": []
    },
    {
      "cell_type": "code",
      "source": [
        "#parameter\n",
        "#Daten der unter https://old.reddit.com/prefs/apps/ generierten Anwendung. Ausreichend für ReadOnly Zugriffe.\n",
        "#Die Daten sind im Google Colab Secrets hinterlegt\n",
        "CLIENT_ID=userdata.get('CLIENT_ID')\n",
        "CLIENT_SECRET=userdata.get('CLIENT_SECRET')\n",
        "\n",
        "#Für Write Zugriffe muss ebenfalls noch der eigene Account angegeben werden, kann in diesem Fall ignoriert werden\n",
        "#USERNAME=userdata.get('USERNAME')\n",
        "#PASSWORD=userdata.get('PASSWORD')\n",
        "\n",
        "#Parameter für die Datenanalyse\n",
        "SUBREDDIT='Sylosis'\n",
        "ANZAHL_POSTS=100\n",
        "TOPICS=5\n",
        "\n",
        "#initialisierung reddit API\n",
        "reddit = praw.Reddit(\n",
        "    client_id=CLIENT_ID,\n",
        "    client_secret=CLIENT_SECRET,\n",
        "    user_agent=\"Mein Topic Modeling Script\", #User Agent ist zwingend notwendig\n",
        "    check_for_async=False #PRAW wirft eine Warnung welche die ASYNC API empfiehlt, kann ignoriert werden\n",
        ")"
      ],
      "metadata": {
        "id": "aFH0pne4ODPu"
      },
      "execution_count": null,
      "outputs": []
    },
    {
      "cell_type": "code",
      "source": [
        "#declaration\n",
        "all_textdata = []\n",
        "user_upvotes = collections.Counter()\n",
        "user_contributionscounter = collections.Counter()\n",
        "\n",
        "#Anfragen an die Reddit API mit über request liefern die Daten im JSON Format. PRAW vereinfacht dies, in dem man die direkt die Attribute ansprechen kann\n",
        "for submission in reddit.subreddit(SUBREDDIT).hot(limit=ANZAHL_POSTS):\n",
        "\n",
        "    user_contributionscounter[submission.author] += 1\n",
        "    user_upvotes[submission.author] += submission.score\n",
        "\n",
        "    post_textdata = [submission.title]#Alle Reddit Beiträge haben einen Titel. Der Titel wird ebenfalls im Topic Modeling wie ein normaler Kommentar behandelt\n",
        "    post_textdata.append(submission.selftext)#Nicht alle Beträge haben einen Selftext. Beiträge die auf Links verweisen beispielsweise. Falls Selftext vorhanden ist, wird er im Topic Modeling behandelt, ansonsten ist der String leer\n",
        "\n",
        "#Sobald ein Kommntar auf Reddit zu viele Antworten hat, werden die Antworten hinter einer Schaltfläche \"more\" verborgen und das gleiche gilt auch beim Zugriff auf die API.\n",
        "#Das Auflösen der \"more\" stellt einen eigenen API Aufruf da und sorgt aufgrund der Zugriff Limits bei größeren Anfragen zu einer langen Laufzeit\n",
        "    submission.comments.replace_more(limit=None)\n",
        "    for comment in submission.comments.list():\n",
        "        post_textdata.append(comment.body)\n",
        "        user_contributionscounter[comment.author] += 1\n",
        "        user_upvotes[comment.author] += comment.score\n",
        "\n",
        "    all_textdata.append(post_textdata)\n",
        "\n",
        "\n",
        "print(user_contributionscounter)\n",
        "print(user_upvotes)\n",
        "#print(all_textdata)"
      ],
      "metadata": {
        "id": "ZZ7Ks5C0Pl3O"
      },
      "execution_count": null,
      "outputs": []
    },
    {
      "cell_type": "code",
      "source": [
        "#clean text\n",
        "all_cleantext = []\n",
        "\n",
        "stop_words = stopwords.words('english')\n",
        "stop_words.extend(['take', 'use', 'would', 'get'])\n",
        "\n",
        "tagger_en = HanoverTagger.HanoverTagger('morphmodel_en.pgz')\n",
        "#Vllt noch ändern, Slipknot und Slipknots z.B. sollte schon gelemmat werden\n",
        "tagger_Exclude = ['sylosis'] #Beim Testen von Subreddits von Musik Bands kommt es mit dem Tagger zu Problemen\n",
        "\n",
        "for i in all_textdata:\n",
        "    string_result = []\n",
        "    for j in i:\n",
        "        templist = []\n",
        "        for word in j.lower().split():\n",
        "          if word not in tagger_Exclude:\n",
        "            templist.append(tagger_en.analyze(word)[0])\n",
        "          else:\n",
        "            templist.append(word)\n",
        "        templist = [word for word in templist if word not in stop_words]\n",
        "        tempstring = ' '.join(templist)\n",
        "        string_result.append(tempstring.replace(\".\", \"\").replace(\",\", \"\").replace(\"!\", \"\").replace(\"?\", \"\").replace(\"(\", \"\").replace(\")\", \"\"))\n",
        "    all_cleantext.append(string_result)\n",
        "    #print(string_result)\n",
        "\n"
      ],
      "metadata": {
        "id": "ptDocgDFQRpr"
      },
      "execution_count": null,
      "outputs": []
    },
    {
      "cell_type": "code",
      "source": [
        "from gensim import corpora\n",
        "from gensim.models import LdaModel\n",
        "\n",
        "#all_cleantext ist eine Liste, welche Listen beinhaltet, welche wiederum Strings beinhalten\n",
        "#Jeder String repräsentiert einen Post/Kommentar\n",
        "#Für die Verarbeitung muss aber in der Liste für jedes Wort ein eigener String stehen\n",
        "templist = []\n",
        "for i in all_cleantext:\n",
        "    long_string = ' '.join(i)\n",
        "    templist.append(long_string.split())\n",
        "\n",
        "# Create dictionary and corpus\n",
        "dictionary = corpora.Dictionary(templist)\n",
        "corpus = [dictionary.doc2bow(text) for text in templist]\n",
        "\n",
        "# Train LDA model\n",
        "lda_model = LdaModel(corpus, num_topics=TOPICS, id2word=dictionary, passes=10)\n",
        "\n",
        "from pprint import pprint\n",
        "pprint(lda_model.print_topics())\n"
      ],
      "metadata": {
        "id": "rdiN6Pv2JWmi"
      },
      "execution_count": null,
      "outputs": []
    },
    {
      "cell_type": "code",
      "source": [
        "pip install pyLDAvis"
      ],
      "metadata": {
        "colab": {
          "base_uri": "https://localhost:8080/"
        },
        "id": "afAGKD3U6EwA",
        "outputId": "526ac385-f17e-4713-944a-40b05e180df7"
      },
      "execution_count": 8,
      "outputs": [
        {
          "output_type": "stream",
          "name": "stderr",
          "text": [
            "/usr/local/lib/python3.10/dist-packages/ipykernel/ipkernel.py:283: DeprecationWarning: `should_run_async` will not call `transform_cell` automatically in the future. Please pass the result to `transformed_cell` argument and any exception that happen during thetransform in `preprocessing_exc_tuple` in IPython 7.17 and above.\n",
            "  and should_run_async(code)\n"
          ]
        },
        {
          "output_type": "stream",
          "name": "stdout",
          "text": [
            "Requirement already satisfied: pyLDAvis in /usr/local/lib/python3.10/dist-packages (3.4.1)\n",
            "Requirement already satisfied: numpy>=1.24.2 in /usr/local/lib/python3.10/dist-packages (from pyLDAvis) (1.26.4)\n",
            "Requirement already satisfied: scipy in /usr/local/lib/python3.10/dist-packages (from pyLDAvis) (1.13.1)\n",
            "Requirement already satisfied: pandas>=2.0.0 in /usr/local/lib/python3.10/dist-packages (from pyLDAvis) (2.2.2)\n",
            "Requirement already satisfied: joblib>=1.2.0 in /usr/local/lib/python3.10/dist-packages (from pyLDAvis) (1.4.2)\n",
            "Requirement already satisfied: jinja2 in /usr/local/lib/python3.10/dist-packages (from pyLDAvis) (3.1.4)\n",
            "Requirement already satisfied: numexpr in /usr/local/lib/python3.10/dist-packages (from pyLDAvis) (2.10.1)\n",
            "Requirement already satisfied: funcy in /usr/local/lib/python3.10/dist-packages (from pyLDAvis) (2.0)\n",
            "Requirement already satisfied: scikit-learn>=1.0.0 in /usr/local/lib/python3.10/dist-packages (from pyLDAvis) (1.5.2)\n",
            "Requirement already satisfied: gensim in /usr/local/lib/python3.10/dist-packages (from pyLDAvis) (4.3.3)\n",
            "Requirement already satisfied: setuptools in /usr/local/lib/python3.10/dist-packages (from pyLDAvis) (75.1.0)\n",
            "Requirement already satisfied: python-dateutil>=2.8.2 in /usr/local/lib/python3.10/dist-packages (from pandas>=2.0.0->pyLDAvis) (2.8.2)\n",
            "Requirement already satisfied: pytz>=2020.1 in /usr/local/lib/python3.10/dist-packages (from pandas>=2.0.0->pyLDAvis) (2024.2)\n",
            "Requirement already satisfied: tzdata>=2022.7 in /usr/local/lib/python3.10/dist-packages (from pandas>=2.0.0->pyLDAvis) (2024.2)\n",
            "Requirement already satisfied: threadpoolctl>=3.1.0 in /usr/local/lib/python3.10/dist-packages (from scikit-learn>=1.0.0->pyLDAvis) (3.5.0)\n",
            "Requirement already satisfied: smart-open>=1.8.1 in /usr/local/lib/python3.10/dist-packages (from gensim->pyLDAvis) (7.0.5)\n",
            "Requirement already satisfied: MarkupSafe>=2.0 in /usr/local/lib/python3.10/dist-packages (from jinja2->pyLDAvis) (3.0.2)\n",
            "Requirement already satisfied: six>=1.5 in /usr/local/lib/python3.10/dist-packages (from python-dateutil>=2.8.2->pandas>=2.0.0->pyLDAvis) (1.16.0)\n",
            "Requirement already satisfied: wrapt in /usr/local/lib/python3.10/dist-packages (from smart-open>=1.8.1->gensim->pyLDAvis) (1.16.0)\n"
          ]
        }
      ]
    },
    {
      "cell_type": "code",
      "source": [
        "import pyLDAvis\n",
        "import pyLDAvis.gensim\n",
        "\n",
        "# Visualisierung\n",
        "pyLDAvis.enable_notebook()\n",
        "panel = pyLDAvis.gensim.prepare(lda_model, corpus, dictionary)\n",
        "pyLDAvis.display(panel)"
      ],
      "metadata": {
        "colab": {
          "base_uri": "https://localhost:8080/",
          "height": 916
        },
        "id": "9PjkrBj-6GLL",
        "outputId": "988e9bce-e095-4c9e-8bde-7cc117fd1c85"
      },
      "execution_count": 10,
      "outputs": [
        {
          "output_type": "stream",
          "name": "stderr",
          "text": [
            "/usr/local/lib/python3.10/dist-packages/ipykernel/ipkernel.py:283: DeprecationWarning: `should_run_async` will not call `transform_cell` automatically in the future. Please pass the result to `transformed_cell` argument and any exception that happen during thetransform in `preprocessing_exc_tuple` in IPython 7.17 and above.\n",
            "  and should_run_async(code)\n"
          ]
        },
        {
          "output_type": "execute_result",
          "data": {
            "text/plain": [
              "<IPython.core.display.HTML object>"
            ],
            "text/html": [
              "\n",
              "<link rel=\"stylesheet\" type=\"text/css\" href=\"https://cdn.jsdelivr.net/gh/bmabey/pyLDAvis@3.4.0/pyLDAvis/js/ldavis.v1.0.0.css\">\n",
              "\n",
              "\n",
              "<div id=\"ldavis_el4771338564757447369883045404\" style=\"background-color:white;\"></div>\n",
              "<script type=\"text/javascript\">\n",
              "\n",
              "var ldavis_el4771338564757447369883045404_data = {\"mdsDat\": {\"x\": [0.04984253499627087, 0.06721905258092667, 0.05296408659718559, -0.10601859874861597, -0.06400707542576711], \"y\": [-0.03961070408451365, -0.055736683119448294, 0.08551513673121444, -0.04334447514007544, 0.053176725612822974], \"topics\": [1, 2, 3, 4, 5], \"cluster\": [1, 1, 1, 1, 1], \"Freq\": [38.06540177747163, 33.19432752408131, 11.947560310431136, 9.80598182598882, 6.986728562027107]}, \"tinfo\": {\"Term\": [\"tour\", \"play\", \"album\", \"set\", \"ticket\", \"show\", \"song\", \"it'\", \"-\", \"riff\", \"learn\", \"tera\", \"know\", \"11\", \"12\", \"2\", \"5\", \"3\", \"one\", \"6\", \"4\", \"10\", \"7\", \"monolith\", \"merch\", \"track\", \"1\", \"first\", \"8\", \"much\", \"dallas\", \"tech\", \"forward\", \"energy\", \"al\", \"garrett\", \"preset\", \"ben\", \"america\", \"2011\", \"fill\", \"\\ud83e\\udd19\\ud83c\\udffb\", \"artwork\", \"slipknot\", \"company\", \"lineup\", \"performance\", \"bus\", \"hoop\", \"arm\", \"disappointing\", \"remind\", \"sad\", \"young\", \"t-shirt\", \"rob\", \"saviour\", \"ass\", \"add\", \"league\", \"support\", \"god\", \"wish\", \"saw\", \"tour\", \"that\", \"stage\", \"play\", \"see\", \"awesome\", \"wait\", \"fuck\", \"bailey\", \"show\", \"good\", \"great\", \"-\", \"band\", \"i'm\", \"josh\", \"hope\", \"sylosis\", \"guy\", \"back\", \"time\", \"go\", \"thank\", \"think\", \"new\", \"song\", \"year\", \"like\", \"also\", \"one\", \"make\", \"really\", \"sound\", \"well\", \"love\", \"it\", \"it'\", \"know\", \"suffering\", \"towards\", \"discord\", \"personal\", \"clearly\", \"element\", \"edit:\", \"4th\", \"disappoint\", \"gold\", \"bottom\", \"straight\", \"\\\"metalcore\\\"\", \"cleveland\", \"master\", \"tabs\", \"metalcore\", \"door\", \"entirely\", \"incredibly\", \"view\", \"policy\", \"anterior\", \"bonus\", \"bewick\", \"joe\", \"oppressor\", \"absentia\", \"luci\", \"supreme\", \"album\", \"check\", \"previous\", \"compare\", \"edge\", \"people\", \"Jamie\", \"return\", \"favorite\", \"call\", \"next\", \"monolith\", \"earth\", \"they've\", \"listen\", \"release\", \"like\", \"dormant\", \"still\", \"heart\", \"opinion\", \"quite\", \"love\", \"different\", \"sylosis\", \"cycle\", \"say\", \"think\", \"way\", \"work\", \"it\", \"song\", \"favourite\", \"They're\", \"really\", \"it'\", \"come\", \"josh\", \"one\", \"make\", \"time\", \"band\", \"go\", \"first\", \"know\", \"much\", \"sound\", \"good\", \"i'm\", \"see\", \"regarding\", \"leak\", \"complement\", \"challenging\", \"fast\", \"min\", \"metallica\", \"useful\", \"20\", \"replicate\", \"reverb\", \"lick\", \"speed\", \"flat\", \"pun\", \"m&g\", \"hmv\", \"basingstoke\", \"press\", \"trick\", \"scrap\", \"attempt\", \"delay\", \"intimidate\", \"complementary\", \"yourself\", \"sync\", \"frequently\", \"ug\", \"{eg\", \"learn\", \"easy\", \"information\", \"difficult\", \"alternate\", \"ambient\", \"practice\", \"riff\", \"tab\", \"rhythm\", \"note\", \"riffs\", \"pro\", \"ear\", \"stretch\", \"ambience\", \"bridge\", \"clean\", \"try\", \"song\", \"it'\", \"play\", \"guitar\", \":\", \"much\", \"part\", \"one\", \"pick\", \"stuff\", \"solo\", \"like\", \"sound\", \"well\", \"sylosis\", \"love\", \"new\", \"find\", \"even\", \"say\", \"yeah\", \"band\", \"good\", \"also\", \"josh\", \"9\", \"code\", \"presale\", \"8\", \"died\", \"snag\", \"body\", \"strum\", \"nation\", \"sacramento\", \"light\", \"tomorroware\", \"sharingill\", \"\\ud83d\\ude01\", \"artist\", \"interpretation\", \"depression\", \"invidia\", \"guilt\", \"theme\", \"spirit\", \"nature\", \"vanish\", \"14\", \"sentence\", \"revelation\", \"have\", \"final\", \"tickets\", \"bet\", \"7\", \"feeling\", \"10\", \"1\", \"11\", \"someone\", \"12\", \"kingdom\", \"sever\", \"6\", \"apparition\", \"pawn\", \"indoctrinate\", \"5\", \"solitude\", \"cry\", \"4\", \"3\", \"remain\", \"2\", \"lose\", \"world\", \"-\", \"godless\", \"know\", \"poison\", \"throne\", \"state\", \"one\", \"set\", \"song\", \"see\", \"eote\", \"time\", \"it'\", \"play\", \"love\", \"like\", \"think\", \"album\", \"wither\", \"ticket\", \"malevolence\", \"edinburgh\", \"photo\", \"spare\", \"hat\", \"apparation\", \"announcement\", \"they'd\", \"southampton\", \"calcified\", \"setlistfm\", \"double\", \"bother\", \"van\", \"9th\", \"islington\", \"unwell\", \"attend\", \"voltage\", \"rarity\", \"23rd\", \"xo\", \"weeks\", \"entry\", \"x\", \"delete\", \"address\", \"x1\", \"depending\", \"tera\", \"european\", \"setlist\", \"empyreal\", \"norwich\", \"download\", \"mood\", \"unable\", \"empty\", \"shame\", \"apparition\", \"tie\", \"calcify\", \"choose\", \"arguably\", \"available\", \"alter\", \"tour\", \"gig\", \"set\", \"sign\", \"two\", \"play\", \"anyone\", \"merch\", \"track\", \"show\", \"first\", \"sling\", \"either\", \"arrow\", \"shirt\", \"go\", \"know\", \"it'\", \"sylosis\", \"song\", \"time\", \"also\", \"monolith\", \"one\", \"last\", \"see\"], \"Freq\": [81.0, 118.0, 129.0, 50.0, 14.0, 61.0, 122.0, 80.0, 55.0, 39.0, 17.0, 20.0, 63.0, 15.0, 14.0, 29.0, 17.0, 22.0, 89.0, 14.0, 22.0, 13.0, 12.0, 39.0, 30.0, 31.0, 12.0, 56.0, 9.0, 52.0, 7.384074552577791, 7.381409733320826, 7.3350290751313105, 6.476711427276062, 6.4731783114301304, 5.586875294258226, 5.583245133499409, 10.285508375629187, 5.556791711772465, 5.555466452821774, 5.545563785605949, 5.526619937593941, 4.68304971141249, 4.680198293516015, 4.6794035467557595, 4.667710486024331, 4.646414405527387, 4.6513609720167715, 4.62728191582507, 9.14040496325122, 4.543870961929587, 3.789512932383321, 11.56952425986944, 3.785627049766342, 3.7846314030109927, 3.7784644541785255, 3.77140741621525, 3.7681477286677265, 4.4852660498012735, 3.7581214568786487, 16.579617370753844, 8.209644820215711, 9.605965163747625, 16.084546663520396, 53.84204314630753, 10.90843456380847, 8.274532113546554, 65.91461554575801, 52.360706010953244, 19.03607813517902, 15.614875163802347, 18.781835445793874, 13.795505739752944, 35.87389354166211, 42.66947548420288, 32.47051686951117, 32.01418921556899, 46.027738870675726, 33.732757237333985, 40.57481449941789, 18.104953648084614, 60.15300526746135, 23.747635215386946, 25.7081086237875, 38.25021495753565, 32.11375389110393, 17.510025428035238, 32.345185237317274, 26.72150812853394, 41.90126659177448, 24.895742593454276, 40.6401158510437, 24.610965828882502, 31.376991636551743, 24.264254660399306, 24.333631217349346, 22.200534998926592, 19.977101884404593, 23.00224039019809, 20.521506820263912, 21.698099774584833, 20.121594609011975, 6.237609329141197, 4.561889693960299, 4.557563648145462, 4.555288829215716, 4.555149566707159, 4.552344718826937, 4.547887427748172, 5.239729614312231, 4.452355425423355, 3.683421789986251, 3.6821129005668123, 3.679931319222752, 3.6792988477020163, 3.676127582048748, 3.6750743536524797, 3.6709828864767884, 6.4350419953761575, 3.579401307209189, 3.547374196526056, 3.546872970269247, 2.811956503793198, 2.8072105919077877, 2.808951521732236, 2.8083831881685324, 2.8078213871745263, 2.8073115498031163, 2.8062565397969306, 2.8070778619689287, 2.8070368849408247, 2.805931395986975, 105.7936407371795, 9.29005347830724, 5.436497146177967, 5.436466264939395, 23.747425411307113, 12.418196451260762, 8.104633189375614, 5.492142168733319, 18.64391234646226, 5.453904068942563, 15.379426923607182, 26.180824252075848, 22.8462158506053, 7.216589725964619, 29.136379702964845, 18.680674085501323, 67.36310332052732, 13.995991381997552, 30.567435302191136, 13.927696335157504, 8.060889321069604, 9.809955164141837, 41.49269727856869, 15.331704720355248, 58.507290535478134, 12.143001856953779, 26.562563870413083, 36.32221112144262, 21.06124225351449, 15.529839934767702, 26.220832084384718, 44.948493162111994, 13.336774333178957, 13.05549019617373, 24.33305721957043, 30.3057714413381, 20.8197462169283, 29.964609770483353, 31.656599958236427, 23.393025191024904, 29.360544238272944, 29.874783373919545, 25.996520269323433, 22.937035197763166, 24.180541908707184, 21.195917710403172, 21.07144493964242, 22.881135404989603, 21.159313940776798, 21.64317781506883, 3.0563693035961874, 3.0559569792763965, 3.05051275925303, 3.0473584461440852, 2.3267397240712038, 2.3263754935678738, 2.323788259992576, 2.323080532764568, 2.3226959959831768, 2.3212991378028587, 2.3182856861385703, 4.502223754122191, 4.500856179732341, 1.6064055036414748, 1.6063039722511685, 1.6025934808736413, 1.5997395938048553, 1.599450069029761, 1.5992009430604939, 1.5990977016678245, 1.598583632207432, 1.5979168381609896, 1.5979576644674074, 1.5977088591235833, 1.5979400300680384, 1.5975592339168163, 1.5973129935765369, 1.5974183724721598, 1.5972347609684272, 1.5975717383090962, 12.499127182541592, 7.412654188545482, 3.0560414106430724, 8.141077575153629, 3.054579358622663, 3.0495880754752096, 5.225659918838496, 14.004182342377044, 6.680796262191146, 3.0532707793143374, 3.0477534566899505, 4.220371759630971, 2.3241655292639245, 2.3210334461856994, 2.324469695934252, 2.3243324682446174, 4.515760987829292, 4.399545807231555, 8.726405399018041, 20.070217365029745, 15.373972895290363, 18.3867798886878, 10.362451014869182, 7.336597558442839, 10.900138172898968, 6.71086451624246, 12.944324587759805, 5.9676782517334965, 8.510986141330209, 6.709767549726563, 13.234815514189163, 8.75286768558627, 7.850014652933829, 12.743743020576174, 9.68362197179545, 8.467154505759279, 6.706200484797236, 6.693352809543036, 7.400863722252239, 6.326457695030744, 7.8111839192736445, 7.150130350763838, 6.475414718374427, 6.211612226325812, 7.784716649297204, 4.3157049043777285, 4.311680052969197, 7.7842619193324705, 2.9196130365249506, 2.2350663721187565, 2.2210757065217024, 2.2164559518298326, 2.2160987642495096, 2.2160759575768956, 3.6118737947888975, 1.5382716473391571, 1.538219191992145, 1.5368548266620015, 1.5354309885471185, 1.5302251023690703, 1.5296628301711648, 1.5299784394329532, 1.529636339343744, 1.5295759893792886, 1.529258099450239, 1.5291633640409195, 1.528957226807678, 1.5292005564608744, 1.52877056296413, 1.5289065258200978, 1.5247193961641203, 1.5237215165192886, 1.5013592231494273, 1.4951887901557523, 8.483494852850445, 4.473501465218536, 8.488343902320056, 7.919239527043308, 9.745245594594257, 7.731364473743569, 8.491205613425276, 4.309438332487189, 5.704307411815973, 7.870429037186826, 5.004883603991815, 2.3597950120287727, 2.358869061120646, 7.850107941015913, 4.3055755838901595, 2.21191812572343, 8.569156013444656, 8.584351573099498, 2.9181090241840324, 10.012689269053308, 6.6136810267988535, 4.474023913457339, 10.893014200563746, 5.717811768978521, 10.6785142867826, 4.4690257434360205, 5.013854696382483, 4.857372150756126, 8.106712481161269, 6.760457754304488, 8.698069151471502, 7.705473637248444, 5.812436653653786, 7.214723866404172, 7.116657279395518, 6.49382740087804, 6.071402912466289, 6.290831874507139, 5.795909886062061, 5.17472559669165, 4.953477339708285, 12.055669882638828, 3.1225993060022663, 1.9805226781767329, 1.974474298644608, 1.3604075292459505, 1.3573368404060278, 1.3556496240109581, 1.3535500408291548, 1.3499597373385945, 1.3468921734364312, 1.2662571544747652, 1.2329991918862522, 1.9179215500272062, 0.7435835022646408, 0.74358325226962, 0.7435823147882922, 0.7435827522795785, 0.7435820647932714, 0.7435778148779186, 0.7435758149177526, 0.7435735024638106, 0.7435591902488724, 0.7424810242231151, 0.7424799617442769, 0.7423428394753933, 0.7421296562214452, 0.7421863425924012, 0.7419079106380363, 0.7418799111957118, 1.3543187755179737, 7.606155005318549, 1.3470877945401714, 4.805445788108987, 4.703022328115986, 1.3629763530817094, 1.3545816452822967, 1.3564243585802753, 1.28483653442219, 1.9633576450592245, 1.8399832273544146, 3.204428926170606, 1.971467483532488, 1.223931372493459, 1.9779333547492721, 1.2540820219715088, 1.9791463305899712, 3.5492538081623133, 11.32215349236369, 4.351956320431152, 8.107897511922259, 4.454758272885575, 4.513409604704697, 12.061231771860564, 4.474671376268723, 5.328506870102525, 4.922043965778746, 6.680710437749898, 6.242365668429347, 3.6319021620236227, 2.903147426908788, 3.2305474059589128, 2.593189600456678, 5.672695014776371, 5.40693380804338, 5.815119678050197, 7.141242765152417, 6.655728935315981, 5.744853577566838, 4.9246459139547545, 4.3622286158339385, 5.617884106466073, 3.6306109377414275, 3.9370358345602408], \"Total\": [81.0, 118.0, 129.0, 50.0, 14.0, 61.0, 122.0, 80.0, 55.0, 39.0, 17.0, 20.0, 63.0, 15.0, 14.0, 29.0, 17.0, 22.0, 89.0, 14.0, 22.0, 13.0, 12.0, 39.0, 30.0, 31.0, 12.0, 56.0, 9.0, 52.0, 8.001606526965247, 8.000088010673355, 7.997620290279114, 7.095235854644065, 7.09445215859361, 6.193727078392184, 6.193749455371841, 11.41830575937388, 6.1869512773531765, 6.18753907998485, 6.184574208077617, 6.188848394238001, 5.287921742598921, 5.286518184432639, 5.2879241507625325, 5.2882637193937745, 5.280857515044291, 5.286853453070457, 5.284944397344144, 10.504971995438018, 5.249947763635605, 4.384460195357504, 13.393107045769657, 4.384648944897704, 4.3839400803079425, 4.3838058786497, 4.381789867083246, 4.382622407272337, 5.22446630236814, 4.381933120829521, 19.33774530001403, 9.619829325177221, 12.071911161151894, 21.174022613354882, 81.69445477326164, 14.0643535039796, 10.662332192976178, 118.0513696935488, 90.90173928519242, 28.0701061983976, 22.427130783840532, 28.0252064701761, 19.46476708484708, 61.951600817650814, 77.60539853361063, 56.789386865961525, 55.81621361755706, 88.57533729410044, 63.73097374410518, 81.82925902298726, 28.940794257663793, 142.1208622481467, 42.020752495157716, 47.137509073619725, 84.80923029000597, 70.82211748242534, 29.283939996609107, 79.02420691937557, 58.88960054989793, 122.2737752057037, 53.77433379115723, 129.67819650124562, 57.06886477817804, 89.70251277017532, 55.77236033891632, 56.4128566682624, 52.392808006987636, 42.770643866780766, 82.4295991403778, 57.58364144536629, 80.309621068659, 63.536061910925355, 6.9144138512239826, 5.167222898255904, 5.166641349605912, 5.16521917710472, 5.16631430480909, 5.164890919089311, 5.165327262639164, 6.051895454279301, 5.166113066893037, 4.286469744248829, 4.286136254621366, 4.285945770486701, 4.285552626891947, 4.284822425060666, 4.286301019044243, 4.283648323293443, 7.676959448992067, 4.287113987505127, 4.2627307789744355, 4.264127857753717, 3.406913054207903, 3.404864463616151, 3.40699073920087, 3.406318021785952, 3.40688692871071, 3.4067669775976395, 3.405852765029886, 3.4069587761810105, 3.4070181620606164, 3.4057850876274136, 129.87997618632178, 11.362797917981707, 6.721362719285019, 6.776364318099195, 32.15216188397859, 16.284482608527455, 10.489881805666007, 6.944599037988728, 25.62460230233314, 6.948511221456212, 21.843028548309046, 39.94615558274731, 34.80973913857045, 9.502673783816487, 47.322100082782654, 28.586178976876912, 129.67819650124562, 20.46780101852663, 53.028840811608966, 21.167583486683878, 11.04961525308088, 14.050557509906014, 82.4295991403778, 24.415467214520064, 142.1208622481467, 18.777009274950416, 52.16440037414678, 79.02420691937557, 38.940515890594895, 27.187700344998238, 57.58364144536629, 122.2737752057037, 22.980358656502297, 22.375367615006347, 56.4128566682624, 80.309621068659, 45.49660747624323, 81.82925902298726, 89.70251277017532, 55.77236033891632, 84.80923029000597, 88.57533729410044, 70.82211748242534, 56.7745452997908, 63.536061910925355, 52.73520227877828, 52.392808006987636, 77.60539853361063, 63.73097374410518, 90.90173928519242, 3.6900652695267415, 3.690021242589329, 3.6914874852534227, 3.6911560657979594, 2.959362025503233, 2.9596346749691187, 2.959868189004898, 2.959421127031356, 2.9599906366501147, 2.9601968570704074, 2.961540334365458, 5.8533101556246265, 6.03036883300262, 2.2279004793123214, 2.227882554902722, 2.2282214676378556, 2.2288200758030765, 2.2285624438852163, 2.228771702219039, 2.228867536438712, 2.228921061701794, 2.2288820191890792, 2.229061387931303, 2.2287298272076717, 2.2291273993845495, 2.2286945829645495, 2.2286859877765828, 2.228836768641969, 2.2287108404924263, 2.2292019985637905, 17.571158499905675, 10.78521622955418, 4.389609323999848, 13.016677390727127, 4.592358734468765, 4.595950988427054, 8.522483711817076, 39.99552426712417, 15.26680063665828, 5.472124769242247, 5.498333577307918, 8.779909608166983, 3.839022155232936, 3.839171284695039, 3.860893372614861, 3.8633916207388883, 10.574045206600797, 10.502803216045887, 31.366043955934177, 122.2737752057037, 80.309621068659, 118.0513696935488, 44.66853583959704, 25.71258621091888, 52.73520227877828, 22.64185744572469, 89.70251277017532, 19.158742921884205, 42.14251455475418, 26.85301297324392, 129.67819650124562, 52.392808006987636, 42.770643866780766, 142.1208622481467, 82.4295991403778, 58.88960054989793, 31.379747171947823, 34.937199737466464, 52.16440037414678, 35.5194057849646, 88.57533729410044, 77.60539853361063, 57.06886477817804, 81.82925902298726, 8.46997205827546, 4.968119305879891, 4.96889805619056, 9.349860335428614, 3.566616264734389, 2.8658137628021794, 2.867837522220562, 2.870483242407755, 2.8705326042529054, 2.8705153871071656, 5.004670889223281, 2.1660289087526388, 2.1660454077252207, 2.166027448927789, 2.166192189133862, 2.167156492962571, 2.1667408840325257, 2.167230902708705, 2.1669752712675843, 2.1669553669680774, 2.167025595879409, 2.167092990186826, 2.1669836786543892, 2.1674693858728387, 2.167268595082454, 2.167689948820699, 2.168166272547456, 2.1684136127791342, 2.173591246913247, 2.1766152140311052, 12.56947223710249, 6.702265370742737, 13.441754786245468, 12.605112306705028, 15.778326832871668, 12.58353413453817, 14.554546803613029, 6.941379826305087, 9.812202241559737, 14.726901890354881, 9.508329051233646, 3.7320931117409244, 3.732187894120715, 17.410118807228816, 8.405883090879042, 3.5123986899432804, 22.02756860592756, 22.1656056827171, 5.2130228017767335, 29.12731925651978, 16.31674303406447, 11.20820567914495, 55.81621361755706, 17.926282184907485, 63.536061910925355, 12.622395158697744, 16.31435666551442, 15.651026246691258, 89.70251277017532, 50.81144336483365, 122.2737752057037, 90.90173928519242, 32.22323685685429, 84.80923029000597, 80.309621068659, 118.0513696935488, 82.4295991403778, 129.67819650124562, 79.02420691937557, 129.87997618632178, 5.781105171561657, 14.916684374638734, 3.9094942392925742, 2.626692280920385, 2.630187052236202, 2.0077870666107516, 2.009207602739676, 2.0092148405999457, 2.009822573203148, 2.011660748878083, 2.013445696648874, 2.0500528002365326, 2.0386299011406153, 3.559240367059772, 1.386702402143605, 1.3867026966972968, 1.3867014637367736, 1.386702555508157, 1.3867025225952898, 1.3867016788876976, 1.3867004490336718, 1.3867003153914326, 1.386695983785957, 1.3868444334057215, 1.3871603334726421, 1.387217101135194, 1.3868865854427, 1.387281558331392, 1.3869147488227074, 1.3869179553309439, 2.740332566724918, 20.052135300781455, 2.7435988967325855, 12.47795644223201, 12.813144250820041, 2.909191989968275, 2.8889230888556066, 2.9118656596465273, 2.738898278165235, 4.798291173670273, 4.451489385274251, 9.508329051233646, 5.089958865091834, 2.769617862529017, 5.66396774369533, 2.934833410190075, 5.700023721920851, 13.734409853934856, 81.69445477326164, 18.826910442642536, 50.81144336483365, 20.306974952003234, 20.98434949092979, 118.0513696935488, 22.368208750572293, 30.505498791057143, 31.0238682613629, 61.951600817650814, 56.7745452997908, 18.375985560295273, 11.678978575554298, 15.852586494118464, 9.58226727209163, 70.82211748242534, 63.536061910925355, 80.309621068659, 142.1208622481467, 122.2737752057037, 84.80923029000597, 57.06886477817804, 39.94615558274731, 89.70251277017532, 39.95297966487986, 90.90173928519242], \"Category\": [\"Default\", \"Default\", \"Default\", \"Default\", \"Default\", \"Default\", \"Default\", \"Default\", \"Default\", \"Default\", \"Default\", \"Default\", \"Default\", \"Default\", \"Default\", \"Default\", \"Default\", \"Default\", \"Default\", \"Default\", \"Default\", \"Default\", \"Default\", \"Default\", \"Default\", \"Default\", \"Default\", \"Default\", \"Default\", \"Default\", \"Topic1\", \"Topic1\", \"Topic1\", \"Topic1\", \"Topic1\", \"Topic1\", \"Topic1\", \"Topic1\", \"Topic1\", \"Topic1\", \"Topic1\", \"Topic1\", \"Topic1\", \"Topic1\", \"Topic1\", \"Topic1\", \"Topic1\", \"Topic1\", \"Topic1\", \"Topic1\", \"Topic1\", \"Topic1\", \"Topic1\", \"Topic1\", \"Topic1\", \"Topic1\", \"Topic1\", \"Topic1\", \"Topic1\", \"Topic1\", \"Topic1\", \"Topic1\", \"Topic1\", \"Topic1\", \"Topic1\", \"Topic1\", \"Topic1\", \"Topic1\", \"Topic1\", \"Topic1\", \"Topic1\", \"Topic1\", \"Topic1\", \"Topic1\", \"Topic1\", \"Topic1\", \"Topic1\", \"Topic1\", \"Topic1\", \"Topic1\", \"Topic1\", \"Topic1\", \"Topic1\", \"Topic1\", \"Topic1\", \"Topic1\", \"Topic1\", \"Topic1\", \"Topic1\", \"Topic1\", \"Topic1\", \"Topic1\", \"Topic1\", \"Topic1\", \"Topic1\", \"Topic1\", \"Topic1\", \"Topic1\", \"Topic1\", \"Topic1\", \"Topic1\", \"Topic1\", \"Topic2\", \"Topic2\", \"Topic2\", \"Topic2\", \"Topic2\", \"Topic2\", \"Topic2\", \"Topic2\", \"Topic2\", \"Topic2\", \"Topic2\", \"Topic2\", \"Topic2\", \"Topic2\", \"Topic2\", \"Topic2\", \"Topic2\", \"Topic2\", \"Topic2\", \"Topic2\", \"Topic2\", \"Topic2\", \"Topic2\", \"Topic2\", \"Topic2\", \"Topic2\", \"Topic2\", \"Topic2\", \"Topic2\", \"Topic2\", \"Topic2\", \"Topic2\", \"Topic2\", \"Topic2\", \"Topic2\", \"Topic2\", \"Topic2\", \"Topic2\", \"Topic2\", \"Topic2\", \"Topic2\", \"Topic2\", \"Topic2\", \"Topic2\", \"Topic2\", \"Topic2\", \"Topic2\", \"Topic2\", \"Topic2\", \"Topic2\", \"Topic2\", \"Topic2\", \"Topic2\", \"Topic2\", \"Topic2\", \"Topic2\", \"Topic2\", \"Topic2\", \"Topic2\", \"Topic2\", \"Topic2\", \"Topic2\", \"Topic2\", \"Topic2\", \"Topic2\", \"Topic2\", \"Topic2\", \"Topic2\", \"Topic2\", \"Topic2\", \"Topic2\", \"Topic2\", \"Topic2\", \"Topic2\", \"Topic2\", \"Topic2\", \"Topic2\", \"Topic2\", \"Topic2\", \"Topic2\", \"Topic3\", \"Topic3\", \"Topic3\", \"Topic3\", \"Topic3\", \"Topic3\", \"Topic3\", \"Topic3\", \"Topic3\", \"Topic3\", \"Topic3\", \"Topic3\", \"Topic3\", \"Topic3\", \"Topic3\", \"Topic3\", \"Topic3\", \"Topic3\", \"Topic3\", \"Topic3\", \"Topic3\", \"Topic3\", \"Topic3\", \"Topic3\", \"Topic3\", \"Topic3\", \"Topic3\", \"Topic3\", \"Topic3\", \"Topic3\", \"Topic3\", \"Topic3\", \"Topic3\", \"Topic3\", \"Topic3\", \"Topic3\", \"Topic3\", \"Topic3\", \"Topic3\", \"Topic3\", \"Topic3\", \"Topic3\", \"Topic3\", \"Topic3\", \"Topic3\", \"Topic3\", \"Topic3\", \"Topic3\", \"Topic3\", \"Topic3\", \"Topic3\", \"Topic3\", \"Topic3\", \"Topic3\", \"Topic3\", \"Topic3\", \"Topic3\", \"Topic3\", \"Topic3\", \"Topic3\", \"Topic3\", \"Topic3\", \"Topic3\", \"Topic3\", \"Topic3\", \"Topic3\", \"Topic3\", \"Topic3\", \"Topic3\", \"Topic3\", \"Topic3\", \"Topic3\", \"Topic3\", \"Topic3\", \"Topic4\", \"Topic4\", \"Topic4\", \"Topic4\", \"Topic4\", \"Topic4\", \"Topic4\", \"Topic4\", \"Topic4\", \"Topic4\", \"Topic4\", \"Topic4\", \"Topic4\", \"Topic4\", \"Topic4\", \"Topic4\", \"Topic4\", \"Topic4\", \"Topic4\", \"Topic4\", \"Topic4\", \"Topic4\", \"Topic4\", \"Topic4\", \"Topic4\", \"Topic4\", \"Topic4\", \"Topic4\", \"Topic4\", \"Topic4\", \"Topic4\", \"Topic4\", \"Topic4\", \"Topic4\", \"Topic4\", \"Topic4\", \"Topic4\", \"Topic4\", \"Topic4\", \"Topic4\", \"Topic4\", \"Topic4\", \"Topic4\", \"Topic4\", \"Topic4\", \"Topic4\", \"Topic4\", \"Topic4\", \"Topic4\", \"Topic4\", \"Topic4\", \"Topic4\", \"Topic4\", \"Topic4\", \"Topic4\", \"Topic4\", \"Topic4\", \"Topic4\", \"Topic4\", \"Topic4\", \"Topic4\", \"Topic4\", \"Topic4\", \"Topic4\", \"Topic4\", \"Topic4\", \"Topic4\", \"Topic4\", \"Topic4\", \"Topic4\", \"Topic5\", \"Topic5\", \"Topic5\", \"Topic5\", \"Topic5\", \"Topic5\", \"Topic5\", \"Topic5\", \"Topic5\", \"Topic5\", \"Topic5\", \"Topic5\", \"Topic5\", \"Topic5\", \"Topic5\", \"Topic5\", \"Topic5\", \"Topic5\", \"Topic5\", \"Topic5\", \"Topic5\", \"Topic5\", \"Topic5\", \"Topic5\", \"Topic5\", \"Topic5\", \"Topic5\", \"Topic5\", \"Topic5\", \"Topic5\", \"Topic5\", \"Topic5\", \"Topic5\", \"Topic5\", \"Topic5\", \"Topic5\", \"Topic5\", \"Topic5\", \"Topic5\", \"Topic5\", \"Topic5\", \"Topic5\", \"Topic5\", \"Topic5\", \"Topic5\", \"Topic5\", \"Topic5\", \"Topic5\", \"Topic5\", \"Topic5\", \"Topic5\", \"Topic5\", \"Topic5\", \"Topic5\", \"Topic5\", \"Topic5\", \"Topic5\", \"Topic5\", \"Topic5\", \"Topic5\", \"Topic5\", \"Topic5\", \"Topic5\", \"Topic5\", \"Topic5\", \"Topic5\", \"Topic5\", \"Topic5\", \"Topic5\", \"Topic5\", \"Topic5\", \"Topic5\", \"Topic5\", \"Topic5\"], \"logprob\": [30.0, 29.0, 28.0, 27.0, 26.0, 25.0, 24.0, 23.0, 22.0, 21.0, 20.0, 19.0, 18.0, 17.0, 16.0, 15.0, 14.0, 13.0, 12.0, 11.0, 10.0, 9.0, 8.0, 7.0, 6.0, 5.0, 4.0, 3.0, 2.0, 1.0, -6.6749, -6.6752, -6.6815, -6.806, -6.8065, -6.9538, -6.9544, -6.3434, -6.9592, -6.9594, -6.9612, -6.9646, -7.1302, -7.1308, -7.131, -7.1335, -7.1381, -7.137, -7.1422, -6.4615, -7.1604, -7.3419, -6.2258, -7.343, -7.3432, -7.3449, -7.3467, -7.3476, -7.1734, -7.3503, -5.866, -6.5689, -6.4118, -5.8963, -4.6881, -6.2846, -6.561, -4.4858, -4.716, -5.7278, -5.926, -5.7413, -6.0498, -5.0942, -4.9207, -5.1938, -5.208, -4.8449, -5.1557, -4.971, -5.778, -4.5773, -5.5067, -5.4274, -5.03, -5.2049, -5.8114, -5.1977, -5.3887, -4.9389, -5.4595, -4.9694, -5.471, -5.2281, -5.4852, -5.4823, -5.5741, -5.6796, -5.5386, -5.6527, -5.597, -5.6724, -6.7067, -7.0195, -7.0205, -7.021, -7.021, -7.0216, -7.0226, -6.881, -7.0438, -7.2334, -7.2338, -7.2344, -7.2345, -7.2354, -7.2357, -7.2368, -6.6755, -7.2621, -7.271, -7.2712, -7.5034, -7.5051, -7.5044, -7.5046, -7.5048, -7.505, -7.5054, -7.5051, -7.5051, -7.5055, -3.8758, -6.3083, -6.8441, -6.8441, -5.3698, -6.0181, -6.4448, -6.8339, -5.6117, -6.8409, -5.8042, -5.2722, -5.4085, -6.5609, -5.1653, -5.6098, -4.3272, -5.8985, -5.1173, -5.9034, -6.4502, -6.2539, -4.8117, -5.8073, -4.4681, -6.0405, -5.2577, -4.9448, -5.4898, -5.7945, -5.2707, -4.7317, -5.9467, -5.968, -5.3454, -5.1259, -5.5013, -5.1372, -5.0823, -5.3848, -5.1576, -5.1402, -5.2793, -5.4045, -5.3517, -5.4834, -5.4893, -5.4069, -5.4852, -5.4626, -6.3982, -6.3983, -6.4001, -6.4011, -6.6709, -6.6711, -6.6722, -6.6725, -6.6727, -6.6733, -6.6746, -6.0108, -6.0111, -7.0414, -7.0415, -7.0438, -7.0456, -7.0457, -7.0459, -7.046, -7.0463, -7.0467, -7.0467, -7.0468, -7.0467, -7.0469, -7.0471, -7.047, -7.0471, -7.0469, -4.9897, -5.5122, -6.3983, -5.4185, -6.3988, -6.4004, -5.8618, -4.876, -5.6162, -6.3992, -6.401, -6.0755, -6.672, -6.6734, -6.6719, -6.672, -6.0078, -6.0339, -5.349, -4.5162, -4.7827, -4.6038, -5.1772, -5.5225, -5.1266, -5.6117, -4.9547, -5.729, -5.374, -5.6118, -4.9325, -5.346, -5.4549, -4.9704, -5.245, -5.3792, -5.6124, -5.6143, -5.5138, -5.6707, -5.4598, -5.5483, -5.6474, -5.689, -5.2657, -5.8556, -5.8565, -5.2658, -6.2464, -6.5136, -6.5199, -6.522, -6.5221, -6.5221, -6.0336, -6.8872, -6.8872, -6.8881, -6.8891, -6.8925, -6.8928, -6.8926, -6.8928, -6.8929, -6.8931, -6.8931, -6.8933, -6.8931, -6.8934, -6.8933, -6.8961, -6.8967, -6.9115, -6.9156, -5.1797, -5.8197, -5.1792, -5.2486, -5.0411, -5.2726, -5.1788, -5.8571, -5.5766, -5.2548, -5.7075, -6.4593, -6.4597, -5.2573, -5.858, -6.524, -5.1697, -5.1679, -6.2469, -5.014, -5.4287, -5.8196, -4.9297, -5.5743, -4.9496, -5.8207, -5.7057, -5.7374, -5.2252, -5.4068, -5.1548, -5.2759, -5.5579, -5.3417, -5.3554, -5.447, -5.5143, -5.4788, -5.5607, -5.6741, -5.3788, -4.4893, -5.8402, -6.2955, -6.2986, -6.6711, -6.6734, -6.6746, -6.6762, -6.6788, -6.6811, -6.7428, -6.7694, -6.3276, -7.2752, -7.2752, -7.2752, -7.2752, -7.2752, -7.2752, -7.2752, -7.2752, -7.2752, -7.2766, -7.2766, -7.2768, -7.2771, -7.277, -7.2774, -7.2775, -6.6756, -4.9499, -6.6809, -5.4091, -5.4307, -6.6692, -6.6754, -6.674, -6.7283, -6.3042, -6.3691, -5.8144, -6.3001, -6.7768, -6.2968, -6.7525, -6.2962, -5.7121, -4.5521, -5.5083, -4.886, -5.4849, -5.4718, -4.4889, -5.4805, -5.3058, -5.3852, -5.0797, -5.1475, -5.6891, -5.9131, -5.8062, -6.026, -5.2432, -5.2912, -5.2184, -5.013, -5.0834, -5.2306, -5.3846, -5.5059, -5.2529, -5.6895, -5.6085], \"loglift\": [30.0, 29.0, 28.0, 27.0, 26.0, 25.0, 24.0, 23.0, 22.0, 21.0, 20.0, 19.0, 18.0, 17.0, 16.0, 15.0, 14.0, 13.0, 12.0, 11.0, 10.0, 9.0, 8.0, 7.0, 6.0, 5.0, 4.0, 3.0, 2.0, 1.0, 0.8855, 0.8854, 0.8794, 0.8747, 0.8742, 0.8627, 0.8621, 0.8614, 0.8584, 0.8581, 0.8568, 0.8527, 0.8444, 0.844, 0.8436, 0.841, 0.8379, 0.8378, 0.833, 0.8267, 0.8214, 0.82, 0.8195, 0.819, 0.8189, 0.8173, 0.8159, 0.8148, 0.8133, 0.8123, 0.812, 0.8073, 0.7374, 0.6909, 0.5489, 0.7118, 0.7123, 0.3831, 0.4142, 0.5775, 0.6038, 0.5657, 0.6216, 0.4195, 0.3677, 0.4068, 0.41, 0.3113, 0.3297, 0.2644, 0.4968, 0.1061, 0.3952, 0.3596, 0.1696, 0.175, 0.4516, 0.0726, 0.1757, -0.1051, 0.1958, -0.1944, 0.1248, -0.0846, 0.1336, 0.125, 0.1072, 0.2046, -0.3105, -0.0659, -0.3428, -0.1839, 0.9998, 0.9782, 0.9774, 0.9771, 0.9769, 0.9765, 0.9755, 0.9587, 0.9541, 0.9512, 0.9509, 0.9503, 0.9503, 0.9496, 0.9489, 0.9484, 0.9263, 0.9224, 0.9191, 0.9186, 0.9109, 0.9098, 0.9098, 0.9098, 0.9094, 0.9093, 0.9091, 0.9091, 0.9091, 0.9091, 0.8977, 0.9014, 0.8906, 0.8825, 0.7998, 0.8317, 0.8448, 0.8681, 0.7848, 0.8606, 0.7519, 0.6803, 0.6817, 0.8276, 0.6178, 0.6774, 0.4478, 0.7227, 0.5519, 0.6842, 0.7874, 0.7435, 0.4164, 0.6375, 0.2153, 0.6669, 0.4279, 0.3255, 0.4882, 0.5428, 0.3161, 0.102, 0.5587, 0.564, 0.2619, 0.1282, 0.3211, 0.0982, 0.0612, 0.234, 0.042, 0.016, 0.1006, 0.1965, 0.1367, 0.1913, 0.1919, -0.1185, 0.0002, -0.3323, 1.9362, 1.9361, 1.9339, 1.933, 1.8841, 1.8839, 1.8827, 1.8825, 1.8822, 1.8815, 1.8798, 1.8622, 1.8321, 1.7976, 1.7975, 1.7951, 1.793, 1.7929, 1.7927, 1.7926, 1.7922, 1.7918, 1.7918, 1.7918, 1.7917, 1.7917, 1.7916, 1.7916, 1.7915, 1.7915, 1.784, 1.7497, 1.7625, 1.6553, 1.7169, 1.7145, 1.6355, 1.0752, 1.2982, 1.5412, 1.5346, 1.3921, 1.6228, 1.6214, 1.6172, 1.6165, 1.2738, 1.2545, 0.8453, 0.3176, 0.4714, 0.2652, 0.6636, 0.8705, 0.5481, 0.9086, 0.1888, 0.9582, 0.5249, 0.7378, -0.1576, 0.3353, 0.4293, -0.287, -0.0169, 0.1852, 0.5815, 0.4722, 0.1718, 0.3993, -0.3037, -0.2599, -0.0516, -0.4536, 2.2378, 2.1814, 2.1803, 2.1389, 2.122, 2.0736, 2.0666, 2.0636, 2.0634, 2.0634, 1.996, 1.9799, 1.9799, 1.979, 1.978, 1.9742, 1.974, 1.974, 1.9739, 1.9738, 1.9736, 1.9735, 1.9734, 1.9734, 1.9732, 1.9731, 1.9701, 1.9693, 1.9522, 1.9467, 1.929, 1.9179, 1.8625, 1.8574, 1.8403, 1.8351, 1.7833, 1.8455, 1.7798, 1.6956, 1.6804, 1.8638, 1.8634, 1.5257, 1.6532, 1.8597, 1.3781, 1.3736, 1.742, 1.2544, 1.4191, 1.4038, 0.6882, 1.1795, 0.5388, 1.2839, 1.1423, 1.1521, -0.0816, 0.3051, -0.321, -0.1457, 0.6095, -0.1421, -0.1013, -0.5781, -0.2862, -0.7038, -0.2904, -0.9006, 2.5067, 2.4482, 2.4364, 2.3788, 2.3744, 2.2719, 2.2689, 2.2677, 2.2658, 2.2623, 2.2591, 2.1794, 2.1583, 2.0429, 2.038, 2.038, 2.038, 2.038, 2.038, 2.0379, 2.0379, 2.0379, 2.0379, 2.0364, 2.0361, 2.0359, 2.0359, 2.0357, 2.0355, 2.0355, 1.9564, 1.6918, 1.9498, 1.7069, 1.6589, 1.903, 1.9038, 1.8972, 1.9042, 1.7676, 1.7777, 1.5735, 1.7127, 1.8445, 1.6091, 1.8109, 1.6034, 1.308, 0.6849, 1.1965, 0.8259, 1.1442, 1.1244, 0.38, 1.0519, 0.9163, 0.8201, 0.434, 0.4534, 1.0399, 1.2692, 1.0705, 1.3541, 0.1367, 0.1972, 0.0357, -0.3296, -0.2496, -0.0309, 0.2112, 0.4466, -0.1094, 0.2629, -0.4782]}, \"token.table\": {\"Topic\": [2, 1, 2, 3, 4, 1, 3, 4, 1, 2, 3, 4, 1, 2, 4, 5, 1, 2, 4, 4, 1, 2, 3, 4, 5, 3, 1, 5, 1, 2, 3, 4, 1, 2, 3, 4, 2, 1, 2, 4, 1, 2, 4, 1, 2, 3, 4, 2, 4, 4, 5, 1, 2, 3, 5, 1, 2, 1, 2, 3, 4, 2, 1, 5, 1, 1, 2, 3, 4, 5, 1, 2, 3, 4, 5, 1, 2, 3, 4, 5, 1, 3, 1, 3, 1, 3, 1, 5, 2, 1, 2, 3, 4, 5, 5, 3, 4, 5, 2, 5, 1, 4, 1, 2, 4, 5, 4, 1, 1, 3, 5, 2, 3, 5, 1, 2, 3, 5, 1, 2, 3, 4, 5, 1, 2, 3, 5, 1, 2, 3, 4, 5, 3, 1, 4, 2, 4, 2, 5, 2, 1, 3, 1, 5, 4, 5, 1, 2, 3, 1, 2, 1, 3, 4, 5, 1, 2, 3, 2, 2, 4, 1, 2, 3, 4, 5, 1, 2, 3, 3, 3, 4, 5, 1, 2, 3, 4, 1, 3, 5, 3, 5, 4, 4, 1, 2, 3, 4, 1, 2, 3, 5, 2, 1, 2, 2, 1, 2, 3, 4, 5, 1, 5, 2, 5, 2, 3, 1, 2, 3, 4, 5, 1, 3, 1, 2, 3, 4, 5, 5, 2, 1, 2, 3, 5, 2, 3, 4, 5, 1, 2, 3, 4, 5, 1, 2, 5, 1, 2, 3, 4, 5, 3, 5, 1, 2, 3, 4, 3, 1, 2, 5, 1, 2, 4, 5, 1, 2, 4, 1, 4, 1, 2, 3, 4, 5, 1, 2, 3, 4, 5, 3, 1, 3, 1, 2, 3, 4, 1, 1, 2, 4, 5, 1, 2, 3, 4, 5, 1, 3, 1, 2, 4, 2, 1, 2, 3, 4, 1, 2, 3, 4, 5, 4, 1, 2, 3, 4, 1, 2, 3, 4, 5, 5, 4, 1, 2, 3, 4, 5, 3, 1, 1, 2, 3, 1, 2, 3, 4, 5, 2, 1, 4, 3, 4, 4, 3, 4, 5, 1, 2, 3, 4, 5, 1, 2, 3, 4, 5, 2, 1, 2, 3, 4, 5, 3, 4, 5, 1, 2, 3, 4, 5, 1, 2, 3, 4, 5, 1, 3, 1, 2, 3, 3, 4, 3, 4, 1, 2, 3, 4, 5, 1, 1, 2, 4, 5, 1, 2, 3, 4, 1, 2, 3, 4, 5, 2, 3, 1, 2, 3, 4, 5, 5, 2, 1, 2, 3, 4, 5, 2, 3, 3, 3, 1, 2, 3, 4, 5, 1, 5, 1, 2, 3, 5, 4, 4, 1, 2, 3, 4, 5, 1, 2, 4, 1, 5, 1, 3, 1, 2, 3, 4, 5, 1, 2, 3, 2, 1, 2, 3, 1, 4, 1, 2, 4, 1, 2, 5, 1, 2, 3, 4, 5, 1, 2, 3, 4, 5, 1, 2, 3, 4, 2, 2, 3, 4, 1, 3, 2, 5, 2, 3, 3, 1, 2, 5, 1, 2, 3, 4, 5, 3, 1, 2, 3, 4, 1, 3, 4, 1, 3, 1, 2, 4, 3, 1, 2, 3, 1, 2, 3, 5, 1, 2, 3, 1, 4, 1, 2, 1, 1, 2, 3, 1, 2, 3, 4, 5, 3, 1, 2, 3, 4, 5, 4, 1, 2, 4, 5, 1, 3, 4, 5, 5, 1, 3, 4, 2, 5, 4, 1, 5, 1, 2, 4, 5, 1, 2, 3, 4, 5, 1, 2, 4, 5, 1, 4, 3, 4, 5, 1, 2, 3, 4, 2, 3, 4, 1, 2, 3, 4, 5, 1, 2, 3, 5, 5, 2, 3, 4, 1, 2, 1, 2, 3, 4, 5, 1, 2, 3, 5, 2, 1, 3, 4, 1, 2, 3, 5, 2, 1, 2, 4, 2, 1, 2, 3, 4, 5, 3, 1, 2, 3, 2, 1, 1, 2, 3, 4, 5, 1, 2, 3, 4, 1, 2, 4, 4, 5, 1, 2, 1, 2, 3, 4, 5, 1, 2, 4, 2, 4, 5, 4, 2, 4, 5, 1, 2, 3, 4, 5, 4, 1, 2, 3, 4, 5, 2, 1, 2, 3, 5, 3, 1, 2, 3, 4, 5, 1, 2, 3, 4, 5, 3, 4, 5, 5, 3, 5, 4, 2, 5, 1, 2, 3, 4, 1, 2, 3, 4, 5, 5, 1, 2, 3, 4, 5, 1, 2, 5, 5, 1, 2, 3, 4, 1, 4, 5, 5, 5, 5, 1, 2, 3, 4, 1, 2, 3, 4, 5, 1, 3, 3, 4, 1], \"Freq\": [0.9333685403604433, 0.5733101177241868, 0.12541158825216586, 0.0895797058944042, 0.19707535296768924, 0.23799867284040083, 0.15866578189360053, 0.6346631275744021, 0.07439504855595708, 0.22318514566787123, 0.07439504855595708, 0.5951603884476566, 0.2535123047183069, 0.06337807617957672, 0.6337807617957671, 0.06337807617957672, 0.2748282068808242, 0.1374141034404121, 0.5496564137616484, 0.9227350628505423, 0.2746562404025321, 0.2746562404025321, 0.06866406010063303, 0.34332030050316514, 0.034332030050316514, 0.6756778130431667, 0.9696908451711453, 0.7211385997309954, 0.22557470666811444, 0.3158045893353602, 0.09022988266724577, 0.40603447200260595, 0.2269882840657463, 0.27238594087889556, 0.09079531362629852, 0.40857891131834334, 0.8261874379314492, 0.3446271714991832, 0.1723135857495916, 0.45950289533224425, 0.3395147219168113, 0.1358058887667245, 0.543223555066898, 0.07955783513711946, 0.15911567027423892, 0.07955783513711946, 0.6364626810969557, 0.10695346926314897, 0.8556277541051918, 0.9445131512781934, 0.7211357499438119, 0.4278060522487947, 0.23334875577206984, 0.2722402150674148, 0.038891459295344974, 0.19065991753307646, 0.7626396701323058, 0.3128440220711884, 0.5809960409893499, 0.04469200315302692, 0.08938400630605384, 0.8805507190089379, 0.7656284428874361, 0.721024850913769, 0.845731265201657, 0.11549124384255711, 0.8161381231540703, 0.015398832512340949, 0.03849708128085237, 0.015398832512340949, 0.4380672385401906, 0.2978857222073296, 0.10513613724964574, 0.0700907581664305, 0.08761344770803813, 0.14561965321189302, 0.07280982660594651, 0.14561965321189302, 0.29123930642378604, 0.29123930642378604, 0.21775302362472737, 0.6532590708741821, 0.2588399256839373, 0.5176798513678746, 0.21758282508191976, 0.6527484752457593, 0.9697829724249654, 0.4975563581248137, 0.880542458035465, 0.3129441466707031, 0.3576504533379464, 0.0447063066672433, 0.0894126133344866, 0.1788252266689732, 0.49770685533131087, 0.10517095008089315, 0.5258547504044657, 0.31551285024267944, 0.34073484257330805, 0.34073484257330805, 0.8567371720656104, 0.09519301911840115, 0.5046495095906346, 0.12616237739765865, 0.12616237739765865, 0.18924356609648796, 0.9232791116284502, 0.9455510583147525, 0.9126955571993997, 0.8973108413910791, 0.7211356380574377, 0.17543786636435435, 0.3508757327287087, 0.3508757327287087, 0.6768766696395551, 0.14250035150306423, 0.10687526362729817, 0.07125017575153211, 0.5515777246394797, 0.31821791806123834, 0.021214527870749223, 0.06364358361224767, 0.042429055741498446, 0.7192482673424185, 0.05137487623874418, 0.15412462871623253, 0.05137487623874418, 0.5193319202078143, 0.33869473057031363, 0.0903185948187503, 0.022579648704687576, 0.03386947305703136, 0.8974395155440443, 0.8757866719228885, 0.45942893054946243, 0.8805692888479011, 0.6973895782113217, 0.8807163573138961, 0.7211352619380849, 0.9332414469295394, 0.5674271182663877, 0.4728559318886564, 0.9457421213550262, 0.48779231436605985, 0.36106064072206395, 0.36106064072206395, 0.14391572066720043, 0.7195786033360022, 0.8127534968780724, 0.17601298680450755, 0.792058440620284, 0.17655467778980893, 0.17655467778980893, 0.35310935557961787, 0.35310935557961787, 0.19042535205691147, 0.38085070411382294, 0.38085070411382294, 0.967807939084489, 0.9335276011918666, 0.8051336438853033, 0.41761355525071076, 0.4615728768560487, 0.06593898240800695, 0.04395932160533797, 0.04395932160533797, 0.9455506277031199, 0.7378587934897995, 0.1475717586979599, 0.8126805283735232, 0.8972120662785759, 0.5694114411687976, 0.2847057205843988, 0.213026469840233, 0.639079409520699, 0.05325661746005825, 0.1065132349201165, 0.8748243213922287, 0.897238636328502, 0.7208342055687598, 0.3649192116835441, 0.3649192116835441, 0.9230453049271845, 0.8411333817049742, 0.2867035039098923, 0.6143646512354834, 0.0409576434156989, 0.0409576434156989, 0.23047356171991726, 0.07682452057330576, 0.6145961645864461, 0.07682452057330576, 0.7742765108324755, 0.952390428459708, 0.9677466775164059, 0.9330286089098806, 0.1954289078919304, 0.6840011776217564, 0.0488572269729826, 0.0488572269729826, 0.0488572269729826, 0.2809588274101541, 0.5619176548203082, 0.34614974827735256, 0.34614974827735256, 0.26047287965153504, 0.5209457593030701, 0.028727592471153106, 0.6607346268365214, 0.1436379623557655, 0.08618277741345931, 0.08618277741345931, 0.2781585400002693, 0.6490365933339617, 0.031102107647022627, 0.746450583528543, 0.062204215294045254, 0.09330632294106787, 0.09330632294106787, 0.7614138947784193, 0.9679928774629679, 0.17124785246085422, 0.4281196311521356, 0.17124785246085422, 0.25687177869128136, 0.968074656043581, 0.41681505511266737, 0.20840752755633368, 0.41681505511266737, 0.15608971231803623, 0.07804485615901811, 0.15608971231803623, 0.23413456847705433, 0.39022428079509053, 0.8456378509352587, 0.9383656175824349, 0.7208676992099329, 0.21723453888559338, 0.4965360888813563, 0.06206701111016954, 0.18620103333050864, 0.03103350555508477, 0.3644847653171616, 0.3644847653171616, 0.37209622115360524, 0.3434734349110202, 0.20035950369809513, 0.11449114497034008, 0.6758213367490598, 0.19512497954142866, 0.741474922257429, 0.07804999181657146, 0.30460795258386225, 0.5657004833700299, 0.04351542179769461, 0.08703084359538922, 0.1492032834696877, 0.1492032834696877, 0.5968131338787508, 0.9701557129290249, 0.9223332616127198, 0.25494150593895365, 0.4461476353931689, 0.22307381769658444, 0.031867688242369206, 0.06373537648473841, 0.33465701750093996, 0.4051111264485063, 0.08806763618445788, 0.05284058171067473, 0.10568116342134946, 0.8977061671162858, 0.8752603581978387, 0.8973290588788163, 0.677961106913501, 0.24977514465234246, 0.03568216352176321, 0.07136432704352642, 0.9687220512075786, 0.2655772977320331, 0.3718082168248463, 0.10623091909281325, 0.2124618381856265, 0.45183625027790036, 0.36711695335079403, 0.056479531284737546, 0.04235964846355316, 0.08471929692710632, 0.8316155858464381, 0.10395194823080477, 0.33470409190878, 0.33470409190878, 0.33470409190878, 0.9331688402482751, 0.5540851643378502, 0.2963711344132687, 0.09019991047360351, 0.06442850748114537, 0.5634855695048926, 0.2993517087994742, 0.05282677214108369, 0.017608924047027893, 0.05282677214108369, 0.9229454652844694, 0.4253553344176817, 0.3134197200972392, 0.2238712286408851, 0.02238712286408851, 0.5711463639963529, 0.21417988649863232, 0.0951910606660588, 0.0475955303330294, 0.07139329549954411, 0.4977086482434367, 0.9224384796144479, 0.18896819292180062, 0.6613886752263022, 0.047242048230450154, 0.047242048230450154, 0.047242048230450154, 0.8973357794614133, 0.9460837473545913, 0.6219594334469045, 0.2764264148652909, 0.06910660371632273, 0.5334925547586639, 0.32951010735093944, 0.06276382997160751, 0.04707287247870563, 0.031381914985803755, 0.9380581758885495, 0.2679393504210471, 0.5358787008420942, 0.6834321185709472, 0.22781070619031576, 0.9228682868517433, 0.89737211553621, 0.9228366010748129, 0.7211351821829954, 0.3646869053935083, 0.45151712096339125, 0.08683021556988293, 0.08683021556988293, 0.03473208622795317, 0.27393978090360516, 0.3735542466867343, 0.18677712334336716, 0.08716265756023801, 0.07471084933734687, 0.8806002933947421, 0.5010432758346546, 0.3666170310985277, 0.07332340621970554, 0.03666170310985277, 0.024441135406568514, 0.14406357597813552, 0.5762543039125421, 0.14406357597813552, 0.31478186400723235, 0.3777382368086788, 0.04721727960108485, 0.1731300252039778, 0.07869546600180809, 0.4755590236164963, 0.3003530675472608, 0.05005884459121014, 0.0750882668868152, 0.10011768918242028, 0.9128391259524247, 0.8130034497836296, 0.11382288766052258, 0.17073433149078387, 0.6829373259631355, 0.8542175054905207, 0.17084350109810414, 0.19981333880582083, 0.7992533552232833, 0.3161672594637463, 0.5166635703431951, 0.10024815543972443, 0.04626837943371897, 0.01542279314457299, 0.9454899122491531, 0.33810840964391875, 0.6128214924796027, 0.021131775602744922, 0.021131775602744922, 0.18386022221082352, 0.2451469629477647, 0.12257348147388235, 0.4290071851585882, 0.2790259838681363, 0.497394145156243, 0.12131564516005927, 0.07278938709603557, 0.024263129032011853, 0.8805353706085189, 0.8975768472961559, 0.4303206795293815, 0.4123906512156573, 0.03586005662744846, 0.08965014156862115, 0.01793002831372423, 0.7673626859066179, 0.9332055733434973, 0.5244956035496947, 0.13112390088742368, 0.06556195044371184, 0.09834292566556777, 0.16390487610927962, 0.7815594233453662, 0.13025990389089437, 0.6757057653545026, 0.6757590782791015, 0.07510109436653013, 0.6508761511765945, 0.10013479248870684, 0.05006739624435342, 0.10013479248870684, 0.34342243663857436, 0.34342243663857436, 0.34132797869713616, 0.39821597514665885, 0.20858932031491656, 0.03792533096634846, 0.6967348139633923, 0.9228953298527255, 0.458485025333506, 0.3226376104198746, 0.1358474149136314, 0.03396185372840785, 0.05094278059261178, 0.22890598659163816, 0.6867179597749145, 0.04578119731832763, 0.34373805628789217, 0.34373805628789217, 0.36374657373538904, 0.5456198606030837, 0.34558675161558033, 0.3567347113451152, 0.14492347648395304, 0.0891836778362788, 0.06688775837720909, 0.09050088868218083, 0.7240071094574466, 0.18100177736436165, 0.8808366676337153, 0.5741578415623628, 0.13249796343746834, 0.3091619146874261, 0.2679461551626524, 0.5358923103253048, 0.12281630605523135, 0.7368978363313881, 0.12281630605523135, 0.9468159263445048, 0.9680131333367095, 0.76040219204166, 0.3653684392833625, 0.20878196530477858, 0.3131729479571679, 0.052195491326194644, 0.10439098265238929, 0.5590786466207915, 0.12706332877745263, 0.15247599453294317, 0.05082533151098106, 0.10165066302196211, 0.23767279999412655, 0.23767279999412655, 0.1584485333294177, 0.3168970666588354, 0.8810923406959457, 0.3520100596778226, 0.586683432796371, 0.8050074593533979, 0.9687185513770173, 0.8973552553672203, 0.7438967674894165, 0.1487793534978833, 0.26048299790010565, 0.5209659958002113, 0.8977133896033975, 0.2846862124282182, 0.7117155310705455, 0.7211363471261083, 0.42543493482581046, 0.42543493482581046, 0.05317936685322631, 0.035452911235484205, 0.05317936685322631, 0.8129937496701125, 0.24487358053912114, 0.6646568614633288, 0.06996388015403461, 0.034981940077017305, 0.19182728294592805, 0.19182728294592805, 0.5754818488377841, 0.9123129921980838, 0.6756307423349279, 0.14399679441962668, 0.7199839720981334, 0.9226411743469455, 0.6753242482610056, 0.18274437118481038, 0.18274437118481038, 0.5482331135544312, 0.325036369399109, 0.3000335717530237, 0.35003916704519433, 0.02500279764608531, 0.22779277797343384, 0.22779277797343384, 0.45558555594686767, 0.9124491619213941, 0.6967389929289146, 0.8959832814739068, 0.0746652734561589, 0.9128689693790849, 0.7556429069792566, 0.14168304505861062, 0.04722768168620354, 0.26838226644197266, 0.517594370995233, 0.13419113322098633, 0.03834032377742467, 0.03834032377742467, 0.8972951237999378, 0.5720462601585294, 0.2420195716055317, 0.05500444809216629, 0.08800711694746607, 0.04400355847373304, 0.9228205514249653, 0.39361212111998184, 0.31488969689598545, 0.13776424239199364, 0.15744484844799272, 0.4007066399973439, 0.08014132799946878, 0.16028265599893757, 0.4007066399973439, 0.49052552375519415, 0.3057417617518576, 0.10191392058395253, 0.6114835235037152, 0.44928782861217187, 0.44928782861217187, 0.9233416773568004, 0.6261566109176488, 0.3130783054588244, 0.5810987855820368, 0.22598286105968093, 0.08070816466417176, 0.11299143052984047, 0.19697665503868708, 0.39395331007737416, 0.04924416375967177, 0.09848832751934354, 0.19697665503868708, 0.5441884990161755, 0.1088376998032351, 0.1088376998032351, 0.2176753996064702, 0.9458020999007708, 0.6978820556868319, 0.23792860052623582, 0.47585720105247165, 0.11896430026311791, 0.4841169969624292, 0.22343861398265966, 0.2606783829797696, 0.03723976899710994, 0.23840679159965608, 0.1589378610664374, 0.6357514442657496, 0.34349147991335455, 0.3680265856214513, 0.16356737138731167, 0.07360531712429026, 0.05724857998555909, 0.4199049609455148, 0.40081837181162777, 0.17177930220498333, 0.49666102327188344, 0.4980607837503664, 0.16582733621984502, 0.8291366810992252, 0.9229240318171563, 0.7503048915761608, 0.1875762228940402, 0.19168072129674066, 0.12778714753116044, 0.12778714753116044, 0.3194678688279011, 0.19168072129674066, 0.2828649423676678, 0.5845875475598468, 0.09428831412255594, 0.03771532564902237, 0.9332829238167822, 0.2590074118837246, 0.5180148237674492, 0.6967467952616941, 0.3796641033180828, 0.403393109775463, 0.2135610581164216, 0.023729006457380176, 0.8677525136766128, 0.8791097274400271, 0.051712336908236886, 0.051712336908236886, 0.880854171009922, 0.42217587939509155, 0.4151396147385067, 0.09147144053560317, 0.02814505862633944, 0.049253852596094015, 0.8973897673199228, 0.9124212299268075, 0.5240128688646519, 0.45851126025657046, 0.9337834710307492, 0.8749903739385013, 0.24935000312934974, 0.049870000625869944, 0.14961000187760984, 0.19948000250347978, 0.39896000500695955, 0.6146713865034652, 0.23903887252912537, 0.1365936414452145, 0.03414841036130362, 0.78211913522278, 0.14220347913141454, 0.07110173956570727, 0.9229539428854618, 0.497101710891216, 0.2104670796345863, 0.736634778721052, 0.40493921100211727, 0.45555661237738193, 0.037963051031448494, 0.07592610206289699, 0.02530870068763233, 0.30647852701229034, 0.3677742324147484, 0.30647852701229034, 0.1340780531228769, 0.06703902656143845, 0.8044683187372614, 0.9201362044681738, 0.3929304839212911, 0.19646524196064555, 0.3929304839212911, 0.4480644367371174, 0.3419439122467475, 0.04716467755127551, 0.08253818571473215, 0.07074701632691327, 0.9233487105911939, 0.6609995764078964, 0.1346480618608678, 0.012240732896442527, 0.04896293158577011, 0.1346480618608678, 0.9676377618019252, 0.2900992205155987, 0.4512654541353758, 0.09669974017186624, 0.16116623361977706, 0.8973166719434584, 0.2869344955533444, 0.3825793274044592, 0.2869344955533444, 0.031881610617038265, 0.031881610617038265, 0.23827281384925392, 0.3335819393889555, 0.14296368830955233, 0.09530912553970156, 0.23827281384925392, 0.8973797603811657, 0.3651103102192943, 0.3651103102192943, 0.7211351992988699, 0.6758078401657668, 0.7211351087595742, 0.9229418844732235, 0.8805625363097184, 0.7211362776271215, 0.7134216210808613, 0.1337665539526615, 0.04458885131755383, 0.08917770263510766, 0.2824821332851621, 0.5392840726353094, 0.10272077574005894, 0.05136038787002947, 0.025680193935014736, 0.7208971997466089, 0.4676104494076523, 0.2571857471742087, 0.1870441797630609, 0.07014156741114784, 0.023380522470382612, 0.8283692504448323, 0.08283692504448324, 0.08283692504448324, 0.864886531488121, 0.22068802891980635, 0.5885014104528169, 0.14712535261320422, 0.036781338153301056, 0.3568813880211691, 0.3568813880211691, 0.17844069401058454, 0.7210394926999715, 0.7210231839282676, 0.7210614081236679, 0.4504579861742174, 0.30968986549477445, 0.16892174481533154, 0.056307248271777174, 0.46490580612476234, 0.37192464489980986, 0.05578869673497148, 0.09298116122495247, 0.018596232244990494, 0.9122737191205901, 0.8973863064447593, 0.8971820415056784, 0.9233493328951234, 0.9694856971429735], \"Term\": [\"\\\"metalcore\\\"\", \"-\", \"-\", \"-\", \"-\", \"1\", \"1\", \"1\", \"10\", \"10\", \"10\", \"10\", \"11\", \"11\", \"11\", \"11\", \"12\", \"12\", \"12\", \"14\", \"2\", \"2\", \"2\", \"2\", \"2\", \"20\", \"2011\", \"23rd\", \"3\", \"3\", \"3\", \"3\", \"4\", \"4\", \"4\", \"4\", \"4th\", \"5\", \"5\", \"5\", \"6\", \"6\", \"6\", \"7\", \"7\", \"7\", \"7\", \"8\", \"8\", \"9\", \"9th\", \":\", \":\", \":\", \":\", \"Jamie\", \"Jamie\", \"They're\", \"They're\", \"They're\", \"They're\", \"absentia\", \"add\", \"address\", \"al\", \"album\", \"album\", \"album\", \"album\", \"album\", \"also\", \"also\", \"also\", \"also\", \"also\", \"alter\", \"alter\", \"alter\", \"alter\", \"alter\", \"alternate\", \"alternate\", \"ambience\", \"ambience\", \"ambient\", \"ambient\", \"america\", \"announcement\", \"anterior\", \"anyone\", \"anyone\", \"anyone\", \"anyone\", \"anyone\", \"apparation\", \"apparition\", \"apparition\", \"apparition\", \"arguably\", \"arguably\", \"arm\", \"arm\", \"arrow\", \"arrow\", \"arrow\", \"arrow\", \"artist\", \"artwork\", \"ass\", \"attempt\", \"attend\", \"available\", \"available\", \"available\", \"awesome\", \"awesome\", \"awesome\", \"awesome\", \"back\", \"back\", \"back\", \"back\", \"back\", \"bailey\", \"bailey\", \"bailey\", \"bailey\", \"band\", \"band\", \"band\", \"band\", \"band\", \"basingstoke\", \"ben\", \"bet\", \"bewick\", \"body\", \"bonus\", \"bother\", \"bottom\", \"bridge\", \"bridge\", \"bus\", \"calcified\", \"calcify\", \"calcify\", \"call\", \"call\", \"challenging\", \"check\", \"check\", \"choose\", \"choose\", \"choose\", \"choose\", \"clean\", \"clean\", \"clean\", \"clearly\", \"cleveland\", \"code\", \"come\", \"come\", \"come\", \"come\", \"come\", \"company\", \"compare\", \"compare\", \"complement\", \"complementary\", \"cry\", \"cry\", \"cycle\", \"cycle\", \"cycle\", \"cycle\", \"dallas\", \"delay\", \"delete\", \"depending\", \"depending\", \"depression\", \"died\", \"different\", \"different\", \"different\", \"different\", \"difficult\", \"difficult\", \"difficult\", \"difficult\", \"disappoint\", \"disappointing\", \"discord\", \"door\", \"dormant\", \"dormant\", \"dormant\", \"dormant\", \"dormant\", \"double\", \"double\", \"download\", \"download\", \"ear\", \"ear\", \"earth\", \"earth\", \"earth\", \"earth\", \"earth\", \"easy\", \"easy\", \"edge\", \"edge\", \"edge\", \"edge\", \"edge\", \"edinburgh\", \"edit:\", \"either\", \"either\", \"either\", \"either\", \"element\", \"empty\", \"empty\", \"empty\", \"empyreal\", \"empyreal\", \"empyreal\", \"empyreal\", \"empyreal\", \"energy\", \"entirely\", \"entry\", \"eote\", \"eote\", \"eote\", \"eote\", \"eote\", \"european\", \"european\", \"even\", \"even\", \"even\", \"even\", \"fast\", \"favorite\", \"favorite\", \"favorite\", \"favourite\", \"favourite\", \"favourite\", \"favourite\", \"feeling\", \"feeling\", \"feeling\", \"fill\", \"final\", \"find\", \"find\", \"find\", \"find\", \"find\", \"first\", \"first\", \"first\", \"first\", \"first\", \"flat\", \"forward\", \"frequently\", \"fuck\", \"fuck\", \"fuck\", \"fuck\", \"garrett\", \"gig\", \"gig\", \"gig\", \"gig\", \"go\", \"go\", \"go\", \"go\", \"go\", \"god\", \"god\", \"godless\", \"godless\", \"godless\", \"gold\", \"good\", \"good\", \"good\", \"good\", \"great\", \"great\", \"great\", \"great\", \"great\", \"guilt\", \"guitar\", \"guitar\", \"guitar\", \"guitar\", \"guy\", \"guy\", \"guy\", \"guy\", \"guy\", \"hat\", \"have\", \"heart\", \"heart\", \"heart\", \"heart\", \"heart\", \"hmv\", \"hoop\", \"hope\", \"hope\", \"hope\", \"i'm\", \"i'm\", \"i'm\", \"i'm\", \"i'm\", \"incredibly\", \"indoctrinate\", \"indoctrinate\", \"information\", \"information\", \"interpretation\", \"intimidate\", \"invidia\", \"islington\", \"it\", \"it\", \"it\", \"it\", \"it\", \"it'\", \"it'\", \"it'\", \"it'\", \"it'\", \"joe\", \"josh\", \"josh\", \"josh\", \"josh\", \"josh\", \"kingdom\", \"kingdom\", \"kingdom\", \"know\", \"know\", \"know\", \"know\", \"know\", \"last\", \"last\", \"last\", \"last\", \"last\", \"league\", \"leak\", \"learn\", \"learn\", \"learn\", \"lick\", \"lick\", \"light\", \"light\", \"like\", \"like\", \"like\", \"like\", \"like\", \"lineup\", \"listen\", \"listen\", \"listen\", \"listen\", \"lose\", \"lose\", \"lose\", \"lose\", \"love\", \"love\", \"love\", \"love\", \"love\", \"luci\", \"m&g\", \"make\", \"make\", \"make\", \"make\", \"make\", \"malevolence\", \"master\", \"merch\", \"merch\", \"merch\", \"merch\", \"merch\", \"metalcore\", \"metalcore\", \"metallica\", \"min\", \"monolith\", \"monolith\", \"monolith\", \"monolith\", \"monolith\", \"mood\", \"mood\", \"much\", \"much\", \"much\", \"much\", \"nation\", \"nature\", \"new\", \"new\", \"new\", \"new\", \"new\", \"next\", \"next\", \"next\", \"norwich\", \"norwich\", \"note\", \"note\", \"one\", \"one\", \"one\", \"one\", \"one\", \"opinion\", \"opinion\", \"opinion\", \"oppressor\", \"part\", \"part\", \"part\", \"pawn\", \"pawn\", \"people\", \"people\", \"people\", \"performance\", \"personal\", \"photo\", \"pick\", \"pick\", \"pick\", \"pick\", \"pick\", \"play\", \"play\", \"play\", \"play\", \"play\", \"poison\", \"poison\", \"poison\", \"poison\", \"policy\", \"practice\", \"practice\", \"presale\", \"preset\", \"press\", \"previous\", \"previous\", \"pro\", \"pro\", \"pun\", \"quite\", \"quite\", \"rarity\", \"really\", \"really\", \"really\", \"really\", \"really\", \"regarding\", \"release\", \"release\", \"release\", \"release\", \"remain\", \"remain\", \"remain\", \"remind\", \"replicate\", \"return\", \"return\", \"revelation\", \"reverb\", \"rhythm\", \"rhythm\", \"rhythm\", \"riff\", \"riff\", \"riff\", \"riff\", \"riffs\", \"riffs\", \"riffs\", \"rob\", \"sacramento\", \"sad\", \"sad\", \"saviour\", \"saw\", \"saw\", \"saw\", \"say\", \"say\", \"say\", \"say\", \"say\", \"scrap\", \"see\", \"see\", \"see\", \"see\", \"see\", \"sentence\", \"set\", \"set\", \"set\", \"set\", \"setlist\", \"setlist\", \"setlist\", \"setlist\", \"setlistfm\", \"sever\", \"sever\", \"sever\", \"shame\", \"shame\", \"sharingill\", \"shirt\", \"shirt\", \"show\", \"show\", \"show\", \"show\", \"sign\", \"sign\", \"sign\", \"sign\", \"sign\", \"sling\", \"sling\", \"sling\", \"sling\", \"slipknot\", \"snag\", \"solitude\", \"solitude\", \"solitude\", \"solo\", \"solo\", \"solo\", \"solo\", \"someone\", \"someone\", \"someone\", \"song\", \"song\", \"song\", \"song\", \"song\", \"sound\", \"sound\", \"sound\", \"southampton\", \"spare\", \"speed\", \"speed\", \"spirit\", \"stage\", \"stage\", \"state\", \"state\", \"state\", \"state\", \"state\", \"still\", \"still\", \"still\", \"still\", \"straight\", \"stretch\", \"stretch\", \"strum\", \"stuff\", \"stuff\", \"stuff\", \"stuff\", \"suffering\", \"support\", \"support\", \"support\", \"supreme\", \"sylosis\", \"sylosis\", \"sylosis\", \"sylosis\", \"sylosis\", \"sync\", \"t-shirt\", \"tab\", \"tab\", \"tabs\", \"tech\", \"tera\", \"tera\", \"tera\", \"tera\", \"tera\", \"thank\", \"thank\", \"thank\", \"thank\", \"that\", \"that\", \"that\", \"theme\", \"they'd\", \"they've\", \"they've\", \"think\", \"think\", \"think\", \"think\", \"think\", \"throne\", \"throne\", \"throne\", \"ticket\", \"ticket\", \"ticket\", \"tickets\", \"tie\", \"tie\", \"tie\", \"time\", \"time\", \"time\", \"time\", \"time\", \"tomorroware\", \"tour\", \"tour\", \"tour\", \"tour\", \"tour\", \"towards\", \"track\", \"track\", \"track\", \"track\", \"trick\", \"try\", \"try\", \"try\", \"try\", \"try\", \"two\", \"two\", \"two\", \"two\", \"two\", \"ug\", \"unable\", \"unable\", \"unwell\", \"useful\", \"van\", \"vanish\", \"view\", \"voltage\", \"wait\", \"wait\", \"wait\", \"wait\", \"way\", \"way\", \"way\", \"way\", \"way\", \"weeks\", \"well\", \"well\", \"well\", \"well\", \"well\", \"wish\", \"wish\", \"wish\", \"wither\", \"work\", \"work\", \"work\", \"work\", \"world\", \"world\", \"world\", \"x\", \"x1\", \"xo\", \"yeah\", \"yeah\", \"yeah\", \"yeah\", \"year\", \"year\", \"year\", \"year\", \"year\", \"young\", \"yourself\", \"{eg\", \"\\ud83d\\ude01\", \"\\ud83e\\udd19\\ud83c\\udffb\"]}, \"R\": 30, \"lambda.step\": 0.01, \"plot.opts\": {\"xlab\": \"PC1\", \"ylab\": \"PC2\"}, \"topic.order\": [1, 5, 4, 2, 3]};\n",
              "\n",
              "function LDAvis_load_lib(url, callback){\n",
              "  var s = document.createElement('script');\n",
              "  s.src = url;\n",
              "  s.async = true;\n",
              "  s.onreadystatechange = s.onload = callback;\n",
              "  s.onerror = function(){console.warn(\"failed to load library \" + url);};\n",
              "  document.getElementsByTagName(\"head\")[0].appendChild(s);\n",
              "}\n",
              "\n",
              "if(typeof(LDAvis) !== \"undefined\"){\n",
              "   // already loaded: just create the visualization\n",
              "   !function(LDAvis){\n",
              "       new LDAvis(\"#\" + \"ldavis_el4771338564757447369883045404\", ldavis_el4771338564757447369883045404_data);\n",
              "   }(LDAvis);\n",
              "}else if(typeof define === \"function\" && define.amd){\n",
              "   // require.js is available: use it to load d3/LDAvis\n",
              "   require.config({paths: {d3: \"https://d3js.org/d3.v5\"}});\n",
              "   require([\"d3\"], function(d3){\n",
              "      window.d3 = d3;\n",
              "      LDAvis_load_lib(\"https://cdn.jsdelivr.net/gh/bmabey/pyLDAvis@3.4.0/pyLDAvis/js/ldavis.v3.0.0.js\", function(){\n",
              "        new LDAvis(\"#\" + \"ldavis_el4771338564757447369883045404\", ldavis_el4771338564757447369883045404_data);\n",
              "      });\n",
              "    });\n",
              "}else{\n",
              "    // require.js not available: dynamically load d3 & LDAvis\n",
              "    LDAvis_load_lib(\"https://d3js.org/d3.v5.js\", function(){\n",
              "         LDAvis_load_lib(\"https://cdn.jsdelivr.net/gh/bmabey/pyLDAvis@3.4.0/pyLDAvis/js/ldavis.v3.0.0.js\", function(){\n",
              "                 new LDAvis(\"#\" + \"ldavis_el4771338564757447369883045404\", ldavis_el4771338564757447369883045404_data);\n",
              "            })\n",
              "         });\n",
              "}\n",
              "</script>"
            ]
          },
          "metadata": {},
          "execution_count": 10
        }
      ]
    },
    {
      "cell_type": "code",
      "source": [
        "import gensim\n",
        "import gensim.corpora as corpora# Create Dictionary\n",
        "\n",
        "templist = []\n",
        "for i in all_cleantext:\n",
        "    long_string = ' '.join(i)\n",
        "    templist.append(long_string.split())\n",
        "\n",
        "\n",
        "id2word = corpora.Dictionary(templist)# Create Corpus\n",
        "texts = templist# Term Document Frequency\n",
        "corpus = [id2word.doc2bow(text) for text in texts]# View\n",
        "#print(corpus[:1][0][:30])\n",
        "\n",
        "from pprint import pprint\n",
        "lda_model = gensim.models.LdaMulticore(corpus=corpus, id2word=id2word, num_topics=TOPICS, passes=10)\n",
        "# Print the Keyword in the 10 topics\n",
        "pprint(lda_model.print_topics())\n",
        "#doc_lda = lda_model[corpus]\n",
        "#print(lda_model.get_topics())"
      ],
      "metadata": {
        "id": "q6GmSyN262W3"
      },
      "execution_count": null,
      "outputs": []
    },
    {
      "cell_type": "code",
      "source": [
        "from sklearn.feature_extraction.text import CountVectorizer\n",
        "from sklearn.decomposition import LatentDirichletAllocation\n",
        "\n",
        "#all_cleantext ist eine Liste, welche Listen beinhaltet, welche wiederum Strings beinhalten\n",
        "#Jeder String repräsentiert einen Post/Kommentar\n",
        "#Für die Verarbeitung muss aber in einer Liste Strings stehen\n",
        "templist = []\n",
        "for i in all_cleantext:\n",
        "    long_string = ' '.join(i)\n",
        "    templist.append(long_string)\n",
        "\n",
        "# Text data\n",
        "\n",
        "# Create document-term matrix\n",
        "vectorizer = CountVectorizer()\n",
        "dtm = vectorizer.fit_transform(templist)\n",
        "\n",
        "# Train LDA model\n",
        "lda_model = LatentDirichletAllocation(n_components=TOPICS)\n",
        "lda_model.fit(dtm)\n",
        "\n",
        "import numpy as np\n",
        "words = np.array(vectorizer.get_feature_names_out())\n",
        "\n",
        "# Top-Wörter für jedes Thema\n",
        "n_top_words = 5\n",
        "for topic_idx, topic in enumerate(lda_model.components_):\n",
        "    print(f\"Topic #{topic_idx + 1}:\")\n",
        "    print(\" \".join(words[np.argsort(topic)[-n_top_words:]]))\n",
        "\n",
        "#doc_topic_distributions = lda_model.transform(dtm)\n",
        "\n",
        "# Ausgabe\n",
        "#for doc_idx, topic_dist in enumerate(doc_topic_distributions):\n",
        "#    print(f\"Document #{doc_idx + 1}:\")\n",
        "#    print(f\"Topic Distribution: {topic_dist}\")\n",
        "\n",
        "import pandas as pd\n",
        "\n",
        "# Top-Wörter pro Thema als DataFrame\n",
        "topic_word_df = pd.DataFrame(\n",
        "    lda_model.components_,\n",
        "    columns=vectorizer.get_feature_names_out()\n",
        ")\n",
        "#print(topic_word_df)\n",
        "\n",
        "doc_topic_df = pd.DataFrame(doc_topic_distributions, columns=[f\"Topic {i+1}\" for i in range(lda_model.n_components)])\n",
        "print(doc_topic_df)\n",
        "\n"
      ],
      "metadata": {
        "id": "7mNMWXR2MSiG"
      },
      "execution_count": null,
      "outputs": []
    },
    {
      "cell_type": "code",
      "source": [
        "from sklearn.decomposition import TruncatedSVD\n",
        "from sklearn.decomposition import LatentDirichletAllocation\n",
        "from sklearn.feature_extraction.text import TfidfVectorizer\n",
        "\n",
        "templist = []\n",
        "for i in all_cleantext:\n",
        "    long_string = ' '.join(i)\n",
        "    templist.append(long_string)\n",
        "\n",
        "vectorizer = TfidfVectorizer(use_idf = True, max_features = 5, smooth_idf=True)\n",
        "#model = vectorizer.fit_transform([templist[0], templist[1], templist[2]])\n",
        "model = vectorizer.fit_transform(templist)\n",
        "\n",
        "\n",
        "lda_model=LatentDirichletAllocation(n_components=TOPICS,learning_method='online')\n",
        "lda_top=lda_model.fit_transform(model)\n",
        "\n",
        "for i,topic in enumerate(lda_top[0]):\n",
        "\tprint(\"Topic \",i,\": \",topic*100,\"%\")\n",
        "\n",
        "for i,topic in enumerate(lda_top[1]):\n",
        "\tprint(\"Topic \",i,\": \",topic*100,\"%\")\n",
        "\n",
        "for i,topic in enumerate(lda_top[2]):\n",
        "\tprint(\"Topic \",i,\": \",topic*100,\"%\")\n"
      ],
      "metadata": {
        "id": "XqZ02Xnuf5UE"
      },
      "execution_count": null,
      "outputs": []
    },
    {
      "cell_type": "code",
      "source": [],
      "metadata": {
        "id": "ZFrtKDCf5Qsr"
      },
      "execution_count": null,
      "outputs": []
    },
    {
      "cell_type": "code",
      "source": [
        "templist = []\n",
        "for i in all_cleantext:\n",
        "    long_string = ' '.join(i)\n",
        "    templist.append(long_string)\n",
        "end_string = ' '.join(templist)\n",
        "\n",
        "\n",
        "print(collections.Counter(end_string.split()).most_common(10))"
      ],
      "metadata": {
        "id": "2X_KmyZ36FFI"
      },
      "execution_count": null,
      "outputs": []
    },
    {
      "cell_type": "code",
      "source": [],
      "metadata": {
        "id": "wHL8rR-R5TXd"
      },
      "execution_count": null,
      "outputs": []
    },
    {
      "cell_type": "code",
      "source": [
        "templist = []\n",
        "for i in all_cleantext:\n",
        "    long_string = ' '.join(i)\n",
        "    templist.append(long_string)\n",
        "end_string = ' '.join(templist)\n",
        "print(end_string)\n",
        "\n",
        "#\n",
        "from wordcloud import WordCloud\n",
        "wordcloud = WordCloud(background_color=\"white\", max_words=5000, contour_width=3, contour_color='steelblue')# Generate a word cloud\n",
        "wordcloud.generate(long_string)# Visualize the word cloud\n",
        "wordcloud.to_image()"
      ],
      "metadata": {
        "id": "KVht1ejpxa8t"
      },
      "execution_count": null,
      "outputs": []
    },
    {
      "cell_type": "code",
      "source": [],
      "metadata": {
        "id": "CrQchaSYbroy"
      },
      "execution_count": null,
      "outputs": []
    },
    {
      "cell_type": "code",
      "source": [
        "import matplotlib.pyplot as plt\n",
        "import numpy as np\n",
        "\n",
        "x = np.linspace(0, 10, 100)\n",
        "\n",
        "plt.plot(x, np.sin(x))\n",
        "plt.plot(x, np.cos(x))\n",
        "\n",
        "plt.show()"
      ],
      "metadata": {
        "id": "DKG3GTYD8yRJ"
      },
      "execution_count": null,
      "outputs": []
    },
    {
      "cell_type": "code",
      "source": [
        "!pip install HanTa\n",
        "from HanTa import HanoverTagger\n",
        "\n",
        "tagger_en = HanoverTagger.HanoverTagger('morphmodel_en.pgz')\n",
        "\n",
        "print(tagger_en.analyze('driving'))\n",
        "print(type(tagger_en.analyze('driving')))\n",
        "print(tagger_en.analyze('driving')[0])"
      ],
      "metadata": {
        "id": "R8RGAmbv166c"
      },
      "execution_count": null,
      "outputs": []
    }
  ]
}