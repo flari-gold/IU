{
  "nbformat": 4,
  "nbformat_minor": 0,
  "metadata": {
    "colab": {
      "provenance": [],
      "authorship_tag": "ABX9TyMj0H+pURCDWvhAlLN5RNed",
      "include_colab_link": true
    },
    "kernelspec": {
      "name": "python3",
      "display_name": "Python 3"
    },
    "language_info": {
      "name": "python"
    }
  },
  "cells": [
    {
      "cell_type": "markdown",
      "metadata": {
        "id": "view-in-github",
        "colab_type": "text"
      },
      "source": [
        "<a href=\"https://colab.research.google.com/github/flari-gold/IU/blob/main/IU_RedditDataAnalysis.ipynb\" target=\"_parent\"><img src=\"https://colab.research.google.com/assets/colab-badge.svg\" alt=\"Open In Colab\"/></a>"
      ]
    },
    {
      "cell_type": "code",
      "source": [
        "#package installs with pip\n",
        "!pip install praw"
      ],
      "metadata": {
        "id": "TvJ-SwMePddJ"
      },
      "execution_count": null,
      "outputs": []
    },
    {
      "cell_type": "code",
      "source": [
        "#import modules\n",
        "from google.colab import userdata\n",
        "import praw\n",
        "import collections"
      ],
      "metadata": {
        "id": "5vOxKhQy3p3H"
      },
      "execution_count": 54,
      "outputs": []
    },
    {
      "cell_type": "code",
      "source": [
        "#parameter\n",
        "CLIENT_ID=userdata.get('CLIENT_ID')\n",
        "CLIENT_SECRET=userdata.get('CLIENT_SECRET')\n",
        "#PASSWORD=userdata.get('CLIENT_ID')\n",
        "#USERNAME=userdata.get('CLIENT_ID')\n",
        "SUBREDDIT='Sylosis'\n",
        "ANZAHL_POSTS=30"
      ],
      "metadata": {
        "id": "Tk1XFLpT4g4H"
      },
      "execution_count": 49,
      "outputs": []
    },
    {
      "cell_type": "code",
      "source": [
        "reddit = praw.Reddit(\n",
        "    client_id=CLIENT_ID,\n",
        "    client_secret=CLIENT_SECRET,\n",
        "    user_agent=\"my user agent\",\n",
        "    check_for_async=False #PRAW wirft sonst eine Warnung die die ASYNC API empfiehlt, sinnlos in diesem Fall\n",
        ")"
      ],
      "metadata": {
        "id": "aFH0pne4ODPu"
      },
      "execution_count": null,
      "outputs": []
    },
    {
      "cell_type": "code",
      "source": [
        "all_textdata = []\n",
        "user_upvotes = collections.Counter()\n",
        "user_contributionscounter = collections.Counter()\n"
      ],
      "metadata": {
        "id": "WhbpcIBpXkAk"
      },
      "execution_count": 55,
      "outputs": []
    },
    {
      "cell_type": "code",
      "source": [],
      "metadata": {
        "colab": {
          "base_uri": "https://localhost:8080/"
        },
        "id": "kx2Uz2TabHm4",
        "outputId": "dc6e839b-5600-423c-ce32-1210b81ab44b"
      },
      "execution_count": 56,
      "outputs": [
        {
          "output_type": "stream",
          "name": "stdout",
          "text": [
            "2297\n",
            "-1\n"
          ]
        }
      ]
    },
    {
      "cell_type": "code",
      "source": [
        "#Anfragen an die Reddit API mit über request liefern die Daten im JSON Format. PRAW vereinfacht dies, in dem man die direkt die Attribute ansprechen kann\n",
        "for submission in reddit.subreddit(SUBREDDIT).hot(limit=ANZAHL_POSTS):\n",
        "    #print(submission.title)\n",
        "    #print(submission.selftext)\n",
        "    user_contributionscounter[submission.author] += 1\n",
        "    user_upvotes[submission.author] += submission.score\n",
        "\n",
        "    #print(submission.author)\n",
        "\n",
        "    post_textdata = [submission.title]\n",
        "    post_textdata.append(submission.selftext)\n",
        "\n",
        "\n",
        "    submission.comments.replace_more(limit=None)\n",
        "    for comment in submission.comments.list():\n",
        "        post_textdata.append(comment.body)\n",
        "        user_contributionscounter[comment.author] += 1\n",
        "        user_upvotes[comment.author] += comment.score\n",
        "        #print(comment.body)\n",
        "\n",
        "    print(post_textdata)\n",
        "\n",
        "    print(\"\")\n",
        "    print(\"\")\n",
        "\n",
        "print(user_contributionscounter)\n",
        "print(user_upvotes)"
      ],
      "metadata": {
        "colab": {
          "base_uri": "https://localhost:8080/"
        },
        "id": "ZZ7Ks5C0Pl3O",
        "outputId": "a7515909-25d7-4a46-f2b2-73ef9ec72c9c"
      },
      "execution_count": 51,
      "outputs": [
        {
          "output_type": "stream",
          "name": "stdout",
          "text": [
            "['NOTICE REGARDING LEAKS [PLEASE READ]', \"Hi all,\\n\\nI received a heads-up recently regarding the presence of leaked information on upcoming releases in the sub. Nuclear Blast, as well as the band, are aware that we exist and saw that some information regarding the last few singles, as well as the upcoming album, was leaked early.\\n\\n**Please do not post any information regarding unreleased material ahead of any band announcements. This information will be removed immediately.**\\n\\nLet's do our best to be patient as we head into a period where a lot of content is sure to be on the way. Thank you all for your understanding and for being part of the community!\", 'Thanks! As much as I’m eager to find out I’d rather not ruin it for myself and let the band tell us when', 'Sounds good. Leaks will probably have a negative impact on the band too and I’m sure we all want them to be successful!']\n",
            "\n",
            "\n",
            "['Saw them for the first time in New Haven last night! I did the ESP M&G with Josh as well. Great guy!', '', \"Nice! I didn't pull the trigger on the M&G fast enough to get a spot unfortunately.\", \"That's sick. Probably would have done it too but you were quick on it I noticed. Got the poster I wanted at least!\", 'Fuckin awesome dude']\n",
            "\n",
            "\n",
            "['Setlist for upcoming EU tour', 'After seeing them two times in the last year, I am all up for some variety.  \\nSeems like they picked up Empty Prophets and The Path at the end of the US tour.\\n\\nMy wishlist would be the following:\\n\\nThe Path  \\nEmpty Prophets  \\nWithered  \\nTeras  \\nDeadwood  \\nSands of Time  \\nMercy  \\nEclipsed\\n\\nWhat are your guys predictions for the European tour setlist?', \"Shit they played Empty Prophets?? That's a first!\", 'As much as I love the new shit, the complete lack of Monolith material is criminal IMO.\\n\\nI’m not expecting Out From Below but either All Is Not Well or Fear the World would be nice.\\n\\nI’d love to see Empyreal back in the set too.']\n",
            "\n",
            "\n",
            "['killer show last night in pittsburgh. ', '', 'They kick so much ass live', \"I was at the roxian lastnight, they kinda phoned it in. They didn't even play the full set list either. I waited 12 years to see them again and it was like josh and some dudes doing sylosis covers. This line up had no energy.\\n\\nFit for an autopsy went fucking hard tho.\", \"While I'm sorry you didn't enjoy their set, they were giving it a lot of energy for the next-to-last show of a tour, and they sounded great to my friends and I.\\n\\nI've been in your shoes, last year with Gojira. I hope in time you can look back and have a more fond memory of this.\", \"I saw them in 2011 in philly at the troc and they were amazing, it was right as EoTE came out and josh just took over full time vocals. They only played maybe 5 songs but they had so much energy that everyone was talking about them after that show. The new material and the new line up just doesn't hit the same.\", 'Bands change, you change. Maybe while you and them were on the exact same page, you just aren\\'t now, but that doesn\\'t make it \"bad\". Can\\'t be 2011 forever.']\n",
            "\n",
            "\n",
            "['Can anyone confirm the Pittsburgh setlist?', 'From memory:\\n\\nPoison for the Lost\\nThe Path\\nPariahs\\nEmpty Prophets\\nWorship Decay\\nDeadwood', 'nothing pre cycle of suffering huh, that sucks', 'I hope they mix it up a bit for their European sets. Would love to hear some older stuff, at least teras. Just new material is a bit of a bummer for me.', 'The Path? Fuck yes. Hope that stays for New Haven.', 'https://www.setlist.fm/setlist/sylosis/2024/roxian-theatre-mckees-rocks-pa-4b509bd6.html', 'No title track from that either :(', \"Yep, that's me!\", \"I gotcha 😅 so we are creating a feedback loop, I see. Just for clarification, I wasn't there. Just trying to provide resources for help\"]\n",
            "\n",
            "\n",
            "['Giving away ticket for Fit For An Autopsy + Sylosis (23rd November)', '']\n",
            "\n",
            "\n",
            "['Shout out to Conor', 'I know Sylosis has been going through some changes, but Conor is awesome. At the Chicago show he stowed away my signed poster until after the show and then had a nice chat after. Cool guy and he shreds. ', \"Conor's awesome! Met him a few times at Sylosis gigs and he was always lovely\", 'Is Conor the guy running the merch table? I asked if they had rubber bands for the poster and he DOUBLED it.']\n",
            "\n",
            "\n",
            "['What’s your guy’s favourite song from Sylosis?', 'Also big up to the download announcement 😎', 'Teras', 'The River', 'Where the sky ends and mercy are tied for me.', \"Very hard to choose, but my gut says Procession. What's yours?\", 'I don’t think I can just pick one but apparitions is in the convo, edge of the earth is such a masterpiece in general.', 'Dystopia', 'Out from below', 'Apparitions is a masterpiece', 'Such a difficult list to choose from, Apparations takes it but there a lot that are so elite', \"Man all of these tie literally first place for me I can't ever choose, but some more than others depending on the day\\n\\nManipulation Through Idols  \\nThe Bereaved  \\nApparitions  \\nWhere The Sky Ends  \\nEnshrined  \\nEmpyreal  \\nA Dead Issue  \\nOut From Below  \\nBorn Anew  \\nReflections Through Fire  \\nFrom the Edge of the Earth  \\nAltered States Of Consciousness  \\nEarth's Dust  \\nTeras  \\nA Serpent's Tongue\\n\\n(I know, it's a long list, this is why they are my favourite band)\", \"Download looks terrible and Sylosis as embarrassingly low lol.\\n\\nJust something from Monolith, I really wish they'd play anything live. Hidden Track is special.\\n\\nEither that or Quiescent.\", 'Tied between Apparitions and Kingdom of Solitude', 'Right now? Soured Ground 🤘', 'Altered states of consciousness', 'What Dwells Within and Leeches', 'Teras', 'From The Edge Of The Earth', 'Propably Deadwood. I like their older stuff of course but there is something about the last two albums that just does it for me. Maybe ot is the lower tunings. Deadwood is such a banger from start to finish and a great opening track. Really sets the mood for the album', 'Disintegrate atm', 'Paradox', 'Out From Below', 'My favorite songs are definitely:\\nQuiescent \\nServitude\\nWithered\\nEmpyreal\\nAnd last but not least enshrined. I definitely have more favorites but im too lazy to write them😔', 'The Blackest Skyline or Sands of Time', 'Eclipsed\\n\\nFollowed by Procession, Oath of Silence, Fear the World, and After Lifeless Years. Subject to change depending on my mood 😅', 'Procession, hands down. One of my favorite songs of all time at this point.', 'Beyond the Resurrected and Fate of Vultures', 'It’s between Teras and Deadwood for me', 'From the edge of the earth', 'Does anyone here know of malevolence? Follow this subreddit if so r/malevolencemetal', 'Kingdom of Solitude', 'Quiescent', 'The way they just rip that riff apart at the end. I break my neck to that every time.', 'Peak Sylosis, it’s literally everything that makes them a great band packed into one track', 'I adore that choice! The a sign of things to come track may top it for me', 'It\\'s Apparitions for me. Sprawling epic of a track. Every piece is glorious. That outro (Chefs kiss) \"I have become, I have become, powerlesssss!\"', 'Yessssss', 'And the end of apparitions.', 'Earths dust', 'You are not alone!', \"What's your fave from this list?\", 'Apparations I must say', \"It's got it all. It's the first song I showed my at-the-time girlfriend who didn't listen to metal when I was indoctrinating her\"]\n",
            "\n",
            "\n",
            "[\"Cosen - One Of Us (Bailey's new band)\", '', 'Pretty meh imo but still will be rooting for them to do well because of Bailey', 'Thats not good. Even as far as clean metalcore singers go, that guy is bad.', \"I love the song. I was pleasantly surprised with the amount of clean vocals, although they are a bit too whiny- sounding in the chorus for my taste. \\n\\nIt's great to hear Bailey do his own stuff and the song packs a lot of cool stuff within just under 4 minutes.\", \"I was hoping for more of a Sylosis style - regrettably it's awfully generic.   \\n  \\nBailey has decades of Sylosis experience, i really wanted something in that vein.\", \"Yeah it sounds very average. But I'm still excited to hear more from them.\", '\"I was hoping his new band would sound like the band he chose to leave\" 🤡🤡🤡', \"Okay big brain. \\n\\nWasn't it touring commitments he couldn't meet? Not musical differences. \\n\\nIt's hardly a stretch to assume his own music would be at least flavoured by Sylosis.\", \"He's been in Sylosis and played that music for decades as you say, Sylosis is almost exclusively Josh's writing and it's totally understandable that Bailey wants to try something completely different.\\n\\nHe might still love Sylosis, but why would he want to replicate that sound when he's done it for years and it was never *his* vision to begin with?\"]\n",
            "\n",
            "\n",
            "['Set Time?', 'Seeing Sylosis tomorrow night (Nov 15) at House of Blues in Cleveland with my son (15) - both huge fans 🤘🏼🤘🏼 we have about a 3 hour road trip and he doesn’t get out of school until 3:30. Does anyone know when their set time is? I like Fit for an  Autopsy but we are really only interested Sylosis and I’m stressing that we may drive all the way to Cleveland and still miss some/all of their set. Any heads up is appreciated 👍🏼', 'They usually go on at 7:15/7:20 pm! Judiciary play 6:30-7', 'You’re welcome! They’re about to go on stage now in Detroit and its 7:10', 'To me they kind of stole the show on this tour. Their set was so tight.', 'Whew!!! Very much appreciate the help - we will make it in time 🤘🏼🤘🏼#FaceDownInTheDirtAgain 🤘🏼🤘🏼', 'Enjoy the show! We are excited to see them tomorrow night! Hope it’s a good crowd for you in Detroit tonight and us in Cleveland tomorrow🤘🏼', 'Totally agree they were tight and polished and still surprised about them being second to perform and wished set had been longer. As for stealing the show,  we only went to Cleveland show to see Sylosis so we left after their set (took son and he had early swim\\npractice this morning)so not sure how others did (though we liked Judiciary way more than I thought I would since I hadn’t listened to them). Was weird seeing guitarist Connor working merch line 10 minutes after their set was done.  Glad we got to seem Sylosis 👍🏼🤘🏼🤘🏼', \"They fricken sick, you'll enjoy it. Also, their guitarist is working the merch desk so you go say hi afternoon. Super nice dude.\", 'Will do👍🏼🤘🏼🤘🏼']\n",
            "\n",
            "\n",
            "['London Ticket?', \"Might be a long-shot but if anyone is unable to go to the London show I'd happily take the ticket (I'll pay ofc) :))\"]\n",
            "\n",
            "\n",
            "['Manchester spare ticket', 'Delete if this is against rules. \\n\\nI have a spare ticket on my phone if anyone wants entry to manchester gig in a few weeks. \\n\\nDm me first come first serve. ']\n",
            "\n",
            "\n",
            "['Metal merch stores in London?', 'I’m traveling there for Christmas, and I’d love to get some recommendations for any places where I can find any sorts of metal band shirts, posters or CD/vinyls etc. \\n\\nEspecially since Sylosis are also from the UK, I figured it’d be easier to find some of their stuff in their home country. Thanks in advance!!!\\n', \"Most likely out of luck, you probably won't find much given their vinyl collection was...\\n\\nCOAA - Anniversary press, limited, only on website. \\n\\nEOTE - Original press, limited. Repress sold only on website and sold out.\\n\\nMonolith - unpressed.\\n\\nDormant Heart - Rarely see it, only two variants. \\n\\nCOS - Only on website, don't tend to see it.\\n\\nYou should be able to pick up ASOTTC though.\", \"Cool Merch in Basingstoke sells band tees. Basingstoke is probably about 30-60 mins away from London by train, depending on what area of London you're in. \\n\\nI have no idea if they would stock Sylosis shirts, but I've seen other metal bands like Gojira & Cannibal Corpse in there before.\", \"Honestly their stuff is mostly available on their site. You'll find some copies of COS or ASOTTC on vinyl in stores like HMV or FOPP, but you'll probably find their CDs more easily\", 'you can get the vinyl for ASOTTC at most hmv stores… almost 0% chance of finding any merch']\n",
            "\n",
            "\n",
            "['Why do people tend to not like Dormant Heart?', \"This was the first Sylosis album I'd heard and thought it was great. Over the years I've noticed fans and Josh stating they dislike the album and put it down as their least favourite, which is odd to me.\\n\\nIt's got great tracks like Leech, Servitude and Victims & Pawns.\", 'I love the album.\\n\\nIve never heard anyone call this album bad.  Maybe this is a USDA Prime ribeye, when people consider some other albums to be Wagu?  \\n\\n  \\nAlso Quiescent is incredible.  Josh Amadeus Middleton IMO.', \"It is certainly not my least favorite, I'd put it at #3 on my list. I think the main reason people and the band to an extent dislike it is because it was a transitional album. Kind of like Opeth, I view the band as having three distinct eras: Coclusion of An Age marks the end of the first, Edge Of the Earth marks the beginning of the second, with Dormant Heart being the end/middle child between that and their current era which began with Cycle of Suffering. DH sounds like an identity crisis. They wanted to let go of their old sound and do something a bit different but were figuring out how to do that so it led to a bit of a disjointed record. \\n\\nMy favorites were EOTE and Monolith. I love the proggy/neo thrash centric sound they had in that time. The long solos of EOTE are some of my favorite pieces of music ever written. I'm glad the band is getting the recognition they deserve now but honestly my least favorite album is A Sign of Things To Come. Just seems like a sterilized, streamlined version of how they used to sound. I still like it and it's great but when compared to the absolute masterpieces they produced before, it just pales. Heard somewhere they're going for more of an EOTE vibe for the next album. Hoping that's true.\", \"This album is fire as fuck I don't know why anyone would not like it\\n\\nfrom top to bottom it hits\\n\\n  \\nedit: I am a huge sylosis fanboy and super bias imo sylosis never made a bad track in their life so you shouldn't listen to me LOL\", \"It takes a practiced ear to enjoy the album compared to the newer stuff. Once you develop a taste for it however, it's one of my favorites of them. As their older stuff is more niche.\", 'Omg servitude is one of my fave songs, the memory of receiving a elbow to the face live and the resulting black eye will stay with me forever lol', \"Quiescent is arguably the best song they've ever written in a tie with secret track from Monolith.\", \"The only thing I don't like is that weird pick scrape beeping sound thing that ruins the awesome mid riff in To Build A Tomb and the title tracks intro riff.\\xa0\\n\\n\\nI never noticed it for years weirdly then outta nowhere it was clear as day, Josh himself said he or the people in the studio didn't notice it either.\", 'I thought it was pretty good.', \"It's just more of what was on Monolith but without the quality.\", \"Honestly I didn't realise this, I really like it a lot!\", 'I really like it. Probably my favorite album!', 'I love the album. Where the wolves come to die is the my favourite song off the album. Is it my favourite sylosis album? No.', 'Mercy is still my favourite song of all time!', 'First album I heard from em and my favorite. I think monolith and this album is Josh’s peak vocals and vocal performances. Especially the ending screams on Quiescent!', 'This is one of my favorite albums from them, back when they still played in E standard. Whole album is incredible, dynamic and well-thought-out. Plus, I loved their playthrough videos on the singles.', 'I love it', 'When this record first came out people were referring to it as “And Justice For All-Core” and once you frame it that way. Its a brilliant album', 'I love it. And most of my friends consider it one of their best albums as well.', 'One of my favorites', 'I still want them to release the lyrics to Quiescent', \"That makes sense when you put it that way\\n\\nIn regards to new albums, Josh has said they're working on a new album that'll be more in line with the last album, but separately working on an EOTE 2\", 'literally pulled from my brain eote and monolith are goated', 'Edge of the Earth and Monolith and Dormant Heart form a trilogy in my opinion', 'I remember they played it in D standard at the reunion show, sounded super heavy!!', \"I'd say Disavowed from the new EP is up there too!\", 'I noticed it after a few listens, definitely sticks out every time I hear it', 'Really? Admittedly I was never aware of \"metalcore\" at the time and thought it was a brilliant melodic thrash album (I know that\\'s far off but I didn\\'t know any better)', \"I don't like it too much. I prefer COAA; EOTE; for the older Albums.\\nThe Riffs aren't doing it for me and Lyric-wise also\\n\\nCOS and ASOTTC are peak in my opinion\", 'This was the megadeth, cob and log tour in uk. Many moons past', \"Soured Ground best song on the Path for me but don't think any of them are near those two.\", 'Yeah, Josh himself was even saying it. I personally love the record, I wouldn’t say this is metalcore at all, but a funny nod to the And Justice For All thrash style', 'You do you, brother in metal.  But are you comparing Wagyu to USDA Prime?', \"I would've loved to see them on that tour. I walked into the venue in Dublin to see CoB walking onstage\", 'Whats ur opinion on monolith, deffo the album that got me mad into sylosis.', \"I like Monolith, for a while it was my favourite Sylosis album! I came on in the car earlier and forgot how great it is. I feel like if it came out a while after EOTE, instead of just a year, it would've done a lot better. Some great songs on that one\", 'A dying vain, behind the sun and fear are the dogs danglys. Showing my age, been a sylosis fan for 12 years minimum', \"Honestly I don't think Monolith has a bad song, maybe have a slightly better guitar tone (in my opinion it should be a bit sharper) but otherwise a great album\", 'Bwtter tone than conclusion but yeah.\\n4 weeks till Manchester gig. Buzzing']\n",
            "\n",
            "\n",
            "['Sylosis Dallas Show 10/30', \"Sorry for the repost of a reply to an earlier post, I just want to give Sylosis the proper recognition they deserve. I have patiently waited to see them live again and they killed it!\\n\\nFor those who know, I was the long-haired blonde guy at the very front of the stage going ape shit for Sylosis. I have waited over 12 years to see them again, and it was f'n awesome! Great job, Dallas, for showing out for Josh and company. Shout out to Ty and Garrett! Ty, for being a badass young buck and Garrett for recognizing my Shrine Sudios shirt, you guys made an awesome night even better!\", 'im going in denver and wanted to know where they were in the lineup. they are my fav metal band and i assume they were second billing but the poster shows different', \"I'm seeing them tomorrow. I'm super stoked but it's also a bit upsetting that this is their first US tour in twelve years and they are skipping so many of their singles and stuff. Three of their new songs is a bit overkill considering the circumstances. I'm not trying to complain but it is a bit disappointing that I won't hear I sever. I just hope that I don't have to wait another decade to see them.\", 'You are correct. They were the second band to perform.']\n",
            "\n",
            "\n",
            "['Dallas- Cycle of suffering', '', \"How is Conor playing? I do worry about his neck 😅 sound super tight here, glad they're doing well across the pond!\", \"Love to see it. Tour didn't hit my area but I wish it had.\", 'Where is everyone', 'where were they in the lineup?  the poster shows second to last billing', 'Dallas needs move their limbs. The hell are they doing GET OFF YOUR PHONES AND WATCH THE SHOW', 'Human bobblehead xD', 'Middle sections were packed, great turnout considering how different they were from the rest of the lineup.', 'They were the 2nd band to go up']\n",
            "\n",
            "\n",
            "['Live at High Voltage CD for sale!', '', 'I guess this may be a bit of a rarity. I purchased it in person at the festival the day after their set if I recall.']\n",
            "\n",
            "\n",
            "['Dallas Show', 'I, like many others, FINALLY got to see them live tonight. Dallas really showed up for them. I spent much more at the merch booth than I typically do. I really hope I’m not the only one that does that as I’d really love for them to continue coming to America and making money on their tours!\\n\\nI so badly wish their set was longer and they were higher up in the billing position but still made my month to finally see them!\\n\\nAlso is it just me or is the Granada is the worst metal venue in Dallas? I’ve been to 3 or 4 metal shows there in the last year and the sound is awful every time. ', \"It looks like they're killing it out in the US, which is great to see! Hopefully it continues when they go back next year with Trivium and BFMV\", 'Yeah, I went to that show just for them. Bought the signed poster and the tour shirt from Conor at the merch table. That last bit of Teras was fucking SICK!!', 'I went to the Houston show and the crowd size was disappointing. But it was my first time getting to see them since I started listening in 2011. So yes I also went crazy at the merch table, Connor wouldn’t let us tip lol. Ive heard they are taking a loss doing this (being second act is also criminal for them) but hopefully the merch sales really help out.', 'Conor Marshall was running the merch booth at one show, told him how excited I was to see them back in the states since 2012, he told me there would be more where that came from', \"Been a huge fan for about 13 years. Heartbroken that I couldn't go, but wifey is pregnant and having a bad night/had to work late anyway. Hope they come back soon and I can finally see one of my favorite bands live.\", \"For those who know, I was the long-haired blonde guy at the very front of the stage going ape shit for Sylosis. I have waited over 12 years to see them again, and it was f'n awesome! Great job, Dallas, for showing out for Josh and company. Shout out to Ty and Garrett! Ty, for being a badass young buck and Garrett for recognizing my Shrine Sudios shirt, you guys made an awesome night even better!\", \"For those who know, I was the long-haired blonde guy at the very front of the stage going ape shit for Sylosis. I have waited over 12 years to see them again, and it was f'n awesome! Great job, Dallas, for showing out for Josh and company. Shout out to Ty and Garrett! Ty, for being a badass young buck and Garrett for recognizing my Shrine Sudios shirt, you guys made an awesome night even better!\\n\\nThis was my post, but I wasn't logged in🤦\\u200d♂️\", '[deleted]', \"Yeah I'm so happy they're gaining traction cause they really deserve it!\", 'It was! It threw me off hearing Teras played in a lower tuning but sounded awesome.', 'They’re supposed to be supporting trivium in April!', 'They were second in the lineup. About 45 minutes to an hour after show start time is about right.']\n",
            "\n",
            "\n",
            "['Got to see them live yesterday for the first time. They sound great. Sad they only played 6 songs. I was expecting to buy the vinyl and some merch but the only thing that I liked was the signed poster.', '', 'I still don’t understand at all why the agreed to finally tour the US for the first time in over a decade as 4th billed especially because they’re the most deserving of 2nd billing on the lineup.', 'I was there as well, it was a great show ( unfortunate the venue had such a poor turnout) but these boys put on a hell of a performance. I went a little hard at the merch stand to give em the extra support.', '6 Songs is fucking tragic....', 'Hey, I was there too. Great show.', 'Houston? I was about 5 ft to your left then :) I think Sylosis had about the most engaged crowd that night, apart from maybe FFAA. Wish they had a longer set also, so many good songs to pick from their catalog.', 'yeah, I’m going to see him in Denver and I just a huge fan and then you see that there is second to last billing on the poster pretty disappointing but it’s all good unless I get to see for the first time', '100% agree 😖', 'Omg seriously, I was so excited for this show now I find out out their set is only 6 songs. SHIT', 'Really? I had to leave right after Distant. So Idk how it went from there.']\n",
            "\n",
            "\n",
            "['made this image based on the band, thought it was cool', '', 'Kinda just looks like AI slop, ngl', 'Nahh josh wouldve paint better than this 😭', 'Could totally see that being a single art for one of their older songs! I feel like the pentagrams are a bit too on the nose for sylosis though', 'Needs more pentagram', 'You may want to specify that AI was used in the title next time. The hive mind hates AI imagery… Neat image though. [Here is mine I made a while back.](https://www.reddit.com/r/Sylosis/s/cgSw8nlRJZ)', 'i like it']\n",
            "\n",
            "\n",
            "['The new guy is great!', \"Just got to see them first the first time. Been waiting since 2010 to get a chance. I'll always miss Alex Bailey. But Ben did a great job working the crowd and he had some great energy. \", \"I wish I had gotten to meet with Josh. I've been looking up to his guitar playing for nearly half my life. I almost bought one of the guitar packages. But they sold out before I could convince myself to spend the money.\", 'Saw them for the first time last night as well. Talked with Connor a bit at the merch stand and he was super cool. I did run into Josh as well but he was resting his voice, understandably.', \"After posting and doing a little more digging, I feel I should also mention Connor by name since he is the one who actually took over for Alex. I think i had their names backwards (I'm still learning the new guys sorry). He's also doing great. Very cool dude. \\n\\nIn short, get out and go see them!\", 'Did they play first?', \"Wait so Connor's now doing guitar instead of bass? Dude must be seriously talented to be able to cover both for a band like these guys\", 'Judiciary played first, and Sylosis played second.', \"That is what threw me off about the post. I thought Ben was replacing Alex. But after digging into their social media, I realize now that it's Connor. Ben is the new bassist.\", 'Yes he is. I asked him on instagram if he was staying on second guitar while Ben is taking over bass, and he confirmed it. Gonna miss Bailey but Conor is cool shit so I feel better about him taking over the spot', 'He already did that on the european tour, Bailey was on paternal leave at the time.', 'Thank you', \"That's crazy, props to him!\", 'I been saying this since the first announcement 😂 Conor is already an incredible guitarist. Most bassists tend to be guitarists also. Look at VMAN from Slipknot also', \"No joke! He's got some serious talent.\", 'There’s a very high bar set for quality in Sylosis, they’re very strict, a testament to the band.', 'bassists for metal bands are usually very great guitarists']\n",
            "\n",
            "\n",
            "['Manchester ', 'Anyone up for grabbing a few beers before the Manchester show ?- I’m fairly new here and don’t know anyone who’s into this kind of music haha', 'There are a few cool pubs by the venue. Remind me b4 the gig 🤘']\n",
            "\n",
            "\n",
            "['First time seeing them🤘🤘🤘', 'Super stoked that I got to see them finally. Sucks Josh and Ben were both sick but I’m grateful that they played at all. Also picked up one of the signed posters. ', 'I had a listen through the whole \"conclusions of an age\" album and it reminded me how much I love this band.', 'How was it?', 'Their new EP is soooooo good', 'You could definitely tell Josh was struggling with the vocals. And he definitely looked sick but toughed it out. They cut the set short by a song I believe. Music was spot on']\n",
            "\n",
            "\n",
            "['What are the themes in ASOTTC', 'In particular Absent and Godless Throne. Josh is such a good lyricist that so many of the songs can be interpreted differently and for some reason those two resonate with me the most, but what are your interpretations of those songs? Especially since they seem to be the more “emotional” songs in the album', '*Absent* is about being unable to emotionally support someone due to your own depression. That’s from Josh himself I think.\\n\\nI think it’s also about accepting the realization that your own struggles are preventing you from fully connecting with someone you care about, and having to give yourself in pieces at a time as you’re able and hoping that will be good enough. \\n\\nI don’t know if Josh has spoken about *A Godless Throne* and its meaning, but my interpretation is that it’s about feeling as if your life has been wasted on you, and that someone else would have been more deserving of the time you were given. Feeling as if you’re never doing enough, not enjoying things you’re lucky to have, and grappling with the fact that you’re alive and healthy while someone (or multiple people) you’ve known and cared about have lost their lives.\\n\\nThe lines “I’m deaf to your words, I’m blind to your actions. I couldn’t sense the change in the air, or see the lights refractions” are interesting to me.\\n\\nThe first sentence might speak to the feeling of depression, and not being able to connect with someone or feel what they’re communication in a meaningful way. It might also speak to the regret when looking back at a cry for help that you didn’t initially notice, and maybe because you didn’t notice you weren’t able save someone who needed you.\\n\\nThe second sentence makes me think of the unimpressive nature of death. You hear stories about people intuitively knowing when someone close to them has died, like they could sense them passing on and feel the absence they left before they even knew they died. In my experience that hasn’t been the case though; you can watch someone in their final moments and intellectually know they’ve died, but there’s no significant sign or sensation. The air doesn’t change, there’s no visible spirit leaving the body, and you can’t even see light fading from their eyes. They’re there one moment, then they aren’t. Their loss might be emotionally catastrophic, but the whole process of death feels physically insignificant as your loved one unceremoniously becomes a piece of matter that looks exactly like them, but is no longer them. It’s not even as if it feels like their spirit has left their body, but rather that they just vanished into nonexistence while the world remains unchanged.\\n\\nThe line “And I’ll be waiting for the ground to swallow me, but only to close my eyes and not see it’s taken you” also makes me think of longing for someone who’s died, but feeling as if there will never be a reunion. You’ll die, and upon your death there will be no one to remember who you lost, and no reunion for you both. You’ll both have vanished, and if that’s the case, then why couldn’t they have at least gotten the time you were given that you couldn’t enjoy or didn’t feel worthy of? For you, maybe vanishing isn’t so bad, but the knowledge that they could have gotten more out of life than you can, yet they’re the one who lost their life, seems senseless and unfair. \\n\\nThose are Godless circumstances, and maybe A Godless Throne refers to the chaotic and sometimes cruel nature of the universe; if there’s a throne from which an omnipotent and loving ruler orchestrates the events of our world, it’s seemingly vacant.', 'Idk about absent, didn\\'t vibe with it,\\nBut godless throne is a recurring theme throughout the albums, from his talk in a podcast he said about edge of the earth (the song) that it was about the guilt he was feeling, and somehow he doesn\\'t know what is the source of it or what went wrong.                 \\n\\n\\nAnd in godless throne there\\'s this line, \"I don\\'t know where I belong, but I feel like I\\'ve done wrong\" it\\'s pretty self explanatory once you know it\\'s just guilt without a source']\n",
            "\n",
            "\n",
            "['First time seeing these guys live', 'Was a short set due to Josh and Ben both catching the flu hope they get well soon! The crowd in New York went nuts for them and hopefully they will make enough off merch sales to comeback in the future.', 'Imagine getting into Sylosis, like I genuinely wonder what Marshall’s feeling right now. What a rush I bet.', 'I bet it was amazing. Was Bailey still there or was his departure instant, haven’t seen any interviews on it and can’t quite remember everything he said in the post.', 'I was there last night I took a picture with Ali and Corner, They played fantastic regardless of them being sick', 'Great shot!', \"I finally get to see them in November when they come to pittsburgh, i've waited 11 years for them to come back to the states.\", \"I saw them on the Lamb Of God tour in 2013  it's crazy that it's been 11 years since they were last in the states . I wish I could catch them on this tour 😞 I love that they are going to support on the Trivium/Bullet For My Valentine Ascendancy/Poison anniversary Tour these guys are busy!\", 'Man the venue they played in (Irving Plaza) had a great sound and I may or may not have had a few rum and coke’s before hand haha. The pit was intense for my 31 year old body so I just headbanged the whole time. It was a good time!', 'Nah he left before the tour and Conor Marshall took his place. I believe Bailey played the final show with the band in London as a farewell but I could be wrong.', 'Hell yeah!', 'Thank you!', '37 here, you played it exactly as I would have! They had to cancel their US tour before they got to my area, I was so bummed. Just glad they made it home safe. I’d probably be so overwhelmed with emotions if I ever got to meet them, I’d probably cry like a weirdo hahaha!', \"That London show's yet to happen\", 'Connor Marshall has been in the band since 2019, he just switched from bass to guitar now. The new member / new bassist is Ben Thomas.', 'Hahaha yeah man well hopefully you’ll get a chance one day to meet them', 'Got ya thank you!']\n",
            "\n",
            "\n",
            "[' 2024 US Tour Merch ', 'R', 'Thanks for posting! Can’t wait to get one of everything lol', 'Cool! Thanks for sharing.Ill snag the green one tomorrow!Are they hanging out by merch ?', 'Hoping they have 10 of those posters for each show and not the whole tour. I have to wait until the last show to see them.', 'Cool! Thanks for sharing.Ill snag the green one tomorrow!Are they hanging out by merch ?', 'Is it ok to be envious? \\U0001f979', 'fucking bullshit that they are skipping Toronto', 'They all so fucking cool', 'Hoping for a decent spread when I see them next year. This looks pretty good!', \"I'll be there tomorrow! Thanks for the heads up!\", 'Conor was']\n",
            "\n",
            "\n",
            "['set list?? ', 'does anybody know the set list for the us tour? i’m really hoping they play after lifeless years 🤘', 'Just saw them tn in NYC. Set list was only 4 songs. Apparently Josh and the bassist caught the flu on the flight over so they cut their set short. \\n\\nPoison for the Lost, Pariahs,Cycle of Suffering, Deadwood', \"The first show they played 6 songs so I'm guessing this is usual set list when they are healthy.\\n\\nPoison for the Lost, Pariahs, Cycle of Suffering, Teras, Worship Decay, Deadwood\", 'Sad that they don’t get the credit they deserve', 'They played this plus Teras and Worship Decay in Worcester', 'So fuckin trash that they have such a small setlist, idk why they agreed to a show with such shit billing for them', 'it is sad :(', \"They're literally 2nd on the bill. You seriously couldn't have expected longer. It's their first time in the US in like 11 years. Better to play it safe rather than lose money.\", \"It's because they dont write songs with the edge of a 12 year old pimply boy with his moms box wine.\", \"They're already losing a lot of money by doing the tour\", 'Wait when did they get 2nd billing, on the poster for the tour they were billed 4th behind FFAA bodysnatcher and distant, also 2nd billed bands usually play more than 6 total songs, its not even like Sylosis is playing their longer progressive songs. They got co headline billing with FFAA for the Uk tour but for this US tour they got 4th billing at least when it was announced', 'Ya after checking they got 4th billing, 2nd billing would’ve meant they played 2nd to lash when it reality they were the 2nd opener and had Jack shit for set time. Makes no sense to finally come to the US and do it getting 4th billing behind multiple smaller bands, they could’ve totally set up a tour with someone where they could headline or some shit like that', \"Josh said that they're taking a pretty big hit on this tour unfortunately\", 'This is incredibly sad, when I heard josh say this it broke my heart', \"That really sucks, because most people I've talked to have said they just wanna see Sylosis and FFAA.\", 'Even though Parkway drive has been putting out some trash lately, the right way to go about a tour for Sylosis and actually MAKE money in the US, would be a tour with a bill like Parkway, Trivium, Killswitch, and maybe even Make them Suffer or Spiritbox. Sylosis newer albums fit in those categories a bit, so I could see it working. Plus I heard courtney when asked in an interview about Sylosis, she said \"Josh just gets some people all sorts of hot and bothered\", lmao.', \"Unfortunately that's just the way their industry works. I'm hoping they're looking at it as an investment that hopefully pays off in the long run\", 'Ya exactly way more hype to see Sylosis than bodysnatcher or distant, I truly have no clue how they got billing over Sylosis and don’t get why Sylosis even agreed to this tour getting 4th billing, it makes no sense', 'They are opening for trivium and bullet for my valentine next year but still they’re pretty low billed for the tour, it’s a shame we couldn’t get them doing a coheadline tour where they’d  actually get to play a decent length set. I had no clue Courtney was ever even asked about Josh/sylosis, I guess at least she know them lol']\n",
            "\n",
            "\n",
            "['Pedals for solos?', 'Hey, just wanted to ask,\\n\\nDoes josh ever use a wah pedal for the solos live or on record?\\n\\nIf so, which one is it if anyone knows, or does it even matter?\\n\\nThx a lot', \"https://www.instagram.com/tv/CY_4stHoGIu/?igsh=aTd6MHV0OHF3djE2\\n\\nIt seems like he's just using a regular Dunlop Crybaby. He has used the wah on Heavy Is the Crown, Deadwood, Pariahs and Descent. However, he doesn't use it when he plays those solos live.\\n\\nEdit: He also used a wah on the solos in Servitude and Indoctrinated.\", 'Use Wah on Descent', \"Thank you very much!\\nI've been looking for a wah pedal but didn't know which one to get since there are so many different ones but now I know.\\n\\nI thought he used it on the official Deadwood live video...? But I could be wrong, :)\\n\\nCheers mate\", \"You're welcome! \\nI saw all of their official and fan-filmed footage since he started using a wah, plus saw them live last year (basically stood in front of Josh for most of their set) and he doesn't use a wah. Probably because they aren't using real amps anymore and go straight into Quad Cortex rigs so he doesn't have a single pedal in front of him, plus him or someone else might accidentally step on the pedal during the set.\", \"Ah ok, got you!\\nI guess it's way more handy that way!\\nNonetheless absolute killer sound!\\nCan't wait for The December Tour💪🏻\", 'Me too!']\n",
            "\n",
            "\n",
            "['Tour merch', 'If anyone is going to see them on tour with fit for an autopsy could we see a pic of their merch ? I’m going to the show in Baltimore first time seeing Sylosis and just curious what merch they have available ', 'No photos but they had 2 black shirts, one was the tour shirt, one green shirt, a black hoodie, a hat, a patch set, and a signed poster.', 'How much was the signed poster? If you remember.', 'I think it was $25. It\\'s pretty funny they all signed their names but Josh just wrote \"Josh\" in plain text lol', 'Haha. Hopefully they still have them when I go to the last show of the tour']\n",
            "\n",
            "\n",
            "['God fucking damnit.', '', 'Yo it’s Bailey, usually only use Reddit to watch Rocket League clips and get DIY advice but saw this so wanted to say thanks to all of you for supporting the band over the years 🤙🏻 happy to answer any questions if you got any', 'Damn, what a bummer. I’ve met Bailey a few times when Sylosis toured the US in the early 2010s and he was always the most personable guy in the band when it came to talking to fans IME (they were all cool though). \\n\\nI know Alex wasn’t an original member of the band, but he was in the band when I first discovered them in the CoaA era. It makes me kind of sad that Josh is now the only remaining member from that time. First Jamie, then Rob, Carl, and now Alex left.\\n\\nI’m curious to see who fills his shoes. Sylosis will continue to shred and release kick ass music without him, but it’s a sad day when any longtime member steps down due to the hardships of balancing touring with normal life. I wish him the best with his merch company and growing family, and hopefully we’ll see him return for a few shows here and there when he’s got the time.', \"Maybe that solo took it out of him? Lol.\\n\\nJoking aside very sad news he's a great rhythm guitarist.\", 'Josh is officially the only founding member of the band that remains.\\n\\nHate when that happens.', \"Genuinely gutted over this. Met Bailey a couple of times and he was always super nice and made time for fans, Sylosis won't be the same\", \"Damn, that's sad. I wish him the best, and I hope that the band can find a good replacement. No easy task.\", '[deleted]', 'He kicks ass so this is a bummer but also Josh and then maybe Ali/drummer is kinda all that really matters for the most part when it comes to creating new music.', 'That’s such a bummer', 'No original members left apart from Josh 🥲', 'Thank you sir, you are a legend. Also love the quality of your allotment productions.', 'Understandable that you have to step away. Enjoy adulting instead touring 😂❤️', \"Man, thank you for your service. The first time I saw Sylosis was in Warsaw last December, bummed beyond fathom to know there won't be a chance to meet you anymore.\", 'Hey, Sylosis are my joint favourite band (alongside Trivium). I’m glad I got to see you guys and get your autographs at Bloodstock this summer. Those technical issues were a bummer though!\\n\\nI saw Josh’s post about your new project Cosen. Took a look at the studio vid. Very promising. Looking forward to hearing what you guys record.', 'Absolute chad thank you for your wonderful music\\U0001fae1', \"What's your rank in rocket league? And what's the hardest skill you can do?\", \"Sylosis won't be the same without you, but best of luck! I remember you taking the time out of loading out to chat to my girlfriend and I after Pulse of the Maggots in 2022. You were telling stories from tour and whatnot, but I always appreciated you did that for a fan - thanks man. Still got the pic and set list framed at home hahaha\\n\\nThanks for all the riffs and good memories, looking forward to Cosen's music!\", 'Thank you for your service \\U0001fae1 Miss you already!', 'I remember meeting you way back in 2011 I believe. The band played as a three piece cause you had broken your arm or something, then saw you guys again a few years later with LoG and you guys were so great! No questions but just wanted to thank you for all the music and wish you the best in your future!', \"You being a Rocket League fan is not what I expected 🤣 Do you watch the esport side of things? If so, who do you support, teams and/or players? \\n\\nVery sad to see you leave, you guys have been my favourite band since I was 15 and were instrumental in the direction I headed in musically, having been the soundtrack to the best and worst moments of my life yet still continue to inspire me. Thank you for playing a big part in that, I'm looking forward to seeing what you cook up in the future! All the best Bailey, thanks for all the tunes and memories.\", 'I saw you guys when you toured with Aild, again with LoG. You actually helped jump our car at 4 am or so in the morning with the tour bus, it had died while we were waiting for the girls who came with us to get back from hanging with LoG after the show. Thanks again for that, cool memory!\\n\\nI do have a few questions, what are some riffs you contributed to songs over the years?  I thought i had heard your wrote a majority of where the sky ends and some of what dwells within? Also, what are your all time favorite tracks and maybe a memory associated with them(performing, writing, studio)\\n\\nLooking forward to Cosen, and much support for you and your family as you move forward!', 'Do you play hoops? I’m a hoops main and all the homies clown on me. But I’m a hoops god so I whoop their ass', 'I think I saw you play with Sylosis 10 times over the years - you were always great!\\n\\nAnd it makes me very happy that I was present at the first highlight you mention! I ran into you, Rob and Carl near the bar tent at Sonisphere the year before that, just after the first time I saw a Sylosis gig with Josh on vocals, you seemed like a great bunch.\\n\\nThanks for the memories, and good luck in the future.', 'Good luck and fun to you in the future \\n\\nWanted to ask some gear related stuff.\\nDid you guys use wah pedals in Sylosis or do you wanna use a wah pedal in your new projects?\\n\\nIf so, can you recommend me one?\\n\\nCheers!', 'Saw you guy in Norwich earlier this year. Always been super impressed with your playing. Thanks for the memories and all the best with everything.', \"They've already announced Ben from Venom Prison is taking his place\", 'Which one?', \"Bailey wasn't a founding member. Sylosis has always been joshes band\", 'Pretty sure it’ll be Conor.', \"Let me answer that instead:\\n\\nYeah, true, but I believe Cosen won't tour as heavily as Sylosis, leaving space for family time.\\n\\nCarl's been into online marketing business stuff for a long while before he left, seems to me that he saw more opportunities to make cheddar by pursuing that career.\", 'Cheers mate!', 'Am sure will come through Poland with my new project at some point :)', 'Awesome! Agh man that Bloodstock show was…. Interesting. \\n\\nYeah we should have a single out soon 🤙🏻', 'Thanks mate! 🙏', 'Peaked at champ 3, can flip reset in training 😅 what rank are you?', 'Thanks mate 🙏 agh yes I remember that, Birmingham on that brutally hot day. I ended up going to play crazy golf down the road cos it had aircon 😅', 'Thanks mate! Yeah must have been America. I broke my arm because I climbed up a flag pole at a motel after a few too many beers and the pole snapped when I got to the top. Hit my wrist on impact of the fall and broke it - so did merch for the tour instead 😅 Brandon Ellis who now plays for Black Dahlia Murder filled in for that tour, he learnt the set in under 24 hours', 'Listening to thrash while playing rocket league is perfect combo 🤙🏻 I watch some RLCS, don’t support anyone particular but always keen to watch Zen! \\n\\nThanks for the kids words mate!', 'Haha I remember the car jumping! Good times 🤙🏻\\n\\nMost recently did the solo on As Above So Below, and off the top of my head for older stuff contributed to Procession, What Dwells Within and Eclipsed. I loved playing the songs live from ASOTTC - PFTL, Pariahs, and Decent 👌 Very different than the older stuff but I loved playing Stained Humanity and the faster thrash ones, even though they’re a work out for the right arm. Luckily Josh started to put what I like to call “break riffs” in such as the chorus to I Sever, give your right arm a break for a bit before the mayhem continues 😅 A Serpents Tounge was the biggest struggle to play live, it’s so rapid. Love listening to all of it, depends what mood I’m in!', 'Occasionally, actually intrigued to witness a hoops main game, that’s a niche dedication! DM me your epic ID if you’re up for some games sometime', 'Taking Conor’s place. Conor will most likely\\nPlay guitar now', \"He plays a solo on the EP, my guess it's either No Saviours or Disavowed\", 'As above so below I think him and josh play one.', \"Which just goes to show Josh's belief, passion and integrity for the band. I think that's great that he writes for himself, doesn't care that his music's popular and just focuses on writing quality modern heavy music. He really is kinda like a modern day Chuck Schuldiner where Death was his band, Sylosis is Josh's band haha\", '[deleted]', 'According to their Twitter acount is some guy named Ben Thomas.\\n\\nLink: https://x.com/Sylosis/status/1844448542750015494?t=F9etwk_lHON1W7Ls82UJDTJj4UtbrlfNQSnPPDYDpEU&s=19', 'At first I didn’t see the bit about questions. What are some of your favourite touring memories, or memories in the studio? I know a lot of us miss tue old days on youtube when some of those early day studio recording videos were accessible (In and English country garden).', \"Good, bring the guys from Dyscarnate if they're still a band as well, if you can!\", \"Started in 2016 and peaked at champ 2. I can't play it anymore its just not the same somehow\", \"Genuinely the hottest show I've been to hahaha\", 'I was a Diamond III back in the day in hoops but quit for 5+ years and just got back into it this month so I’m only a Plat II lol I suck too much man there’s better hoops mains you could play with!', \"Possibly yeah, I assume Ben was taking Bailey's spot since he's primarily a guitar player too\", 'He plays the one on As Above So Below', \"Was Carl not a founding member ? I'm from Reading but tbh don't remember a sylosis pre Carl\", 'Yep. Ben is their bassist now. He used to be in venom prison and he filled in on the tour that Bailey couldn’t do due to having a new child. The tour I played a song with them in Bristol', 'Too many memories to list, but here’s a few highlights. \\n\\nWalking out on stage for Sonisphere and looked like the crowd went back to the horizon was the most terrifying / exciting moments I had on stage. \\n\\nWe toured with Lamb Of God around the US. Chris Adler was a fan and really cared about our well being on that tour, making sure we ate well and generally looked after us. He went out of his way for us and was one of the nicest dudes we met from big bands. \\n\\nThe best thing about being in the studio was witnessing Josh record. The man is a human midi machine. Some takes he did with Scott Atkins were so tight they were pretty much in phase. “Too tight, do it again” \\n\\nBack when I used to drink, during long tours when the exhaustion kicks in, it’s bound for mistakes to happen. Well one time I completely forgot a riff, muscle memory failed me, my natural reaction was to stop playing and started to kick my pedals, pretending it was a tech issue. Joined in again for the next riff. My top blag moment. \\n\\nDuring Graspop festival, Ali hit the sample pad by mistake, triggering a sample from an explicit adult cartoon. We had to start the song again, it was hands down the funniest thing that ever happened on stage. You can find that on YouTube', 'Great band, great blokes 🤘🏻', 'Yeah I don’t play as much anymore, everyone’s too good or more smurfs ha, but do love it when I do play. DM me your epic ID if wanna play sometime', 'Yeh. Fairly 99% certain Ben is playing bass', \"Ahhh cool, where'd you get that?\", \"Don't think he was, the Early Days documentary mentioned that I think\", \"You did WHAT?! That's awesome.\\n\\nConnor did a good job on that tour.\", \"> During Graspop festival, Ali hit the sample pad by mistake, triggering a sample from an explicit adult cartoon. We had to start the song again, it was hands down the funniest thing that ever happened on stage. You can find that on YouTube\\n\\nHad to go digging for this because I've never seen it before lol. \\nhttps://www.youtube.com/watch?v=h7_1287wlk8&t=1193s\\n  \\nObligatory shout out to you Bailey, from a fan perspective it's always sad seeing long time members move on. You've been a champion to Sylosis both on stage and off, thanks for being awesome and best of luck in the future.\", 'Those are awesome stories and experiences. Thank you for taking time to reach out to us like this. \\n\\nId just like to say, Ive been a fan of sylosis since 2011, my all time favourite band (listen daily). I was supposed to see you guys in Montreal, that RV accident happened, so the show was canceled (thank god know one was seriously hurt). Had plans to see you folks a few other times but travel messed with it.\\n\\nI am set to see Sylosis this month in the US. It sucks you won’t be there, but thank you for everything you did with the band, Im excited to see/listen to your new project.\\n\\nThanks.', 'I saw you guys for the first time on that US LOG Tour aboustely amazing! 🔥🤘', 'Hell yeah bro. Mine is Dalexyz.', 'It sounds like him. I asked him also and he said yeh', 'Yeh bro it was epic. My names Jamie and I run the Jamie slays channel', 'Haha that’s the one! Thank you mate, means a lot 🤙🏻', 'Agh yes the crash that happened to be in one of the only French speaking parts in the whole of North America, the admin at the hospital was a nightmare 😅\\n\\nEnjoy the show mate 🤙🏻', 'Yeah Jack Harris told me and I know he hangs out with Bailey at times.', \"Yo! I've been watching your stuff for a while now!\", 'Thanksssss']\n",
            "\n",
            "\n",
            "Counter({Redditor(name='Cyanide_Revolver'): 26, Redditor(name='Glum_Committee_9032'): 16, Redditor(name='Deathraid92'): 11, Redditor(name='jamie_oldfield88'): 10, Redditor(name='Puppetmaster858'): 10, Redditor(name='axenguitar'): 7, Redditor(name='El_Wilfred'): 7, Redditor(name='Mental_Being_5910'): 7, Redditor(name='RandomCanEHdian'): 6, Redditor(name='ssjrift-'): 6, Redditor(name='skylosis'): 6, Redditor(name='Madness_Opvs'): 6, Redditor(name='Cautious_Fail_6313'): 5, Redditor(name='ShrivelledKnob'): 5, Redditor(name='Maaaaaardy'): 5, Redditor(name='ineedadvil'): 5, Redditor(name='Traditional-Deer811'): 5, Redditor(name='Formal_Temporary1605'): 5, Redditor(name='Foxinbigsocks'): 5, Redditor(name='Feel_the_McIlrath'): 4, Redditor(name='Armageddon-666'): 4, Redditor(name='CDIS920'): 4, Redditor(name='Riptide1206'): 4, Redditor(name='RustGuitar'): 4, Redditor(name='Djemonic88'): 4, Redditor(name='OneWinged_Phoenix'): 4, Redditor(name='ZealousidealAdagio87'): 4, Redditor(name='nihilblack'): 4, Redditor(name='Derptodj'): 4, Redditor(name='SyrupTasty'): 3, Redditor(name='TheDeathSloth'): 3, Redditor(name='aevigata'): 3, Redditor(name='kaitheredman'): 3, Redditor(name='jmyluc'): 3, Redditor(name='Negation_'): 3, Redditor(name='sixft7'): 3, None: 3, Redditor(name='Rayguns_'): 3, Redditor(name='Gloomy_Mixture992'): 3, Redditor(name='ToneColdCrazy3'): 3, Redditor(name='big_ughh'): 3, Redditor(name='TheMac_11'): 2, Redditor(name='and1ko88'): 2, Redditor(name='Foreskin_Incarnate'): 2, Redditor(name='dredmantis'): 2, Redditor(name='juust_lurkin'): 2, Redditor(name='John16389591'): 2, Redditor(name='Genuine_Ingenuity'): 2, Redditor(name='AcatlOzai'): 2, Redditor(name='KyloJinn97'): 2, Redditor(name='Aware-Salt'): 2, Redditor(name='rocabilly'): 2, Redditor(name='Jaithell'): 2, Redditor(name='IeMang'): 2, Redditor(name='Fallengreat'): 2, Redditor(name='MetalDad25'): 2, Redditor(name='ComfortableAny6836'): 2, Redditor(name='No_Shoe7578'): 2, Redditor(name='-AestheticsOfHate-'): 2, Redditor(name='krumn'): 2, Redditor(name='JDrums94'): 1, Redditor(name='DataGeek87'): 1, Redditor(name='godslayerxiii'): 1, Redditor(name='ohnoagenjimain'): 1, Redditor(name='Overall_blank28'): 1, Redditor(name='AchelousArtemis'): 1, Redditor(name='CriticismLevel2385'): 1, Redditor(name='HybanSike'): 1, Redditor(name='No-Psychology4335'): 1, Redditor(name='killerp13'): 1, Redditor(name='Youthful_Tetsuo'): 1, Redditor(name='daddy_is_sorry'): 1, Redditor(name='Cool_Macaroon_22'): 1, Redditor(name='JK_Tesla'): 1, Redditor(name='DamagedEctoplasm'): 1, Redditor(name='Otherwise_Emu2222'): 1, Redditor(name='PlayfulFlounder5668'): 1, Redditor(name='Tyler_JMB'): 1, Redditor(name='Maqqnus'): 1, Redditor(name='luftmx'): 1, Redditor(name='Ruckedinthehead'): 1, Redditor(name='Captt4'): 1, Redditor(name='ErroneousEric'): 1, Redditor(name='EcomDR'): 1, Redditor(name='CompetitiveComputer4'): 1, Redditor(name='cheesepicklesauce'): 1, Redditor(name='Additional_Poetry774'): 1, Redditor(name='Fozziemeister'): 1, Redditor(name='CRsquared64'): 1, Redditor(name='Comprehensive-Bit828'): 1, Redditor(name='ThatDidgeGuy'): 1, Redditor(name='brutalgator'): 1, Redditor(name='glordicus1'): 1, Redditor(name='IcedShamrock'): 1, Redditor(name='Jackie-in-chains'): 1, Redditor(name='chhibb_n_dale'): 1, Redditor(name='mikotsu_u'): 1, Redditor(name='Manonda_moon'): 1, Redditor(name='Son_Nyx'): 1, Redditor(name='Ok_Objective_3703'): 1, Redditor(name='Affectionate-Can-136'): 1, Redditor(name='brick_eater'): 1, Redditor(name='Vegetable_Orchid_900'): 1, Redditor(name='CranberryWorking2552'): 1, Redditor(name='Zellement'): 1, Redditor(name='phelansteiger'): 1, Redditor(name='ZenithToNadir'): 1, Redditor(name='Squellbell'): 1, Redditor(name='BillysBassBuzz'): 1, Redditor(name='ShigeruNinja'): 1, Redditor(name='lllumina'): 1, Redditor(name='PerfectRub2455'): 1, Redditor(name='Prepuces'): 1, Redditor(name='RecognitionPretend97'): 1, Redditor(name='kind_carrot'): 1, Redditor(name='PinoDegrassi'): 1, Redditor(name='burrito-nz'): 1, Redditor(name='Anothernamelessghou'): 1, Redditor(name='TylerrJordan'): 1, Redditor(name='Bulletforever'): 1, Redditor(name='tfear66'): 1, Redditor(name='Biomech93'): 1, Redditor(name='TRFKTA'): 1, Redditor(name='MrBeanHs'): 1, Redditor(name='PottyLottie1996'): 1, Redditor(name='heresthefox'): 1, Redditor(name='ThrashEmAll96'): 1, Redditor(name='TerasTibbs'): 1, Redditor(name='pburgess22'): 1, Redditor(name='Difficult_Brick8955'): 1, Redditor(name='ThatsExactlyIt'): 1})\n",
            "Counter({Redditor(name='Glum_Committee_9032'): 157, Redditor(name='Cyanide_Revolver'): 134, Redditor(name='Madness_Opvs'): 116, Redditor(name='Mental_Being_5910'): 81, Redditor(name='Deathraid92'): 78, Redditor(name='Puppetmaster858'): 52, Redditor(name='ToneColdCrazy3'): 52, Redditor(name='Rayguns_'): 47, Redditor(name='ComfortableAny6836'): 47, Redditor(name='Cautious_Fail_6313'): 44, Redditor(name='ZealousidealAdagio87'): 43, Redditor(name='JDrums94'): 41, Redditor(name='ssjrift-'): 39, Redditor(name='Feel_the_McIlrath'): 29, Redditor(name='ShrivelledKnob'): 27, Redditor(name='skylosis'): 27, Redditor(name='Genuine_Ingenuity'): 26, Redditor(name='ohnoagenjimain'): 25, Redditor(name='TheDeathSloth'): 25, Redditor(name='Gloomy_Mixture992'): 23, Redditor(name='jamie_oldfield88'): 22, Redditor(name='SyrupTasty'): 20, Redditor(name='El_Wilfred'): 20, Redditor(name='sixft7'): 20, Redditor(name='and1ko88'): 19, Redditor(name='kaitheredman'): 19, Redditor(name='IeMang'): 19, Redditor(name='Maaaaaardy'): 17, Redditor(name='Foxinbigsocks'): 16, Redditor(name='krumn'): 16, Redditor(name='axenguitar'): 15, Redditor(name='Foreskin_Incarnate'): 15, Redditor(name='AcatlOzai'): 15, Redditor(name='Formal_Temporary1605'): 15, Redditor(name='OneWinged_Phoenix'): 14, Redditor(name='tfear66'): 14, Redditor(name='No-Psychology4335'): 13, Redditor(name='killerp13'): 13, Redditor(name='big_ughh'): 13, Redditor(name='CDIS920'): 12, Redditor(name='Riptide1206'): 11, Redditor(name='rocabilly'): 11, Redditor(name='BillysBassBuzz'): 11, Redditor(name='Jaithell'): 11, Redditor(name='ineedadvil'): 10, Redditor(name='Traditional-Deer811'): 10, Redditor(name='Comprehensive-Bit828'): 10, Redditor(name='Negation_'): 10, Redditor(name='TheMac_11'): 9, Redditor(name='RandomCanEHdian'): 9, Redditor(name='RustGuitar'): 9, Redditor(name='Fallengreat'): 9, Redditor(name='No_Shoe7578'): 9, Redditor(name='Djemonic88'): 8, Redditor(name='Difficult_Brick8955'): 7, Redditor(name='Youthful_Tetsuo'): 6, Redditor(name='dredmantis'): 6, None: 6, Redditor(name='nihilblack'): 6, Redditor(name='RecognitionPretend97'): 6, Redditor(name='godslayerxiii'): 5, Redditor(name='Overall_blank28'): 5, Redditor(name='Cool_Macaroon_22'): 5, Redditor(name='John16389591'): 5, Redditor(name='ThatDidgeGuy'): 5, Redditor(name='Derptodj'): 5, Redditor(name='Armageddon-666'): 4, Redditor(name='daddy_is_sorry'): 4, Redditor(name='JK_Tesla'): 4, Redditor(name='brutalgator'): 4, Redditor(name='KyloJinn97'): 4, Redditor(name='jmyluc'): 4, Redditor(name='phelansteiger'): 4, Redditor(name='MetalDad25'): 4, Redditor(name='DamagedEctoplasm'): 3, Redditor(name='Otherwise_Emu2222'): 3, Redditor(name='PlayfulFlounder5668'): 3, Redditor(name='Tyler_JMB'): 3, Redditor(name='Maqqnus'): 3, Redditor(name='juust_lurkin'): 3, Redditor(name='Additional_Poetry774'): 3, Redditor(name='glordicus1'): 3, Redditor(name='Zellement'): 3, Redditor(name='Squellbell'): 3, Redditor(name='ShigeruNinja'): 3, Redditor(name='Bulletforever'): 3, Redditor(name='TRFKTA'): 3, Redditor(name='MrBeanHs'): 3, Redditor(name='DataGeek87'): 2, Redditor(name='AchelousArtemis'): 2, Redditor(name='CriticismLevel2385'): 2, Redditor(name='HybanSike'): 2, Redditor(name='luftmx'): 2, Redditor(name='Ruckedinthehead'): 2, Redditor(name='aevigata'): 2, Redditor(name='EcomDR'): 2, Redditor(name='CompetitiveComputer4'): 2, Redditor(name='cheesepicklesauce'): 2, Redditor(name='Fozziemeister'): 2, Redditor(name='IcedShamrock'): 2, Redditor(name='Jackie-in-chains'): 2, Redditor(name='chhibb_n_dale'): 2, Redditor(name='mikotsu_u'): 2, Redditor(name='Manonda_moon'): 2, Redditor(name='Son_Nyx'): 2, Redditor(name='Ok_Objective_3703'): 2, Redditor(name='Affectionate-Can-136'): 2, Redditor(name='brick_eater'): 2, Redditor(name='Aware-Salt'): 2, Redditor(name='Vegetable_Orchid_900'): 2, Redditor(name='ZenithToNadir'): 2, Redditor(name='lllumina'): 2, Redditor(name='PerfectRub2455'): 2, Redditor(name='TylerrJordan'): 2, Redditor(name='PottyLottie1996'): 2, Redditor(name='heresthefox'): 2, Redditor(name='ThrashEmAll96'): 2, Redditor(name='-AestheticsOfHate-'): 2, Redditor(name='ThatsExactlyIt'): 2, Redditor(name='Captt4'): 1, Redditor(name='ErroneousEric'): 1, Redditor(name='CRsquared64'): 1, Redditor(name='CranberryWorking2552'): 1, Redditor(name='Prepuces'): 1, Redditor(name='kind_carrot'): 1, Redditor(name='PinoDegrassi'): 1, Redditor(name='burrito-nz'): 1, Redditor(name='Anothernamelessghou'): 1, Redditor(name='Biomech93'): 1, Redditor(name='TerasTibbs'): 1, Redditor(name='pburgess22'): 1})\n"
          ]
        }
      ]
    },
    {
      "cell_type": "code",
      "source": [],
      "metadata": {
        "id": "ptDocgDFQRpr"
      },
      "execution_count": null,
      "outputs": []
    },
    {
      "cell_type": "code",
      "source": [
        "subreddit = 'finanzen'\n",
        "for submission in reddit.subreddit(subreddit).hot(limit=5):\n",
        "    print(submission.title)\n",
        "    print(submission.id)\n",
        "    submission.comments.replace_more(limit=None)\n",
        "    for comment in submission.comments.list():\n",
        "        print(comment.body)\n",
        "        print(\"----------------------------------------------\")\n",
        "\n",
        "\n",
        "#for submission in reddit.subreddit(\"test\").hot(limit=10):\n",
        "#    print(submission.title)\n",
        "#    print(submission.id)\n",
        "\n",
        "#submission = reddit.submission(\"1gmifua\")\n",
        "#submission.comments.replace_more(limit=None)\n",
        "#for comment in submission.comments.list():\n",
        "#    print(comment.body)\n",
        "#    print(\"----------------------------------------------\")\n",
        "\n",
        "submission = reddit.submission(\"1gmifua\")\n",
        "print(submission.score)\n",
        "comment = reddit.comment(\"lxw66nl\")\n",
        "print(comment.score)"
      ],
      "metadata": {
        "id": "lYA_Yss9V6Fy"
      },
      "execution_count": null,
      "outputs": []
    },
    {
      "cell_type": "code",
      "source": [],
      "metadata": {
        "id": "AJQsC_DTbylt"
      },
      "execution_count": null,
      "outputs": []
    },
    {
      "cell_type": "code",
      "source": [],
      "metadata": {
        "id": "QEjiexS9pRqm"
      },
      "execution_count": null,
      "outputs": []
    },
    {
      "cell_type": "code",
      "source": [
        "import matplotlib.pyplot as plt\n",
        "import numpy as np\n",
        "\n",
        "x = np.linspace(0, 10, 100)\n",
        "\n",
        "plt.plot(x, np.sin(x))\n",
        "plt.plot(x, np.cos(x))\n",
        "\n",
        "plt.show()"
      ],
      "metadata": {
        "id": "DKG3GTYD8yRJ"
      },
      "execution_count": null,
      "outputs": []
    },
    {
      "cell_type": "code",
      "source": [
        "!pip install HanTa\n",
        "from HanTa import HanoverTagger as ht\n",
        "\n",
        "tagger_de = ht.HanoverTagger('morphmodel_ger.pgz')\n",
        "\n"
      ],
      "metadata": {
        "id": "R8RGAmbv166c"
      },
      "execution_count": null,
      "outputs": []
    },
    {
      "cell_type": "code",
      "source": [
        "print(tagger_de.analyze('fährt'))"
      ],
      "metadata": {
        "id": "aF3D66-x2TZ_"
      },
      "execution_count": null,
      "outputs": []
    },
    {
      "cell_type": "code",
      "source": [
        "from sklearn.decomposition import TruncatedSVD\n",
        "from sklearn.decomposition import LatentDirichletAllocation\n",
        "from sklearn.feature_extraction.text import TfidfVectorizer\n",
        "\n",
        "review_1 = \"Loved the sound, no battery issues\"\n",
        "review_2 = \"Sound quality is good; battery life not good\"\n",
        "vectorizer = TfidfVectorizer(use_idf = True,\n",
        "\tmax_features = 5,\n",
        "\tsmooth_idf=True)\n",
        "model = vectorizer.fit_transform([review_1, review_2])\n",
        "\n",
        "lda_model=LatentDirichletAllocation(n_components=2,learning_method=\n",
        "'online',random_state=42,max_iter=1)\n",
        "lda_top=lda_model.fit_transform(model)\n",
        "\n",
        "print(\"Review 1: \")\n",
        "for i,topic in enumerate(lda_top[0]):\n",
        "\tprint(\"Topic \",i,\": \",topic*100,\"%\")\n",
        "\n",
        "for i,topic in enumerate(lda_top[1]):\n",
        "\tprint(\"Topic \",i,\": \",topic*100,\"%\")"
      ],
      "metadata": {
        "id": "u2tBDdMSBgNb"
      },
      "execution_count": null,
      "outputs": []
    },
    {
      "cell_type": "code",
      "source": [
        "import requests\n",
        "\n",
        "\n",
        "\n",
        "# note that CLIENT_ID refers to 'personal use script' and SECRET_TOKEN to 'token'\n",
        "auth = requests.auth.HTTPBasicAuth(userdata.get('CLIENT_ID'), userdata.get('CLIENT_SECRET'))\n",
        "\n",
        "# here we pass our login method (password), username, and password\n",
        "data = {'grant_type': 'password',\n",
        "        'username': userdata.get('USERNAME'),\n",
        "        'password': userdata.get('PASSWORD')}\n",
        "\n",
        "# setup our header info, which gives reddit a brief description of our app\n",
        "headers = {'User-Agent': 'MyBot/0.0.1'}\n",
        "\n",
        "# send our request for an OAuth token\n",
        "res = requests.post('https://www.reddit.com/api/v1/access_token',\n",
        "                    auth=auth, data=data, headers=headers)\n",
        "\n",
        "# convert response to JSON and pull access_token value\n",
        "TOKEN = res.json()['access_token']\n",
        "\n",
        "# add authorization to our headers dictionary\n",
        "headers = {**headers, **{'Authorization': f\"bearer {TOKEN}\"}}\n",
        "\n",
        "# while the token is valid (~2 hours) we just add headers=headers to our requests\n",
        "requests.get('https://oauth.reddit.com/api/v1/me', headers=headers)"
      ],
      "metadata": {
        "id": "dMuoORVX3Ob2"
      },
      "execution_count": null,
      "outputs": []
    },
    {
      "cell_type": "code",
      "source": [
        "subreddit = 'de'\n",
        "limit = 50\n",
        "timeframe = 'all' #hour, day, week, month, year, all\n",
        "listing = 'top' # controversial, best, hot, new, random, rising, top\n",
        "\n",
        "url = f\"https://oauth.reddit.com/r/{subreddit}/{listing}?limit={limit}&t={timeframe}\"\n",
        "res = requests.get(url, headers=headers)\n",
        "\n",
        "import json\n",
        "#print(json.dumps(res.json(), indent=2))\n",
        "\n",
        "\n",
        "\n",
        "def find_values(id, json_repr):\n",
        "    results = []\n",
        "\n",
        "    def _decode_dict(a_dict):\n",
        "        try:\n",
        "            results.append(a_dict[id])\n",
        "        except KeyError:\n",
        "            pass\n",
        "        return a_dict\n",
        "\n",
        "    json.loads(json_repr, object_hook=_decode_dict) # Return value ignored.\n",
        "    return results\n",
        "\n",
        "\n",
        "import nltk\n",
        "nltk.download('stopwords')\n",
        "from nltk.corpus import stopwords\n",
        "\n",
        "# Import the wordcloud library\n",
        "from wordcloud import WordCloud# Join the different processed titles together.\n",
        "#long_string = ','.join(list(papers['paper_text_processed'].values))# Create a WordCloud object\n",
        "long_string = ' '.join(find_values('title', json.dumps(res.json())))\n",
        "#print(long_string)\n",
        "templist = [word for word in long_string.split() if word.lower() not in stopwords.words('german')]\n",
        "long_string = ' '.join(templist)\n",
        "\n",
        "#\n",
        "\n",
        "wordcloud = WordCloud(background_color=\"white\", max_words=5000, contour_width=3, contour_color='steelblue')# Generate a word cloud\n",
        "wordcloud.generate(long_string)# Visualize the word cloud\n",
        "wordcloud.to_image()\n",
        "\n"
      ],
      "metadata": {
        "id": "S4nOoReL3SwL"
      },
      "execution_count": null,
      "outputs": []
    },
    {
      "cell_type": "code",
      "source": [
        "subreddit = 'finanzen'\n",
        "limit = 5\n",
        "timeframe = 'week' #hour, day, week, month, year, all\n",
        "listing = 'top' # controversial, best, hot, new, random, rising, top\n",
        "id = '1gmifua'\n",
        "\n",
        "#http://www.reddit.com/r/\" + sub + \"/comments/\" + id + \".json?\",\n",
        "url = f\"https://oauth.reddit.com/r/{subreddit}/comments/{id}.json?\"\n",
        "res = requests.get(url, headers=headers)\n",
        "\n",
        "import json\n",
        "print(json.dumps(res.json(), indent=2))"
      ],
      "metadata": {
        "id": "yiwQHbrp3YZn"
      },
      "execution_count": null,
      "outputs": []
    }
  ]
}