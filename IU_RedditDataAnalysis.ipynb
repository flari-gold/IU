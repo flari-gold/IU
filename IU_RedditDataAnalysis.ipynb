{
  "nbformat": 4,
  "nbformat_minor": 0,
  "metadata": {
    "colab": {
      "provenance": [],
      "authorship_tag": "ABX9TyN+qdLcSnFStYFAFNikgoKS",
      "include_colab_link": true
    },
    "kernelspec": {
      "name": "python3",
      "display_name": "Python 3"
    },
    "language_info": {
      "name": "python"
    }
  },
  "cells": [
    {
      "cell_type": "markdown",
      "metadata": {
        "id": "view-in-github",
        "colab_type": "text"
      },
      "source": [
        "<a href=\"https://colab.research.google.com/github/flari-gold/IU/blob/main/IU_RedditDataAnalysis.ipynb\" target=\"_parent\"><img src=\"https://colab.research.google.com/assets/colab-badge.svg\" alt=\"Open In Colab\"/></a>"
      ]
    },
    {
      "cell_type": "code",
      "source": [
        "#package installs with pip\n",
        "!pip install praw\n",
        "!pip install HanTa\n"
      ],
      "metadata": {
        "id": "TvJ-SwMePddJ",
        "colab": {
          "base_uri": "https://localhost:8080/"
        },
        "outputId": "322315c0-2e4d-49c3-9afe-649a151024c6"
      },
      "execution_count": 4,
      "outputs": [
        {
          "output_type": "stream",
          "name": "stdout",
          "text": [
            "Collecting praw\n",
            "  Downloading praw-7.8.1-py3-none-any.whl.metadata (9.4 kB)\n",
            "Collecting prawcore<3,>=2.4 (from praw)\n",
            "  Downloading prawcore-2.4.0-py3-none-any.whl.metadata (5.0 kB)\n",
            "Collecting update_checker>=0.18 (from praw)\n",
            "  Downloading update_checker-0.18.0-py3-none-any.whl.metadata (2.3 kB)\n",
            "Requirement already satisfied: websocket-client>=0.54.0 in /usr/local/lib/python3.10/dist-packages (from praw) (1.8.0)\n",
            "Requirement already satisfied: requests<3.0,>=2.6.0 in /usr/local/lib/python3.10/dist-packages (from prawcore<3,>=2.4->praw) (2.32.3)\n",
            "Requirement already satisfied: charset-normalizer<4,>=2 in /usr/local/lib/python3.10/dist-packages (from requests<3.0,>=2.6.0->prawcore<3,>=2.4->praw) (3.4.0)\n",
            "Requirement already satisfied: idna<4,>=2.5 in /usr/local/lib/python3.10/dist-packages (from requests<3.0,>=2.6.0->prawcore<3,>=2.4->praw) (3.10)\n",
            "Requirement already satisfied: urllib3<3,>=1.21.1 in /usr/local/lib/python3.10/dist-packages (from requests<3.0,>=2.6.0->prawcore<3,>=2.4->praw) (2.2.3)\n",
            "Requirement already satisfied: certifi>=2017.4.17 in /usr/local/lib/python3.10/dist-packages (from requests<3.0,>=2.6.0->prawcore<3,>=2.4->praw) (2024.8.30)\n",
            "Downloading praw-7.8.1-py3-none-any.whl (189 kB)\n",
            "\u001b[2K   \u001b[90m━━━━━━━━━━━━━━━━━━━━━━━━━━━━━━━━━━━━━━━━\u001b[0m \u001b[32m189.3/189.3 kB\u001b[0m \u001b[31m5.8 MB/s\u001b[0m eta \u001b[36m0:00:00\u001b[0m\n",
            "\u001b[?25hDownloading prawcore-2.4.0-py3-none-any.whl (17 kB)\n",
            "Downloading update_checker-0.18.0-py3-none-any.whl (7.0 kB)\n",
            "Installing collected packages: update_checker, prawcore, praw\n",
            "Successfully installed praw-7.8.1 prawcore-2.4.0 update_checker-0.18.0\n",
            "Requirement already satisfied: HanTa in /usr/local/lib/python3.10/dist-packages (1.1.1)\n"
          ]
        }
      ]
    },
    {
      "cell_type": "code",
      "source": [
        "#import modules\n",
        "from google.colab import userdata\n",
        "import praw\n",
        "import collections\n",
        "import nltk\n",
        "nltk.download('stopwords')\n",
        "from nltk.corpus import stopwords\n",
        "from HanTa import HanoverTagger"
      ],
      "metadata": {
        "colab": {
          "base_uri": "https://localhost:8080/"
        },
        "id": "5vOxKhQy3p3H",
        "outputId": "e95860bf-b575-479c-e160-b0f4841a2278"
      },
      "execution_count": 5,
      "outputs": [
        {
          "output_type": "stream",
          "name": "stderr",
          "text": [
            "[nltk_data] Downloading package stopwords to /root/nltk_data...\n",
            "[nltk_data]   Unzipping corpora/stopwords.zip.\n"
          ]
        }
      ]
    },
    {
      "cell_type": "code",
      "source": [
        "#parameter\n",
        "CLIENT_ID=userdata.get('CLIENT_ID')\n",
        "CLIENT_SECRET=userdata.get('CLIENT_SECRET')\n",
        "#PASSWORD=userdata.get('CLIENT_ID')\n",
        "#USERNAME=userdata.get('CLIENT_ID')\n",
        "SUBREDDIT='Sylosis'\n",
        "ANZAHL_POSTS=30"
      ],
      "metadata": {
        "id": "Tk1XFLpT4g4H"
      },
      "execution_count": 9,
      "outputs": []
    },
    {
      "cell_type": "code",
      "source": [
        "#initialisierung reddit API\n",
        "reddit = praw.Reddit(\n",
        "    client_id=CLIENT_ID,\n",
        "    client_secret=CLIENT_SECRET,\n",
        "    user_agent=\"my user agent\",\n",
        "    check_for_async=False #PRAW wirft eine Warnung welche die ASYNC API empfiehlt, kann ignoriert werden\n",
        ")"
      ],
      "metadata": {
        "id": "aFH0pne4ODPu"
      },
      "execution_count": 10,
      "outputs": []
    },
    {
      "cell_type": "code",
      "source": [
        "#declaration\n",
        "all_textdata = []\n",
        "user_upvotes = collections.Counter()\n",
        "user_contributionscounter = collections.Counter()\n"
      ],
      "metadata": {
        "id": "WhbpcIBpXkAk"
      },
      "execution_count": 11,
      "outputs": []
    },
    {
      "cell_type": "code",
      "source": [],
      "metadata": {
        "id": "kx2Uz2TabHm4"
      },
      "execution_count": null,
      "outputs": []
    },
    {
      "cell_type": "code",
      "source": [
        "#Anfragen an die Reddit API mit über request liefern die Daten im JSON Format. PRAW vereinfacht dies, in dem man die direkt die Attribute ansprechen kann\n",
        "for submission in reddit.subreddit(SUBREDDIT).hot(limit=ANZAHL_POSTS):\n",
        "\n",
        "    user_contributionscounter[submission.author] += 1\n",
        "    user_upvotes[submission.author] += submission.score\n",
        "\n",
        "    post_textdata = [submission.title]\n",
        "    post_textdata.append(submission.selftext)\n",
        "\n",
        "    submission.comments.replace_more(limit=None)\n",
        "    for comment in submission.comments.list():\n",
        "        post_textdata.append(comment.body)\n",
        "        user_contributionscounter[comment.author] += 1\n",
        "        user_upvotes[comment.author] += comment.score\n",
        "\n",
        "    all_textdata.append(post_textdata)\n",
        "\n",
        "\n",
        "print(user_contributionscounter)\n",
        "print(user_upvotes)\n",
        "#print(all_textdata)"
      ],
      "metadata": {
        "colab": {
          "base_uri": "https://localhost:8080/"
        },
        "id": "ZZ7Ks5C0Pl3O",
        "outputId": "a5fb6fb5-c781-411f-ca63-c149292e3c68"
      },
      "execution_count": 12,
      "outputs": [
        {
          "output_type": "stream",
          "name": "stdout",
          "text": [
            "Counter({Redditor(name='Cyanide_Revolver'): 26, Redditor(name='Glum_Committee_9032'): 16, Redditor(name='Deathraid92'): 11, Redditor(name='jamie_oldfield88'): 10, Redditor(name='Puppetmaster858'): 10, Redditor(name='axenguitar'): 7, Redditor(name='El_Wilfred'): 7, Redditor(name='Mental_Being_5910'): 7, Redditor(name='RandomCanEHdian'): 6, Redditor(name='ssjrift-'): 6, Redditor(name='skylosis'): 6, Redditor(name='Madness_Opvs'): 6, Redditor(name='Cautious_Fail_6313'): 5, Redditor(name='ShrivelledKnob'): 5, Redditor(name='Maaaaaardy'): 5, Redditor(name='ineedadvil'): 5, Redditor(name='Traditional-Deer811'): 5, Redditor(name='Formal_Temporary1605'): 5, Redditor(name='Foxinbigsocks'): 5, Redditor(name='Feel_the_McIlrath'): 4, Redditor(name='Armageddon-666'): 4, Redditor(name='CDIS920'): 4, Redditor(name='Riptide1206'): 4, Redditor(name='RustGuitar'): 4, Redditor(name='Djemonic88'): 4, Redditor(name='OneWinged_Phoenix'): 4, Redditor(name='ZealousidealAdagio87'): 4, Redditor(name='nihilblack'): 4, Redditor(name='Derptodj'): 4, Redditor(name='SyrupTasty'): 3, Redditor(name='TheDeathSloth'): 3, Redditor(name='aevigata'): 3, Redditor(name='kaitheredman'): 3, Redditor(name='jmyluc'): 3, Redditor(name='Negation_'): 3, Redditor(name='sixft7'): 3, None: 3, Redditor(name='Rayguns_'): 3, Redditor(name='Gloomy_Mixture992'): 3, Redditor(name='ToneColdCrazy3'): 3, Redditor(name='big_ughh'): 3, Redditor(name='TheMac_11'): 2, Redditor(name='and1ko88'): 2, Redditor(name='Foreskin_Incarnate'): 2, Redditor(name='dredmantis'): 2, Redditor(name='juust_lurkin'): 2, Redditor(name='John16389591'): 2, Redditor(name='Genuine_Ingenuity'): 2, Redditor(name='AcatlOzai'): 2, Redditor(name='KyloJinn97'): 2, Redditor(name='Aware-Salt'): 2, Redditor(name='rocabilly'): 2, Redditor(name='Jaithell'): 2, Redditor(name='IeMang'): 2, Redditor(name='Fallengreat'): 2, Redditor(name='MetalDad25'): 2, Redditor(name='ComfortableAny6836'): 2, Redditor(name='No_Shoe7578'): 2, Redditor(name='-AestheticsOfHate-'): 2, Redditor(name='krumn'): 2, Redditor(name='JDrums94'): 1, Redditor(name='DataGeek87'): 1, Redditor(name='godslayerxiii'): 1, Redditor(name='Hamster_Current'): 1, Redditor(name='BobJaguar'): 1, Redditor(name='testtubegravey'): 1, Redditor(name='ohnoagenjimain'): 1, Redditor(name='Overall_blank28'): 1, Redditor(name='AchelousArtemis'): 1, Redditor(name='CriticismLevel2385'): 1, Redditor(name='HybanSike'): 1, Redditor(name='No-Psychology4335'): 1, Redditor(name='killerp13'): 1, Redditor(name='Youthful_Tetsuo'): 1, Redditor(name='daddy_is_sorry'): 1, Redditor(name='Cool_Macaroon_22'): 1, Redditor(name='JK_Tesla'): 1, Redditor(name='DamagedEctoplasm'): 1, Redditor(name='Otherwise_Emu2222'): 1, Redditor(name='PlayfulFlounder5668'): 1, Redditor(name='Tyler_JMB'): 1, Redditor(name='Maqqnus'): 1, Redditor(name='luftmx'): 1, Redditor(name='Ruckedinthehead'): 1, Redditor(name='Captt4'): 1, Redditor(name='ErroneousEric'): 1, Redditor(name='EcomDR'): 1, Redditor(name='CompetitiveComputer4'): 1, Redditor(name='cheesepicklesauce'): 1, Redditor(name='Additional_Poetry774'): 1, Redditor(name='Fozziemeister'): 1, Redditor(name='CRsquared64'): 1, Redditor(name='Comprehensive-Bit828'): 1, Redditor(name='ThatDidgeGuy'): 1, Redditor(name='brutalgator'): 1, Redditor(name='glordicus1'): 1, Redditor(name='IcedShamrock'): 1, Redditor(name='Jackie-in-chains'): 1, Redditor(name='chhibb_n_dale'): 1, Redditor(name='mikotsu_u'): 1, Redditor(name='Manonda_moon'): 1, Redditor(name='Son_Nyx'): 1, Redditor(name='Ok_Objective_3703'): 1, Redditor(name='Affectionate-Can-136'): 1, Redditor(name='brick_eater'): 1, Redditor(name='Vegetable_Orchid_900'): 1, Redditor(name='CranberryWorking2552'): 1, Redditor(name='Zellement'): 1, Redditor(name='phelansteiger'): 1, Redditor(name='ZenithToNadir'): 1, Redditor(name='Squellbell'): 1, Redditor(name='BillysBassBuzz'): 1, Redditor(name='ShigeruNinja'): 1, Redditor(name='lllumina'): 1, Redditor(name='PerfectRub2455'): 1, Redditor(name='Prepuces'): 1, Redditor(name='RecognitionPretend97'): 1, Redditor(name='kind_carrot'): 1, Redditor(name='PinoDegrassi'): 1, Redditor(name='burrito-nz'): 1, Redditor(name='Anothernamelessghou'): 1, Redditor(name='TylerrJordan'): 1, Redditor(name='Bulletforever'): 1, Redditor(name='tfear66'): 1, Redditor(name='Biomech93'): 1, Redditor(name='TRFKTA'): 1, Redditor(name='MrBeanHs'): 1, Redditor(name='PottyLottie1996'): 1, Redditor(name='heresthefox'): 1, Redditor(name='ThrashEmAll96'): 1, Redditor(name='TerasTibbs'): 1, Redditor(name='pburgess22'): 1, Redditor(name='Difficult_Brick8955'): 1, Redditor(name='ThatsExactlyIt'): 1})\n",
            "Counter({Redditor(name='Glum_Committee_9032'): 158, Redditor(name='Cyanide_Revolver'): 129, Redditor(name='Madness_Opvs'): 114, Redditor(name='Mental_Being_5910'): 78, Redditor(name='Deathraid92'): 77, Redditor(name='ToneColdCrazy3'): 54, Redditor(name='Puppetmaster858'): 53, Redditor(name='Rayguns_'): 47, Redditor(name='ComfortableAny6836'): 46, Redditor(name='Cautious_Fail_6313'): 44, Redditor(name='ZealousidealAdagio87'): 42, Redditor(name='JDrums94'): 40, Redditor(name='ssjrift-'): 39, Redditor(name='Feel_the_McIlrath'): 30, Redditor(name='ShrivelledKnob'): 27, Redditor(name='Genuine_Ingenuity'): 26, Redditor(name='Gloomy_Mixture992'): 26, Redditor(name='ohnoagenjimain'): 25, Redditor(name='jamie_oldfield88'): 24, Redditor(name='skylosis'): 24, Redditor(name='TheDeathSloth'): 24, Redditor(name='sixft7'): 21, Redditor(name='IeMang'): 21, Redditor(name='and1ko88'): 19, Redditor(name='El_Wilfred'): 19, Redditor(name='SyrupTasty'): 18, Redditor(name='axenguitar'): 17, Redditor(name='kaitheredman'): 17, Redditor(name='Foreskin_Incarnate'): 16, Redditor(name='Maaaaaardy'): 16, Redditor(name='Foxinbigsocks'): 16, Redditor(name='krumn'): 16, Redditor(name='AcatlOzai'): 14, Redditor(name='Formal_Temporary1605'): 14, Redditor(name='OneWinged_Phoenix'): 13, Redditor(name='big_ughh'): 13, Redditor(name='No-Psychology4335'): 12, Redditor(name='killerp13'): 12, Redditor(name='Negation_'): 12, Redditor(name='rocabilly'): 12, Redditor(name='tfear66'): 12, Redditor(name='TheMac_11'): 11, Redditor(name='CDIS920'): 11, Redditor(name='ineedadvil'): 11, Redditor(name='Traditional-Deer811'): 11, Redditor(name='Jaithell'): 11, Redditor(name='Fallengreat'): 11, Redditor(name='No_Shoe7578'): 11, Redditor(name='BillysBassBuzz'): 10, Redditor(name='RandomCanEHdian'): 9, Redditor(name='Riptide1206'): 9, Redditor(name='RustGuitar'): 9, Redditor(name='Comprehensive-Bit828'): 9, Redditor(name='Djemonic88'): 8, Redditor(name='Difficult_Brick8955'): 8, Redditor(name='godslayerxiii'): 6, Redditor(name='Youthful_Tetsuo'): 6, None: 6, Redditor(name='nihilblack'): 6, Redditor(name='Overall_blank28'): 5, Redditor(name='daddy_is_sorry'): 5, Redditor(name='JK_Tesla'): 5, Redditor(name='juust_lurkin'): 5, Redditor(name='John16389591'): 5, Redditor(name='ThatDidgeGuy'): 5, Redditor(name='phelansteiger'): 5, Redditor(name='RecognitionPretend97'): 5, Redditor(name='Derptodj'): 5, Redditor(name='Armageddon-666'): 4, Redditor(name='Cool_Macaroon_22'): 4, Redditor(name='dredmantis'): 4, Redditor(name='EcomDR'): 4, Redditor(name='Additional_Poetry774'): 4, Redditor(name='brutalgator'): 4, Redditor(name='KyloJinn97'): 4, Redditor(name='jmyluc'): 4, Redditor(name='MetalDad25'): 4, Redditor(name='DamagedEctoplasm'): 3, Redditor(name='Otherwise_Emu2222'): 3, Redditor(name='PlayfulFlounder5668'): 3, Redditor(name='Tyler_JMB'): 3, Redditor(name='Maqqnus'): 3, Redditor(name='glordicus1'): 3, Redditor(name='Zellement'): 3, Redditor(name='Squellbell'): 3, Redditor(name='ShigeruNinja'): 3, Redditor(name='Bulletforever'): 3, Redditor(name='TRFKTA'): 3, Redditor(name='MrBeanHs'): 3, Redditor(name='DataGeek87'): 2, Redditor(name='testtubegravey'): 2, Redditor(name='AchelousArtemis'): 2, Redditor(name='CriticismLevel2385'): 2, Redditor(name='HybanSike'): 2, Redditor(name='luftmx'): 2, Redditor(name='Ruckedinthehead'): 2, Redditor(name='aevigata'): 2, Redditor(name='CompetitiveComputer4'): 2, Redditor(name='cheesepicklesauce'): 2, Redditor(name='Fozziemeister'): 2, Redditor(name='IcedShamrock'): 2, Redditor(name='Jackie-in-chains'): 2, Redditor(name='chhibb_n_dale'): 2, Redditor(name='mikotsu_u'): 2, Redditor(name='Manonda_moon'): 2, Redditor(name='Son_Nyx'): 2, Redditor(name='Ok_Objective_3703'): 2, Redditor(name='Affectionate-Can-136'): 2, Redditor(name='brick_eater'): 2, Redditor(name='Aware-Salt'): 2, Redditor(name='Vegetable_Orchid_900'): 2, Redditor(name='ZenithToNadir'): 2, Redditor(name='lllumina'): 2, Redditor(name='PerfectRub2455'): 2, Redditor(name='TylerrJordan'): 2, Redditor(name='PottyLottie1996'): 2, Redditor(name='heresthefox'): 2, Redditor(name='ThrashEmAll96'): 2, Redditor(name='-AestheticsOfHate-'): 2, Redditor(name='ThatsExactlyIt'): 2, Redditor(name='Hamster_Current'): 1, Redditor(name='BobJaguar'): 1, Redditor(name='Captt4'): 1, Redditor(name='ErroneousEric'): 1, Redditor(name='CRsquared64'): 1, Redditor(name='CranberryWorking2552'): 1, Redditor(name='Prepuces'): 1, Redditor(name='kind_carrot'): 1, Redditor(name='PinoDegrassi'): 1, Redditor(name='burrito-nz'): 1, Redditor(name='Anothernamelessghou'): 1, Redditor(name='Biomech93'): 1, Redditor(name='TerasTibbs'): 1, Redditor(name='pburgess22'): 1})\n"
          ]
        }
      ]
    },
    {
      "cell_type": "code",
      "source": [
        "#clean text\n",
        "#import string\n",
        "all_cleantext = []\n",
        "for i in all_textdata:\n",
        "    #print(i)\n",
        "    string_result = []\n",
        "    for j in i:\n",
        "        #print(j)\n",
        "        templist = []\n",
        "        #templist = j.lower().split()\n",
        "        for word in j.lower().split():\n",
        "          templist.append(tagger_en.analyze(word)[0])\n",
        "        templist = [word for word in templist if word not in stopwords.words('english')]\n",
        "        tempstring = ' '.join(templist)\n",
        "        #print(tempstring.replace(\".\", \"\").replace(\",\", \"\").replace(\"!\", \"\").replace(\"?\", \"\"))\n",
        "        string_result.append(tempstring.replace(\".\", \"\").replace(\",\", \"\").replace(\"!\", \"\").replace(\"?\", \"\"))\n",
        "\n",
        "    all_cleantext.append(string_result)\n",
        "\n",
        "print(all_cleantext)\n",
        "\n"
      ],
      "metadata": {
        "colab": {
          "base_uri": "https://localhost:8080/"
        },
        "id": "ptDocgDFQRpr",
        "outputId": "edfb1e1d-e46d-423a-8add-b5201d7460ce"
      },
      "execution_count": 25,
      "outputs": [
        {
          "output_type": "stream",
          "name": "stdout",
          "text": [
            "[['notice regarding leak [please read]', \"hi all receive heads-up recently regarding presence leak information upcoming release sub nuclear blast well band aware exist saw information regarding last singles well upcoming album leak early **please post information regarding unrelease material ahead band announcements information remove immediately** let' best patient head period lot content sure way thank understanding part community\", 'thanks much i’m eager find i’d rather ruin let band tell us', 'sound good leak probably negative impact band i’m sure want successful'], ['saw first time new last night esp m&g josh well great guy', '', 'nice pull trigger m&g fast enough get spot unfortunately', \"that' sick probably would quick noticed get poster want least\", 'fuckin awesome dud'], ['setlist upcoming eu tour', 'see two time last year variety seem like pick empty prophet path end us tour wishlist would following: path empty prophet wither tera deadwood sand time mercy eclipse guy prediction european tour setlist', \"shit play empty prophets that' first\", 'much love new shit complete lack monolith material criminal imo i’m expect either well fear world would nice i’d love see empyreal back set too', 'i’m hop tera sour ground two really don’t mind 🤘🏼🤘🏼🤘🏼', 'alter state 🤞', 'tera classic sylosi tune imo'], ['killer show last night pittsburgh', '', 'kick much ass live', 'roxian lastnight kinda phone in even play full set list either wait 12 year see like josh dud sylosi covers line energy fit autopsy go fuck hard tho', \"i'm sorry enjoy set give lot energy next-to-last show tour sound great friend i i've shoes last year gojira hope time look back fond memory this\", 'saw 2011 philly troc amazing right eote come josh take full time vocals play maybe 5 song much energy everyone talk show new material new line hit same', 'band change change maybe exact page now make \"bad\" can\\'t 2011 forever'], ['anyone confirm pittsburgh setlist', 'memory: poison lose path pariah empty prophet worship decay deadwood', 'nothing Pre cycle suffer huh suck', 'hope mix bit european sets would love hear old stuff least teras new material bit bummer me', 'path fuck yes hope stay new haven', 'https://wwwsetlistfm/setlist/sylosis/2024/roxian-theatre-mckees-rocks-pa-4b509bd6html', 'title track either :(', \"yep that' me\", 'gotcha 😅 create feedback loop see clarification there try provide resource help'], ['give away ticket fit autopsy + sylosi (23rd november)', ''], ['shout conor', 'know sylosi go changes conor awesome chicago show stow away sign poster show nice chat after cool guy shreds', \"conor' awesome meet time sylosi gig always lovely\", 'conor guy run merch table ask rubber band poster double it'], ['what’ guy’ favourite song sylosis', 'also big download announcement 😎', 'tera', 'river', 'sky end mercy tie me', \"hard choose gut say procession what' yours\", 'don’t think pick one apparition convo edge earth masterpiece general', 'dystopia', '', 'apparition masterpiece', 'difficult list choose from apparation take lot elite', \"man tie literally first place can't ever choose others depending day manipulation idol bereave apparition sky end enshrine empyreal dead issue bear anew reflection fire edge earth alter state consciousness earth' dust tera serpent' tongue (i know it' long list favourite band)\", \"download look terrible sylosi embarrassingly low lol something monolith really wish they'd play anything live hide track special either quiescent\", 'tie apparition kingdom solitude', 'right now sour ground 🤘', 'alter state consciousness', 'dwell within leeche', 'tera', 'edge earth', 'propably deadwood like old stuff course something last two album me maybe ot low tunings deadwood bang start finish great open track really set mood album', 'disintegrate atm', 'paradox', '', 'favorite song definitely: quiescent servitude wither empyreal last least enshrined definitely favorite im lazy write them😔', 'black skyline sand time', 'eclipse follow procession oath silence fear world lifeless years subject change depending mood 😅', 'procession hand down one favorite song time point', 'beyond resurrect fate vulture', 'it’ tera deadwood', 'edge earth', 'anyone know malevolence follow subreddit r/malevolencemetal', 'kingdom solitude', 'quiescent', 'way rip riff apart end break neck every time', 'peak sylosis it’ literally everything make great band pack one track', 'adore choice sign thing come track may top', 'it\\' apparition me sprawl epic track every piece glorious outro (chef kiss) \"i become become powerlesssss\"', 'yesssss', 'end apparitions', 'earth dust', 'alone', \"what' fave list\", 'apparation must say', \"it' get all it' first song show at-the-time girlfriend listen metal indoctrinating\"], [\"cose - one us (bailey' new band)\", '', 'pretty meh imo still root well bailey', 'thats good even far clean metalcore singer go guy bad', \"love song pleasantly surprise amount clean vocals although bit whiny- sound chorus taste it' great hear bailey stuff song pack lot cool stuff within 4 minutes\", \"hop sylosi style - regrettably it' awfully generic bailey decade sylosi experience really want something vein\", \"yeah sound average i'm still excite hear them\", '\"i hop new band would sound like band choose leave\" 🤡🤡🤡', \"okay big brain tour commitment meet musical differences it' hardly stretch assume music would least flavoure sylosis\", \"he' sylosi play music decade say sylosi almost exclusively josh' write it' totally understandable bailey want try something completely different might still love sylosis would want replicate sound he' year never *his* vision begin with\"], ['set time', 'see sylosi tomorrow night (nov 15) house blue cleveland son (15) - huge fan 🤘🏼🤘🏼 3 hour road trip doesn’t get school 3:30 anyone know set time is like fit autopsy really interest sylosi i’m stress may drive way cleveland still miss some/all set head appreciate 👍🏼', 'usually go 7:15/7:20 pm judiciary play 6:30-7', 'You’re welcome They’re go stage detroit 7:10', 'kind steal show tour set tight', 'whew much appreciate help - make time 🤘🏼🤘🏼#facedowninthedirtagain 🤘🏼🤘🏼', 'enjoy show excite see tomorrow night hope it’ good crowd detroit tonight us cleveland tomorrow🤘🏼', 'totally agree tight polish still surprise second perform wish set longer steal show go cleveland show see sylosi leave set (took son early swim practice morning)so sure others (though like judiciary way think would since hadn’t listen them) weird see guitarist connor work merch line 10 minute set done glad get seem sylosi 👍🏼🤘🏼🤘🏼', 'frick sick enjoy it also guitarist work merch desk go say hi afternoon super nice dude', 'do👍🏼🤘🏼🤘🏼'], ['london ticket', \"might long-shot anyone unable go london show i'd happily take ticket (i'll pay ofc) :))\"], ['manchester spare ticket', 'delete rules spare ticket phone anyone want entry manchester gig weeks dm first come first serve'], ['metal merch store london', 'i’m travel christmas i’d love get recommendation place find sort metal band shirts poster cd/vinyl etc especially since sylosi also uk figure it’d easy find stuff home country thanks advance', 'likely luck probably find much give vinyl collection was Coaa - anniversary press limited website eote - original press limited repress sell website sell out monolith - unpressed dormant heart - rarely see it two variants co - website tend see it able pick asottc though', \"cool merch basingstoke sell band tees basingstoke probably 30-60 min away london train depending area london You're in idea would stock sylosi shirts i've see metal band like Gojira & cannibal corpse before\", 'honestly stuff mostly available site find copy co asottc vinyl store like hmv fopp probably find cd easily', 'get vinyl asottc hmv stores… almost 0% chance find merch'], ['people tend like dormant heart', \"first sylosi album i'd hear think great year i've notice fan josh state dislike album put least favourite odd me it' get great track like leech servitude victim & pawns\", 'love album ive never hear anyone call album bad maybe usda prime ribeye people consider album wagu also quiescent incredible josh amadeu middleton imo', \"certainly least favorite i'd put #3 list think main reason people band extent dislike transitional album kind like opeth view band three distinct eras: coclusion age mark end first edge earth mark begin second dormant heart end/middle child current era begin cycle suffering dh sound like identity crisis want let go old sound something bit different figure lead bit disjoint record favorite eote monolith love proggy/neo thrash centric sound time long solo eote favorite piece music ever written i'm glad band get recognition deserve honestly least favorite album sign thing come seem like sterilized streamline version use sound still like it' great compare absolute masterpiece produce before pales hear somewhere They're go eote vibe next album hop that' true\", 'album fire fuck know anyone would like top bottom hit edit: huge sylosi fanboy super bias imo sylosi never make bad track life listen lol', \"take practice ear enjoy album compare new stuff develop taste however it' one favorite them old stuff niche\", 'omg servitude one fave songs memory receive elbow face live result black eye stay forever lol', \"quiescent arguably best song they've ever write tie secret track monolith\", 'thing like weird pick scrape beeping sound thing ruin awesome mid riff build tomb title track intro riff never notice year weirdly Outta nowhere clear day josh say people studio notice either', 'think pretty good', \"it' monolith without quality\", 'honestly realise this really like lot', 'really like it probably favorite album', 'love album wolf come die favourite song album favourite sylosi album no', 'mercy still favourite song time', 'first album hear em favorite think monolith album josh’ peak vocal vocal performances especially end scream quiescent', 'one favorite album them back still play e standard whole album incredible dynamic well-thought-out plus love playthrough video singles', 'love', 'record first come people refer “and justice all-core” frame way brilliant album', 'love it friend consider one best album well', 'one favorite', 'still want release lyric quiescent', \"make sense put way regard new albums josh say They're work new album line last album separately work eote 2\", 'literally pull brain eote monolith goate', 'edge earth monolith dormant heart form trilogy opinion', 'remember play standard reunion show sound super heavy', \"i'd say disavow new ep too\", 'notice listens definitely stick every time hear', 'really admittedly never aware \"metalcore\" time think brilliant melodic thrash album (i know that\\' far know better)', 'like much prefer coaa; eote; old albums riff lyric-wise also co asottc peak opinion', 'megadeth cob log tour uk many moon past', 'sour ground best song path think near two', 'yeah josh even say it personally love record wouldn’t say metalcore all funny nod justice thrash style', 'you brother metal compare Wagyu usda prime', \"would've love see tour walk Venue dublin see cob walk onstage\", 'ur opinion monolith Deffo album get mad sylosis', \"like monolith favourite sylosi album come car early forget great is feel like come eote instead year would've lot better great song one\", 'die vain behind sun fear dog danglys show age sylosi fan 12 year minimum', 'honestly think monolith bad song maybe slightly good guitar tone (in opinion bit sharper) otherwise great album', 'bwtter tone conclusion yeah 4 week till manchester gig buzz'], ['sylosi dallas show 10/30', \"sorry repost reply early post want give sylosi proper recognition deserve patiently wait see live kill it know long-haired blonde guy front stage go ape shit sylosis wait 12 year see again f'n awesome great job dallas show josh company shout ty garrett ty badas young buck garrett recognize shrine sudio shirt guy make awesome night even better\", 'im go denver want know lineup fav metal band assume second billing poster show different', \"i'm see tomorrow i'm super stoke it' also bit upset first us tour twelve year skip many single stuff three new song bit overkill consider circumstances i'm try complain bit disappointing hear sever hope wait another decade see them\", 'correct second band perform'], ['dallas- cycle suffer', '', \"conor playing worry neck 😅 sound super tight here glad They're well across pond\", 'love see it tour hit area wish had', 'everyone', 'lineup poster show second last billing', 'dallas need move limbs hell get phone watch show', 'human bobblehead xd', 'middle section packed great turnout consider different rest lineup', '2nd band go'], ['live high voltage cd sale', '', 'guess may bit rarity purchase person festival day set recall'], ['dallas show', 'i like many others finally get see live tonight dallas really show them spend much merch booth typically do really hope i’m one i’d really love continue come america make money tours badly wish set longer high billing position still make month finally see them also granada bad metal Venue dallas i’ve 3 4 metal show last year sound awful every time', \"look like They're kill us great see hopefully continue go back next year trivium bfmv\", 'yeah go show them buy sign poster tour shirt conor merch table last bit tera fuck sick', 'go houston show crowd size disappointing first time get see since start listen 2011 yes also go crazy merch table connor wouldn’t let us tip lol ive hear take loss (being second act also criminal them) hopefully merch sale really help out', 'conor marshall run merch booth one show tell excite see back state since 2012 tell would come', 'huge fan 13 years heartbroke go wifey pregnant bad night/had work late anyway hope come back soon finally see one favorite band live', \"know long-haired blonde guy front stage go ape shit sylosis wait 12 year see again f'n awesome great job dallas show josh company shout ty garrett ty badas young buck garrett recognize shrine sudio shirt guy make awesome night even better\", \"know long-haired blonde guy front stage go ape shit sylosis wait 12 year see again f'n awesome great job dallas show josh company shout ty garrett ty badas young buck garrett recognize shrine sudio shirt guy make awesome night even better post log in🤦\\u200d♂️\", '[deleted]', \"yeah i'm happy They're gain traction cause really deserve it\", 'was throw hearing tera play low tuning sound awesome', 'They’re suppose support trivium april', 'second lineup 45 minute hour show start time right'], ['get see live yesterday first time sound great sad play 6 songs expect buy vinyl merch thing like sign poster', '', 'still don’t understand agree finally tour us first time decade 4th bill especially They’re deserving 2nd billing lineup', 'well great show ( unfortunate Venue poor turnout) boy put hell performance go little hard merch stand give em extra support', '6 song fuck tragic', 'hey too great show', 'houston 5 ft leave :) think sylosi engage crowd night apart maybe ffaa wish longer set also many good song pick catalog', 'yeah i’m go see denver huge fan see second last billing poster pretty disappointing it’ good unless get see first time', '100% agree 😖', 'omg seriously excite show find set 6 songs shit', 'really leave right distant idk go there'], ['make image base band think cool', '', 'kinda look like ai slop ngl', 'nahh josh wouldve paint good 😭', 'could totally see single art one old songs feel like pentagram bit nose sylosi though', 'need pentagram', 'may want specify ai use title next time hive mind hate ai imagery… neat image though [here mine make back](https://wwwredditcom/r/sylosis/s/cgsw8nlrjz)', 'like'], ['new guy great', \"get see first first time wait since 2010 get chance i'll always miss alex bailey ben great job work crowd great energy\", \"wish get meet josh i've look guitar play nearly half life almost buy one guitar packages sell could convince spend money\", 'saw first time last night well talk connor bit merch stand super cool run josh well rest voice understandably', \"post little digging feel also mention connor name since one actually take alex think name backwards (i'm still learn new guy sorry) he' also great cool dude short get go see them\", 'play first', \"wait connor' guitar instead bass dud must seriously talented able cover band like guy\", 'judiciary play first sylosi play second', \"throw post think ben replace alex dig social media realize it' connor ben new bassist\", 'yes is ask instagram stay second guitar ben take bass confirm it gonna miss bailey conor cool shit feel good take spot', 'already european tour bailey paternal leave time', 'thank', \"that' crazy prop him\", 'say since first announcement 😂 conor already incredible guitarist bassist tend guitarist also look vman slipknot also', \"joke he' get serious talent\", 'there’ high bar set quality sylosis They’re strict testament band', 'bassist metal band usually great guitarist'], ['manchester', 'anyone grab beer manchester show - i’m fairly new don’t know anyone who’ kind music Haha', 'cool pub venue remind b4 gig 🤘'], ['first time see them🤘🤘🤘', 'super stoke get see finally suck josh ben sick i’m grateful play all also pick one sign posters', 'listen whole \"conclusion age\" album remind much love band', 'it', 'new ep soooooo good', 'could definitely tell josh struggle vocals definitely look sick toughe out cut set short song believe music spot'], ['theme asottc', 'particular absent godless throne josh good lyricist many song interpret differently reason two resonate most interpretation songs especially since seem “emotional” song album', '*absent* unable emotionally support someone due depression that’ josh think think it’ also accept realization struggle prevent fully connect someone care about give piece time You’re able hop good enough don’t know josh speak *a godless throne* meaning interpretation it’ feeling life waste you someone else would deserving time given feeling You’re never enough enjoy thing You’re lucky have grapple fact You’re alive healthy someone (or multiple people) you’ve know care lose lives line “i’m deaf words i’m blind actions couldn’t sense change air see light refractions” interesting me first sentence might speak feeling depression able connect someone feel They’re communication meaningful way might also speak regret look back cry help didn’t initially notice maybe didn’t notice weren’t able save someone need you second sentence make think unimpressive nature death hear story people intuitively know someone close died like could sense pass feel absence leave even know died experience hasn’t case though; watch someone final moment intellectually know they’ve died there’ significant sign sensation air doesn’t change there’ visible spirit leave body can’t even see light fade eyes They’re one moment aren’t loss might emotionally catastrophic whole process death feel physically insignificant love one unceremoniously become piece matter look exactly like them longer them it’ even feel like spirit leave body rather vanish nonexistence world remain unchanged line “and i’ll wait ground swallow me close eye see it’ take you” also make think long someone who’ died feeling never reunion you’ll die upon death one remember lost reunion both you’ll vanished that’ case couldn’t least get time give couldn’t enjoy didn’t feel worthy of you maybe vanish isn’t bad knowledge could get life can yet They’re one lose life seem senseless unfair godless circumstances maybe godless throne refer chaotic sometimes cruel nature universe; there’ throne omnipotent love ruler orchestrate event world it’ seemingly vacant', 'idk absent vibe it godless throne recur theme throughout albums talk podcast say edge earth (the song) guilt feeling somehow know source go wrong godless throne there\\' line \"i know belong feel like i\\'ve wrong\" it\\' pretty self explanatory know it\\' guilt without source'], ['first time see guy live', 'short set due josh ben catch flu hope get well soon crowd new york go nut hopefully make enough merch sale comeback future', 'imagine get sylosis like genuinely wonder marshall’ feeling right now rush bet', 'bet amazing bailey still departure instant haven’t see interview can’t quite remember everything say post', 'last night take picture al corner play fantastic regardless sick', 'great shot', \"finally get see november come pittsburgh i've wait 11 year come back states\", \"saw lamb god tour 2013 it' crazy it' 11 year since last state  wish could catch tour 😞 love go support trivium/bullet valentine ascendancy/poison anniversary tour guy busy\", 'man Venue play (irving plaza) great sound may may rum coke’ hand haha pit intense 31 year old body headbange whole time good time', 'nah leave tour conor marshall take place believe bailey play final show band london farewell could wrong', 'hell yeah', 'thank you', '37 here play exactly would have cancel us tour get area bummed glad make home safe i’d probably overwhelm emotion ever get meet them i’d probably cry like Weirdo hahaha', \"london show' yet happen\", 'connor marshall band since 2019 switch bass guitar now new member / new bassist ben thomas', 'hahaha yeah man well hopefully you’ll get chance one day meet', 'get ya thank you'], ['2024 us tour merch', 'r', 'thanks posting can’t wait get one everything lol', 'cool thanks sharingill snag green one tomorroware hang merch ', 'hop 10 poster show whole tour wait last show see them', 'cool thanks sharingill snag green one tomorroware hang merch ', 'ok envious \\U0001f979', 'fuck bullshit skip toronto', 'fuck cool', 'hop decent spread see next year look pretty good', \"i'll tomorrow thanks head up\", 'conor'], ['set list', 'anybody know set list us tour i’m really hop play lifeless year 🤘', 'saw tn nyc set list 4 songs apparently josh bassist catch flu flight cut set short poison lost pariahscycle suffering deadwood', \"first show play 6 song i'm guess usual set list healthy poison lost pariahs cycle suffering teras worship decay deadwood\", 'sad don’t get credit deserve', 'play plus tera worship decay worcester', 'fuckin trash small setlist idk agree show shit billing', 'sad :(', \"They're literally 2nd bill seriously expect longer it' first time us like 11 years good play safe rather lose money\", \"it' dont write song edge 12 year old pimply boy mom box wine\", \"They're already lose lot money tour\", 'wait get 2nd billing poster tour bill 4th behind ffa bodysnatcher distant also 2nd bill band usually play 6 total songs even like sylosi play longer progressive songs get co headline billing ffa uk tour us tour get 4th billing least announce', 'ya check get 4th billing 2nd billing would’ve mean play 2nd lash reality 2nd opener jack shit set time make sense finally come us get 4th billing behind multiple small bands could’ve totally set tour someone could headline shit like', \"josh say They're take pretty big hit tour unfortunately\", 'incredibly sad hear josh say break heart', \"really sucks people i've talk say wanna see sylosi ffaa\", 'even though parkway drive put trash lately right way go tour sylosi actually make money us would tour bill like parkway trivium killswitch maybe even make suffer spiritbox sylosi new album fit category bit could see working plus hear courtney ask interview sylosis say \"josh get people sort hot bothered\" lmao', \"unfortunately that' way industry works i'm hop They're look investment hopefully pay long run\", 'ya exactly way hype see sylosi bodysnatcher distant truly clue get billing sylosi don’t get sylosi even agree tour get 4th billing make sense', 'open trivium bullet valentine next year still They’re pretty low bill tour it’ shame couldn’t get coheadline tour they’d actually get play decent length set clue courtney ever even ask josh/sylosis guess least know lol'], ['pedal solos', 'hey want ask josh ever use wah pedal solo live record so one anyone knows even matter Thx lot', \"https://wwwinstagramcom/tv/cy_4sthogiu/igsh=atd6mhv0ohf3dje2 seem like he' use regular dunlop crybaby use wah heavy crown deadwood pariah descent however use play solo live edit: also use wah solo servitude indoctrinated\", 'use wah descent', \"thank much i've look wah pedal know one get since many different one know think use official deadwood live video could wrong :) cheer mate\", \"You're welcome saw official fan-filme footage since start use wah plus saw live last year (basically stand front josh set) use wah probably use real amp anymore go straight quad cortex rig single pedal front him plus someone else might accidentally step pedal set\", \"ah ok get you guess it' way handy way nonetheless absolute killer sound can't wait december tour💪🏻\", 'too'], ['tour merch', 'anyone go see tour fit autopsy could see pic merch  i’m go show baltimore first time see sylosi curious merch available', 'photo 2 black shirts one tour shirt one green shirt black hoodie hat patch set sign poster', 'much sign poster remember', 'think $25 it\\' pretty funny sign name josh write \"josh\" plain text lol', 'haha hopefully still go last show tour'], ['god fuck damnit', '', 'yo it’ bailey usually use reddit watch rocket league clip get diy advice saw want say thanks support band year 🤙🏻 happy answer question get', 'damn bummer i’ve meet bailey time sylosi tour us early 2010 always personable guy band come talk fan Ime (they cool though) know alex wasn’t original member band band first discover Coaa era make kind sad josh remain member time first jamie rob carl alex left i’m curious see fill shoes sylosi continue shred release kick ass music without him it’ sad day longtime member step due hardship balance tour normal life wish best merch company grow family hopefully we’ll see return show he’ get time', \"maybe solo take him lol joke aside sad news he' great rhythm guitarist\", 'josh officially found member band remains hate happens', 'genuinely gutted this meet bailey couple time always super nice make time fans sylosi', \"damn that' sad wish best hope band find good replacement easy task\", '[deleted]', 'kick ass bummer also josh maybe ali/drummer kinda really matter part come create new music', 'that’ bummer', 'original member leave apart josh 🥲', 'thank sir legend also love quality allotment productions', 'understandable step away enjoy adulting instead tour 😂❤️', 'man thank service first time saw sylosi warsaw last december bumme beyond fathom know chance meet anymore', 'hey sylosi joint favourite band (alongside trivium) i’m glad get see guy get autograph bloodstock summer technical issue bummer though saw josh’ post new project cosen take look studio vid promising look forward hearing guy record', 'absolute chad thank wonderful music\\U0001fae1', \"what' rank rocket league what' hard skill do\", \"sylosi without you best luck remember take time loading chat girlfriend pulse maggot 2022 tell story tour whatnot always appreciate fan - thanks man still get pic set list frame home hahaha thanks riff good memories look forward cosen' music\", 'thank service \\U0001fae1 miss already', 'remember meeting way back 2011 believe band play three piece cause break arm something saw guy year later log guy great question want thank music wish best future', \"rocket league fan expect 🤣 watch esport side things so support team and/or players sad see leave guy favourite band since 15 instrumental direction head musically soundtrack best bad moment life yet still continue inspire me thank play big part that i'm look forward see cook future best bailey thanks tune memories\", 'saw guy tour aild log actually help jump car 4 morning tour bus die wait girl come us get back hang log show thanks that cool memory questions riff contribute song years think hear write majority sky end dwell within also time favorite track maybe memory associate them(performing writing studio) look forward cosen much support family move forward', 'play hoops i’m hoop main homie clown me i’m hoop god whoop ass', 'think saw play sylosi 10 time year - always great make happy present first highlight mention run you rob carl near bar tent sonisphere year that first time saw sylosi gig josh vocals seem like great bunch thanks memories good luck future', 'good luck fun future want ask gear relate stuff guy use wah pedal sylosi wanna use wah pedal new projects so recommend one cheers', 'saw guy norwich early year always super impress playing thanks memory best everything', \"they've already announce ben venom prison take place\", 'one', 'bailey found member sylosi always joshe band', 'pretty sure it’ll conor', \"let answer instead: yeah true believe cose tour heavily sylosis leave space family time carl' online market business stuff long left seem saw opportunity make cheddar pursue career\", 'cheer mate', 'sure come poland new project point :)', 'awesome agh man bloodstock show was… interesting yeah single soon 🤙🏻', 'thanks mate 🙏', 'peaked champ 3 flip reset training 😅 rank you', 'thanks mate 🙏 agh yes remember that birmingham brutally hot day end go play crazy golf road co aircon 😅', 'thanks mate yeah must america break arm climb flag pole motel many beer pole snap get top hit wrist impact fall break - merch tour instead 😅 brandon elli play black dahlia murder fill tour learn set 24 hour', 'listen thrash play rocket league perfect combo 🤙🏻 watch rlcs don’t support anyone particular always keen watch zen thanks kid word mate', 'Haha remember car jumping good time 🤙🏻 recently solo below top head old stuff contribute procession dwell within eclipsed love play song live asottc - pftl pariahs decent 👌 different old stuff love play stain humanity faster thrash ones even though They’re work right arm luckily josh start put like call “break riffs” chorus sever give right arm break bit mayhem continue 😅 serpent tounge big struggle play live it’ rapid love listen it depend mood i’m in', 'occasionally actually intrigue witness hoop main game that’ niche dedication dm epic id You’re game sometime', 'take conor’ place conor likely play guitar', \"play solo ep guess it' either saviour disavow\", 'think josh play one', \"go show josh' belief passion integrity band think that' great write himself care music' popular focus write quality modern heavy music really kinda like modern day chuck schuldiner death band sylosi josh' band Haha\", '[deleted]', 'according twitter acount guy name ben thomas link: https://xcom/sylosis/status/1844448542750015494t=f9etwk_lhon1w7ls82ujdtjj4utbrlfnqsnppdydpeu&s=19', 'first didn’t see bit questions favourite tour memories memory studio know lot us miss Tue old day youtube early day studio record video accessible (in english country garden)', \"good bring guy dyscarnate They're still band well can\", \"start 2016 peaked champ 2 can't play anymore somehow\", \"genuinely hot show i've hahaha\", 'diamond Iii back day hoop quit 5+ year get back month i’m plat lol suck much man there’ good hoop main could play with', \"possibly yeah assume ben take bailey' spot since he' primarily guitar player\", 'play one', \"carl found member  i'm read tbh remember sylosi Pre carl\", 'yep ben bassist now use venom prison fill tour bailey couldn’t due new child tour play song bristol', 'many memory list here’ highlights walk stage sonisphere look like crowd go back horizon terrify / exciting moment stage tour lamb god around us chris adler fan really care well tour make sure eat well generally look us go way us one nice dud meet big bands best thing studio witness josh record man human midi machine take scott atkin tight pretty much phase “too tight again” back use drink long tour exhaustion kick in it’ bind mistake happen well one time completely forget riff muscle memory fail me natural reaction stop play start kick pedals pretend tech issue join next riff top blag moment graspop festival al hit sample pad mistake trigger sample explicit adult cartoon start song again hand funny thing ever happen stage find youtube', 'great band great bloke 🤘🏻', 'yeah don’t play much anymore everyone’ good smurf ha love play dm epic id wanna play sometime', 'yeh fairly 99% certain ben play bass', \"ahhh cool where'd get that\", 'think was early day documentary mention think', \"what that' awesome connor good job tour\", \"> graspop festival al hit sample pad mistake trigger sample explicit adult cartoon start song again hand funny thing ever happen stage find youtube go dig i've never see lol https://wwwyoutubecom/watchv=h7_1287wlk8&t=1193 obligatory shout bailey fan perspective it' always sad see long time member move on champion sylosi stage off thanks awesome best luck future\", 'awesome story experiences thank take time reach us like this id like say ive fan sylosi since 2011 time favourite band (listen daily) suppose see guy montreal rv accident happened show cancel (thank god know one seriously hurt) plan see folk time travel mess it set see sylosi month us suck won’t there thank everything band im excite see/liste new project thanks', 'saw guy first time us log tour aboustely amazing 🔥🤘', 'hell yeah bro mine dalexyz', 'sound like him ask also say yeh', 'yeh bro epic name Jamie run Jamie slay channel', 'Haha that’ one thank mate mean lot 🤙🏻', 'agh yes crash happen one french speak part whole north america admin hospital nightmare 😅 enjoy show mate 🤙🏻', 'yeah jack harris tell know hang bailey times', \"yo i've watch stuff now\", 'thankssss']]\n"
          ]
        }
      ]
    },
    {
      "cell_type": "code",
      "source": [],
      "metadata": {
        "id": "KVht1ejpxa8t"
      },
      "execution_count": null,
      "outputs": []
    },
    {
      "cell_type": "code",
      "source": [
        "subreddit = 'finanzen'\n",
        "for submission in reddit.subreddit(subreddit).hot(limit=5):\n",
        "    print(submission.title)\n",
        "    print(submission.id)\n",
        "    submission.comments.replace_more(limit=None)\n",
        "    for comment in submission.comments.list():\n",
        "        print(comment.body)\n",
        "        print(\"----------------------------------------------\")\n",
        "\n",
        "\n",
        "#for submission in reddit.subreddit(\"test\").hot(limit=10):\n",
        "#    print(submission.title)\n",
        "#    print(submission.id)\n",
        "\n",
        "#submission = reddit.submission(\"1gmifua\")\n",
        "#submission.comments.replace_more(limit=None)\n",
        "#for comment in submission.comments.list():\n",
        "#    print(comment.body)\n",
        "#    print(\"----------------------------------------------\")\n",
        "\n",
        "submission = reddit.submission(\"1gmifua\")\n",
        "print(submission.score)\n",
        "comment = reddit.comment(\"lxw66nl\")\n",
        "print(comment.score)"
      ],
      "metadata": {
        "id": "lYA_Yss9V6Fy"
      },
      "execution_count": null,
      "outputs": []
    },
    {
      "cell_type": "code",
      "source": [],
      "metadata": {
        "id": "AJQsC_DTbylt"
      },
      "execution_count": null,
      "outputs": []
    },
    {
      "cell_type": "code",
      "source": [],
      "metadata": {
        "id": "QEjiexS9pRqm"
      },
      "execution_count": null,
      "outputs": []
    },
    {
      "cell_type": "code",
      "source": [
        "import matplotlib.pyplot as plt\n",
        "import numpy as np\n",
        "\n",
        "x = np.linspace(0, 10, 100)\n",
        "\n",
        "plt.plot(x, np.sin(x))\n",
        "plt.plot(x, np.cos(x))\n",
        "\n",
        "plt.show()"
      ],
      "metadata": {
        "id": "DKG3GTYD8yRJ"
      },
      "execution_count": null,
      "outputs": []
    },
    {
      "cell_type": "code",
      "source": [
        "!pip install HanTa\n",
        "from HanTa import HanoverTagger\n",
        "\n",
        "tagger_en = HanoverTagger.HanoverTagger('morphmodel_en.pgz')\n",
        "\n"
      ],
      "metadata": {
        "id": "R8RGAmbv166c",
        "colab": {
          "base_uri": "https://localhost:8080/"
        },
        "outputId": "9cd80c93-f626-4d30-f7eb-cef34c882bb5"
      },
      "execution_count": 1,
      "outputs": [
        {
          "output_type": "stream",
          "name": "stdout",
          "text": [
            "Collecting HanTa\n",
            "  Downloading HanTa-1.1.1-py3-none-any.whl.metadata (3.4 kB)\n",
            "Downloading HanTa-1.1.1-py3-none-any.whl (15.0 MB)\n",
            "\u001b[2K   \u001b[90m━━━━━━━━━━━━━━━━━━━━━━━━━━━━━━━━━━━━━━━━\u001b[0m \u001b[32m15.0/15.0 MB\u001b[0m \u001b[31m12.6 MB/s\u001b[0m eta \u001b[36m0:00:00\u001b[0m\n",
            "\u001b[?25hInstalling collected packages: HanTa\n",
            "Successfully installed HanTa-1.1.1\n"
          ]
        }
      ]
    },
    {
      "cell_type": "code",
      "source": [
        "print(tagger_en.analyze('driving'))\n",
        "print(type(tagger_en.analyze('driving')))\n",
        "print(tagger_en.analyze('driving')[0])"
      ],
      "metadata": {
        "id": "aF3D66-x2TZ_",
        "colab": {
          "base_uri": "https://localhost:8080/"
        },
        "outputId": "57e27f29-bda0-49a3-89be-a6fff0bfb4e8"
      },
      "execution_count": 2,
      "outputs": [
        {
          "output_type": "stream",
          "name": "stdout",
          "text": [
            "('drive', 'VBG')\n",
            "<class 'tuple'>\n",
            "drive\n"
          ]
        }
      ]
    },
    {
      "cell_type": "code",
      "source": [
        "from sklearn.decomposition import TruncatedSVD\n",
        "from sklearn.decomposition import LatentDirichletAllocation\n",
        "from sklearn.feature_extraction.text import TfidfVectorizer\n",
        "\n",
        "review_1 = \"Loved the sound, no battery issues\"\n",
        "review_2 = \"Sound quality is good; battery life not good\"\n",
        "vectorizer = TfidfVectorizer(use_idf = True,\n",
        "\tmax_features = 5,\n",
        "\tsmooth_idf=True)\n",
        "model = vectorizer.fit_transform([review_1, review_2])\n",
        "\n",
        "lda_model=LatentDirichletAllocation(n_components=2,learning_method=\n",
        "'online',random_state=42,max_iter=1)\n",
        "lda_top=lda_model.fit_transform(model)\n",
        "\n",
        "print(\"Review 1: \")\n",
        "for i,topic in enumerate(lda_top[0]):\n",
        "\tprint(\"Topic \",i,\": \",topic*100,\"%\")\n",
        "\n",
        "for i,topic in enumerate(lda_top[1]):\n",
        "\tprint(\"Topic \",i,\": \",topic*100,\"%\")"
      ],
      "metadata": {
        "id": "u2tBDdMSBgNb"
      },
      "execution_count": null,
      "outputs": []
    },
    {
      "cell_type": "code",
      "source": [
        "import requests\n",
        "\n",
        "\n",
        "\n",
        "# note that CLIENT_ID refers to 'personal use script' and SECRET_TOKEN to 'token'\n",
        "auth = requests.auth.HTTPBasicAuth(userdata.get('CLIENT_ID'), userdata.get('CLIENT_SECRET'))\n",
        "\n",
        "# here we pass our login method (password), username, and password\n",
        "data = {'grant_type': 'password',\n",
        "        'username': userdata.get('USERNAME'),\n",
        "        'password': userdata.get('PASSWORD')}\n",
        "\n",
        "# setup our header info, which gives reddit a brief description of our app\n",
        "headers = {'User-Agent': 'MyBot/0.0.1'}\n",
        "\n",
        "# send our request for an OAuth token\n",
        "res = requests.post('https://www.reddit.com/api/v1/access_token',\n",
        "                    auth=auth, data=data, headers=headers)\n",
        "\n",
        "# convert response to JSON and pull access_token value\n",
        "TOKEN = res.json()['access_token']\n",
        "\n",
        "# add authorization to our headers dictionary\n",
        "headers = {**headers, **{'Authorization': f\"bearer {TOKEN}\"}}\n",
        "\n",
        "# while the token is valid (~2 hours) we just add headers=headers to our requests\n",
        "requests.get('https://oauth.reddit.com/api/v1/me', headers=headers)"
      ],
      "metadata": {
        "id": "dMuoORVX3Ob2"
      },
      "execution_count": null,
      "outputs": []
    },
    {
      "cell_type": "code",
      "source": [
        "subreddit = 'de'\n",
        "limit = 50\n",
        "timeframe = 'all' #hour, day, week, month, year, all\n",
        "listing = 'top' # controversial, best, hot, new, random, rising, top\n",
        "\n",
        "url = f\"https://oauth.reddit.com/r/{subreddit}/{listing}?limit={limit}&t={timeframe}\"\n",
        "res = requests.get(url, headers=headers)\n",
        "\n",
        "import json\n",
        "#print(json.dumps(res.json(), indent=2))\n",
        "\n",
        "\n",
        "\n",
        "def find_values(id, json_repr):\n",
        "    results = []\n",
        "\n",
        "    def _decode_dict(a_dict):\n",
        "        try:\n",
        "            results.append(a_dict[id])\n",
        "        except KeyError:\n",
        "            pass\n",
        "        return a_dict\n",
        "\n",
        "    json.loads(json_repr, object_hook=_decode_dict) # Return value ignored.\n",
        "    return results\n",
        "\n",
        "\n",
        "import nltk\n",
        "nltk.download('stopwords')\n",
        "from nltk.corpus import stopwords\n",
        "\n",
        "# Import the wordcloud library\n",
        "from wordcloud import WordCloud# Join the different processed titles together.\n",
        "#long_string = ','.join(list(papers['paper_text_processed'].values))# Create a WordCloud object\n",
        "long_string = ' '.join(find_values('title', json.dumps(res.json())))\n",
        "#print(long_string)\n",
        "templist = [word for word in long_string.split() if word.lower() not in stopwords.words('german')]\n",
        "long_string = ' '.join(templist)\n",
        "\n",
        "#\n",
        "\n",
        "wordcloud = WordCloud(background_color=\"white\", max_words=5000, contour_width=3, contour_color='steelblue')# Generate a word cloud\n",
        "wordcloud.generate(long_string)# Visualize the word cloud\n",
        "wordcloud.to_image()\n",
        "\n"
      ],
      "metadata": {
        "id": "S4nOoReL3SwL"
      },
      "execution_count": null,
      "outputs": []
    },
    {
      "cell_type": "code",
      "source": [
        "subreddit = 'finanzen'\n",
        "limit = 5\n",
        "timeframe = 'week' #hour, day, week, month, year, all\n",
        "listing = 'top' # controversial, best, hot, new, random, rising, top\n",
        "id = '1gmifua'\n",
        "\n",
        "#http://www.reddit.com/r/\" + sub + \"/comments/\" + id + \".json?\",\n",
        "url = f\"https://oauth.reddit.com/r/{subreddit}/comments/{id}.json?\"\n",
        "res = requests.get(url, headers=headers)\n",
        "\n",
        "import json\n",
        "print(json.dumps(res.json(), indent=2))"
      ],
      "metadata": {
        "id": "yiwQHbrp3YZn"
      },
      "execution_count": null,
      "outputs": []
    }
  ]
}